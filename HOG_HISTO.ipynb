{
 "cells": [
  {
   "cell_type": "code",
   "execution_count": null,
   "metadata": {},
   "outputs": [],
   "source": [
    "from sklearn.preprocessing import LabelEncoder\n",
    "from sklearn.preprocessing import MinMaxScaler\n",
    "import numpy as np\n",
    "import mahotas\n",
    "import cv2\n",
    "import os\n",
    "import h5py\n",
    "images_per_class       = 800\n",
    "fixed_size             = tuple((256, 256))\n",
    "train_path             = \"dataset/train\"\n",
    "h5_train_data          = 'output/train_data.h5'\n",
    "h5_train_labels        = 'output/train_labels.h5'\n",
    "bins                   = 8"
   ]
  },
  {
   "cell_type": "code",
   "execution_count": null,
   "metadata": {},
   "outputs": [],
   "source": [
    "def rgb_bgr(image):\n",
    "    rgb_img = cv2.cvtColor(image, cv2.COLOR_BGR2RGB)\n",
    "    return rgb_img"
   ]
  },
  {
   "cell_type": "code",
   "execution_count": null,
   "metadata": {},
   "outputs": [],
   "source": [
    "def bgr_hsv(rgb_img):\n",
    "    hsv_img = cv2.cvtColor(rgb_img, cv2.COLOR_RGB2HSV)\n",
    "    return hsv_img"
   ]
  },
  {
   "cell_type": "code",
   "execution_count": null,
   "metadata": {},
   "outputs": [],
   "source": [
    "def img_segmentation(rgb_img,hsv_img):\n",
    "    lower_green = np.array([25,0,20])\n",
    "    upper_green = np.array([100,255,255])\n",
    "    healthy_mask = cv2.inRange(hsv_img, lower_green, upper_green)\n",
    "    result = cv2.bitwise_and(rgb_img,rgb_img, mask=healthy_mask)\n",
    "    lower_brown = np.array([10,0,10])\n",
    "    upper_brown = np.array([30,255,255])\n",
    "    disease_mask = cv2.inRange(hsv_img, lower_brown, upper_brown)\n",
    "    disease_result = cv2.bitwise_and(rgb_img, rgb_img, mask=disease_mask)\n",
    "    final_mask = healthy_mask + disease_mask\n",
    "    final_result = cv2.bitwise_and(rgb_img, rgb_img, mask=final_mask)\n",
    "    return final_result\n"
   ]
  },
  {
   "cell_type": "code",
   "execution_count": null,
   "metadata": {},
   "outputs": [],
   "source": [
    "# feature-descriptor-3: Color Histogram\n",
    "def fd_histogram(image, mask=None):\n",
    "    image = cv2.cvtColor(image, cv2.COLOR_BGR2HSV)\n",
    "    hist  = cv2.calcHist([image], [0, 1, 2], None, [bins, bins, bins], [0, 256, 0, 256, 0, 256])\n",
    "    cv2.normalize(hist, hist)\n",
    "    return hist.flatten()"
   ]
  },
  {
   "cell_type": "code",
   "execution_count": null,
   "metadata": {},
   "outputs": [],
   "source": [
    "train_labels = os.listdir(train_path)\n",
    "train_labels.sort()\n",
    "print(train_labels)\n",
    "HOG_HISTO=[]\n",
    "labels       = []"
   ]
  },
  {
   "cell_type": "code",
   "execution_count": null,
   "metadata": {},
   "outputs": [],
   "source": [
    "from skimage.feature import hog\n",
    "from skimage import exposure\n",
    "# loop over the training data sub-folders\n",
    "for training_name in train_labels:\n",
    "    # join the training data path and each species training folder\n",
    "    dir = os.path.join(train_path, training_name)\n",
    "    # get the current training label\n",
    "    current_label = training_name\n",
    "    # loop over the images in each sub-folder\n",
    "    for x in range(1,images_per_class+1):\n",
    "        # get the image file name\n",
    "        file = dir + \"/\" + str(x) + \".jpg\"\n",
    "        # read the image and resize it to a fixed-size\n",
    "        image = cv2.imread(file)\n",
    "        image = cv2.resize(image, fixed_size)\n",
    "        # Running Function Bit By Bit      \n",
    "        RGB_BGR       = rgb_bgr(image)\n",
    "        BGR_HSV       = bgr_hsv(RGB_BGR)\n",
    "        IMG_SEGMENT   = img_segmentation(RGB_BGR,BGR_HSV)\n",
    "        # Call for Global Fetaure Descriptors\n",
    "        gray_image = cv2.cvtColor(IMG_SEGMENT, cv2.COLOR_BGR2GRAY)\n",
    "        fd_hog = hog(gray_image, orientations=9, pixels_per_cell=(16,16), cells_per_block=(2, 2), transform_sqrt=True, block_norm='L2-Hys')\n",
    "        fv_histogram  = fd_histogram(IMG_SEGMENT)\n",
    "        # Concatenate \n",
    "        HH_feature = np.hstack([fv_histogram, fd_hog])\n",
    "        # update the list of labels and feature vectors\n",
    "        labels.append(current_label)\n",
    "        HOG_HISTO.append(HH_feature)\n",
    "\n",
    "    print(\"[STATUS] processed folder: {}\".format(current_label))\n",
    "\n",
    "print(\"[STATUS] completed Global Feature Extraction...\")"
   ]
  },
  {
   "cell_type": "code",
   "execution_count": null,
   "metadata": {},
   "outputs": [],
   "source": [
    "targetNames = np.unique(labels)\n",
    "le          = LabelEncoder()\n",
    "target      = le.fit_transform(labels)\n",
    "print(\"[STATUS] training labels encoded...\")"
   ]
  },
  {
   "cell_type": "code",
   "execution_count": null,
   "metadata": {},
   "outputs": [],
   "source": [
    "from sklearn.preprocessing import MinMaxScaler\n",
    "scaler            = MinMaxScaler(feature_range=(0, 1))\n",
    "rescaled_features = scaler.fit_transform(HOG_HISTO)\n",
    "print(\"[STATUS] feature vector normalized...\")"
   ]
  },
  {
   "cell_type": "code",
   "execution_count": null,
   "metadata": {},
   "outputs": [],
   "source": [
    "rescaled_features.shape"
   ]
  },
  {
   "cell_type": "code",
   "execution_count": null,
   "metadata": {},
   "outputs": [],
   "source": [
    "num_trees = 100\n",
    "test_size = 0.20\n",
    "seed      = 9"
   ]
  },
  {
   "cell_type": "code",
   "execution_count": null,
   "metadata": {},
   "outputs": [],
   "source": [
    "from sklearn.model_selection import train_test_split\n",
    "(trainDataHH, testDataHH, trainLabelsHH, testLabelsHH) = train_test_split(np.array(rescaled_features), np.array(target),test_size=test_size,random_state=seed)\n",
    "print(\"[STATUS] splitted train and test data...\")\n",
    "print(\"Train data  : {}\".format(trainDataHH.shape))\n",
    "print(\"Test data   : {}\".format(testDataHH.shape)) "
   ]
  },
  {
   "cell_type": "code",
   "execution_count": null,
   "metadata": {},
   "outputs": [],
   "source": [
    "import seaborn as sns\n",
    "from sklearn.metrics import accuracy_score\n",
    "from sklearn.ensemble import RandomForestClassifier\n",
    "from sklearn.metrics import confusion_matrix, accuracy_score, classification_report\n",
    "clf  = RandomForestClassifier(n_estimators=num_trees, random_state=seed)\n",
    "clf.fit(trainDataHH, trainLabelsHH)\n",
    "y_predict_RFC = clf.predict(testDataHH)\n",
    "cm_RFC = confusion_matrix(testLabelsHH, y_predict_RFC)\n",
    "print(classification_report(testLabelsHH, y_predict_RFC))\n",
    "accuracy_RFC = accuracy_score(testLabelsHH, y_predict_RFC)\n",
    "print(f\"Accuracy: {accuracy_RFC:}\")"
   ]
  },
  {
   "cell_type": "code",
   "execution_count": null,
   "metadata": {},
   "outputs": [],
   "source": [
    "y_predict_RFC\n"
   ]
  },
  {
   "cell_type": "code",
   "execution_count": null,
   "metadata": {},
   "outputs": [],
   "source": [
    "y_predict_RFC1 = clf.predict_proba(testDataHH)\n"
   ]
  },
  {
   "cell_type": "code",
   "execution_count": null,
   "metadata": {},
   "outputs": [],
   "source": [
    "y_predict_RFC1.shape"
   ]
  },
  {
   "cell_type": "code",
   "execution_count": null,
   "metadata": {},
   "outputs": [],
   "source": [
    "from sklearn.linear_model import LogisticRegression\n",
    "from sklearn.metrics import confusion_matrix, classification_report, accuracy_score\n",
    "import seaborn as sns\n",
    "clf2 = LogisticRegression(random_state=seed,max_iter=1000) \n",
    "clf2.fit(trainDataHH, trainLabelsHH)\n",
    "y_predict_logistic = clf2.predict(testDataHH)\n",
    "cm_logistic = confusion_matrix(testLabelsHH, y_predict_logistic)\n",
    "print(classification_report(testLabelsHH, y_predict_logistic))\n",
    "accuracy_logistic = accuracy_score(testLabelsHH, y_predict_logistic)\n",
    "print(f\"Accuracy: {accuracy_logistic:}\")\n"
   ]
  },
  {
   "cell_type": "code",
   "execution_count": null,
   "metadata": {},
   "outputs": [],
   "source": []
  },
  {
   "cell_type": "code",
   "execution_count": null,
   "metadata": {},
   "outputs": [],
   "source": [
    "from sklearn.neighbors import KNeighborsClassifier\n",
    "from sklearn.metrics import confusion_matrix, classification_report, accuracy_score\n",
    "import seaborn as sns\n",
    "clf3 = KNeighborsClassifier(n_neighbors=5) \n",
    "clf3.fit(trainDataHH, trainLabelsHH)\n",
    "y_predict_SNS = clf3.predict(testDataHH)\n",
    "cm_SNS = confusion_matrix(testLabelsHH, y_predict_SNS)\n",
    "print(classification_report(testLabelsHH, y_predict_SNS))\n",
    "accuracy_SNS = accuracy_score(testLabelsHH, y_predict_SNS)\n",
    "print(f\"Accuracy: {accuracy_SNS:}\")\n"
   ]
  },
  {
   "cell_type": "code",
   "execution_count": null,
   "metadata": {},
   "outputs": [],
   "source": [
    "from sklearn.tree import DecisionTreeClassifier\n",
    "from sklearn.metrics import confusion_matrix, classification_report, accuracy_score\n",
    "import seaborn as sns\n",
    "\n",
    "clf4 = DecisionTreeClassifier(random_state=seed)\n",
    "clf4.fit(trainDataHH, trainLabelsHH)\n",
    "y_predict_DTC = clf4.predict(testDataHH)\n",
    "cm_DTC = confusion_matrix(testLabelsHH, y_predict_DTC)\n",
    "print(classification_report(testLabelsHH, y_predict_DTC))\n",
    "accuracy_DTC = accuracy_score(testLabelsHH, y_predict_DTC)\n",
    "print(f\"Accuracy: {accuracy_DTC:}\")\n"
   ]
  },
  {
   "cell_type": "code",
   "execution_count": null,
   "metadata": {},
   "outputs": [],
   "source": [
    "from sklearn.naive_bayes import GaussianNB\n",
    "from sklearn.metrics import confusion_matrix, classification_report, accuracy_score\n",
    "import seaborn as sns\n",
    "\n",
    "clf5 = GaussianNB()\n",
    "clf5.fit(trainDataHH, trainLabelsHH)\n",
    "y_predict_GNB = clf5.predict(testDataHH)\n",
    "cm_GNB = confusion_matrix(testLabelsHH, y_predict_GNB)\n",
    "print(classification_report(testLabelsHH, y_predict_GNB))\n",
    "accuracy_GNB = accuracy_score(testLabelsHH, y_predict_GNB)\n",
    "print(f\"Accuracy: {accuracy_GNB:}\")\n"
   ]
  },
  {
   "cell_type": "code",
   "execution_count": null,
   "metadata": {},
   "outputs": [],
   "source": [
    "from sklearn.svm import SVC\n",
    "from sklearn.metrics import confusion_matrix, classification_report, accuracy_score\n",
    "import seaborn as sns\n",
    "\n",
    "clf6 = SVC(kernel='linear')\n",
    "clf6.fit(trainDataHH, trainLabelsHH)\n",
    "y_predict_SVC = clf6.predict(testDataHH)\n",
    "cm_SVC = confusion_matrix(testLabelsHH, y_predict_SVC)\n",
    "print(classification_report(testLabelsHH, y_predict_SVC))\n",
    "accuracy_svc = accuracy_score(testLabelsHH, y_predict_SVC)\n",
    "print(f\"Accuracy: {accuracy_svc:}\")\n"
   ]
  },
  {
   "cell_type": "code",
   "execution_count": null,
   "metadata": {},
   "outputs": [],
   "source": [
    "print(\"All Accuracy of Machine learning Models......\")\n",
    "print(f\"SVC Accuracy => {accuracy_svc}\")\n",
    "print(f\"Gaussian Naive Bayes Accuracy => {accuracy_GNB}\")\n",
    "print(f\"Decision Tree Classifier Accuracy => {accuracy_DTC}\")\n",
    "print(f\"Logistic Regression Accuracy => {accuracy_logistic}\")\n",
    "print(f\"k-nearest neighbors Accuracy => {accuracy_SNS}\")\n",
    "print(f\"Random Forest Classifier Accuracy =>{accuracy_RFC}\")"
   ]
  },
  {
   "cell_type": "code",
   "execution_count": null,
   "metadata": {},
   "outputs": [],
   "source": [
    "''' HOG 16*16\n",
    "All Accuracy of Machine learning Models......\n",
    "SVC Accuracy => 0.878125\n",
    "Gaussian Naive Bayes Accuracy => 0.871875\n",
    "Decision Tree Classifier Accuracy => 0.89375\n",
    "Logistic Regression Accuracy => 0.878125\n",
    "k-nearest neighbors Accuracy => 0.778125\n",
    "Random Forest Classifier Accuracy =>0.93125"
   ]
  },
  {
   "cell_type": "code",
   "execution_count": null,
   "metadata": {},
   "outputs": [],
   "source": [
    "'''  HOG 32,32\n",
    "All Accuracy of Machine learning Models......\n",
    "SVC Accuracy => 0.91875\n",
    "Gaussian Naive Bayes Accuracy => 0.8875\n",
    "Decision Tree Classifier Accuracy => 0.934375\n",
    "Logistic Regression Accuracy => 0.925\n",
    "k-nearest neighbors Accuracy => 0.803125\n",
    "Random Forest Classifier Accuracy =>0.953125"
   ]
  }
 ],
 "metadata": {
  "kernelspec": {
   "display_name": "deepenv",
   "language": "python",
   "name": "python3"
  },
  "language_info": {
   "codemirror_mode": {
    "name": "ipython",
    "version": 3
   },
   "file_extension": ".py",
   "mimetype": "text/x-python",
   "name": "python",
   "nbconvert_exporter": "python",
   "pygments_lexer": "ipython3",
   "version": "3.11.4"
  }
 },
 "nbformat": 4,
 "nbformat_minor": 2
}
