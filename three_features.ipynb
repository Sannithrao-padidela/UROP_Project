{
 "cells": [
  {
   "cell_type": "code",
   "execution_count": 1,
   "metadata": {},
   "outputs": [],
   "source": [
    "from sklearn.preprocessing import LabelEncoder\n",
    "from sklearn.preprocessing import MinMaxScaler\n",
    "import numpy as np\n",
    "import mahotas\n",
    "import cv2\n",
    "import os\n",
    "import h5py\n",
    "images_per_class       = 800\n",
    "fixed_size             = tuple((256, 256))\n",
    "train_path             = \"dataset/train\"\n",
    "h5_train_data          = 'output/train_data.h5'\n",
    "h5_train_labels        = 'output/train_labels.h5'\n",
    "bins                   = 8"
   ]
  },
  {
   "cell_type": "code",
   "execution_count": 2,
   "metadata": {},
   "outputs": [],
   "source": [
    "def rgb_bgr(image):\n",
    "    rgb_img = cv2.cvtColor(image, cv2.COLOR_BGR2RGB)\n",
    "    return rgb_img"
   ]
  },
  {
   "cell_type": "code",
   "execution_count": 3,
   "metadata": {},
   "outputs": [],
   "source": [
    "def bgr_hsv(rgb_img):\n",
    "    hsv_img = cv2.cvtColor(rgb_img, cv2.COLOR_RGB2HSV)\n",
    "    return hsv_img"
   ]
  },
  {
   "cell_type": "code",
   "execution_count": 4,
   "metadata": {},
   "outputs": [],
   "source": [
    "def img_segmentation(rgb_img,hsv_img):\n",
    "    lower_green = np.array([25,0,20])\n",
    "    upper_green = np.array([100,255,255])\n",
    "    healthy_mask = cv2.inRange(hsv_img, lower_green, upper_green)\n",
    "    result = cv2.bitwise_and(rgb_img,rgb_img, mask=healthy_mask)\n",
    "    lower_brown = np.array([10,0,10])\n",
    "    upper_brown = np.array([30,255,255])\n",
    "    disease_mask = cv2.inRange(hsv_img, lower_brown, upper_brown)\n",
    "    disease_result = cv2.bitwise_and(rgb_img, rgb_img, mask=disease_mask)\n",
    "    final_mask = healthy_mask + disease_mask\n",
    "    final_result = cv2.bitwise_and(rgb_img, rgb_img, mask=final_mask)\n",
    "    return final_result\n"
   ]
  },
  {
   "cell_type": "code",
   "execution_count": 5,
   "metadata": {},
   "outputs": [
    {
     "name": "stdout",
     "output_type": "stream",
     "text": [
      "['diseased', 'healthy']\n"
     ]
    }
   ],
   "source": [
    "train_labels = os.listdir(train_path)\n",
    "train_labels.sort()\n",
    "print(train_labels)\n",
    "Hog_features = []\n",
    "labels = []\n"
   ]
  },
  {
   "cell_type": "code",
   "execution_count": 6,
   "metadata": {},
   "outputs": [
    {
     "name": "stdout",
     "output_type": "stream",
     "text": [
      "[STATUS] processed folder: diseased\n",
      "[STATUS] processed folder: healthy\n",
      "[STATUS] completed Hog Feature Extraction...\n"
     ]
    }
   ],
   "source": [
    "from skimage.feature import hog\n",
    "from skimage import exposure\n",
    "for training_name in train_labels:\n",
    "    dir = os.path.join(train_path, training_name)\n",
    "    current_label = training_name\n",
    "    for x in range(1, images_per_class + 1):\n",
    "        file = os.path.join(dir, str(x) + \".jpg\")\n",
    "        image = cv2.imread(file)\n",
    "        image = cv2.resize(image, fixed_size)\n",
    "        RGB_BGR = rgb_bgr(image)\n",
    "        BGR_HSV = bgr_hsv(RGB_BGR)\n",
    "        IMG_SEGMENT = img_segmentation(RGB_BGR, BGR_HSV) \n",
    "        gray_image = cv2.cvtColor(IMG_SEGMENT, cv2.COLOR_BGR2GRAY)\n",
    "        fd_hog = hog(gray_image, orientations=9, pixels_per_cell=(8,8), cells_per_block=(2, 2), transform_sqrt=True, block_norm='L2-Hys')\n",
    "        labels.append(current_label)\n",
    "        Hog_features.append(fd_hog)\n",
    "    \n",
    "    print(\"[STATUS] processed folder: {}\".format(current_label))\n",
    "    \n",
    "print(\"[STATUS] completed Hog Feature Extraction...\")"
   ]
  },
  {
   "cell_type": "code",
   "execution_count": 7,
   "metadata": {},
   "outputs": [],
   "source": [
    "import os"
   ]
  },
  {
   "cell_type": "code",
   "execution_count": 8,
   "metadata": {},
   "outputs": [
    {
     "name": "stdout",
     "output_type": "stream",
     "text": [
      "[STATUS] feature vector size (1600, 34596)\n"
     ]
    }
   ],
   "source": [
    "print(\"[STATUS] feature vector size {}\".format(np.array(Hog_features).shape))"
   ]
  },
  {
   "cell_type": "code",
   "execution_count": 9,
   "metadata": {},
   "outputs": [
    {
     "name": "stdout",
     "output_type": "stream",
     "text": [
      "[STATUS] training labels encoded...\n"
     ]
    }
   ],
   "source": [
    "targetNames = np.unique(labels)\n",
    "le          = LabelEncoder()\n",
    "target      = le.fit_transform(labels)\n",
    "print(\"[STATUS] training labels encoded...\")"
   ]
  },
  {
   "cell_type": "code",
   "execution_count": 10,
   "metadata": {},
   "outputs": [
    {
     "name": "stdout",
     "output_type": "stream",
     "text": [
      "[STATUS] feature vector normalized...\n"
     ]
    }
   ],
   "source": [
    "from sklearn.preprocessing import MinMaxScaler\n",
    "scaler            = MinMaxScaler(feature_range=(0, 1))\n",
    "rescaled_features = scaler.fit_transform(Hog_features)\n",
    "print(\"[STATUS] feature vector normalized...\")"
   ]
  },
  {
   "cell_type": "code",
   "execution_count": 11,
   "metadata": {},
   "outputs": [
    {
     "data": {
      "text/plain": [
       "array([[0., 0., 0., ..., 0., 0., 0.],\n",
       "       [0., 0., 0., ..., 0., 0., 0.],\n",
       "       [0., 0., 0., ..., 0., 0., 0.],\n",
       "       ...,\n",
       "       [0., 0., 0., ..., 0., 0., 0.],\n",
       "       [0., 0., 0., ..., 0., 0., 0.],\n",
       "       [0., 0., 0., ..., 0., 0., 0.]])"
      ]
     },
     "execution_count": 11,
     "metadata": {},
     "output_type": "execute_result"
    }
   ],
   "source": [
    "rescaled_features"
   ]
  },
  {
   "cell_type": "code",
   "execution_count": 12,
   "metadata": {},
   "outputs": [
    {
     "data": {
      "text/plain": [
       "(1600, 34596)"
      ]
     },
     "execution_count": 12,
     "metadata": {},
     "output_type": "execute_result"
    }
   ],
   "source": [
    "rescaled_features.shape"
   ]
  },
  {
   "cell_type": "code",
   "execution_count": 13,
   "metadata": {},
   "outputs": [],
   "source": [
    "num_trees = 100\n",
    "test_size = 0.20\n",
    "seed      = 9"
   ]
  },
  {
   "cell_type": "code",
   "execution_count": 14,
   "metadata": {},
   "outputs": [
    {
     "name": "stdout",
     "output_type": "stream",
     "text": [
      "[STATUS] splitted train and test data...\n",
      "Train data  : (1280, 34596)\n",
      "Test data   : (320, 34596)\n"
     ]
    }
   ],
   "source": [
    "from sklearn.model_selection import train_test_split\n",
    "(trainDataHog, testDataHog, trainLabelsHog, testLabelsHog) = train_test_split(np.array(rescaled_features), np.array(target),test_size=test_size,random_state=seed)\n",
    "print(\"[STATUS] splitted train and test data...\")\n",
    "print(\"Train data  : {}\".format(trainDataHog.shape))\n",
    "print(\"Test data   : {}\".format(testDataHog.shape)) "
   ]
  },
  {
   "cell_type": "code",
   "execution_count": 15,
   "metadata": {},
   "outputs": [],
   "source": [
    "from sklearn.linear_model import LogisticRegression\n",
    "from sklearn.ensemble import RandomForestClassifier\n",
    "from sklearn.svm import SVC\n",
    "from sklearn.naive_bayes import GaussianNB\n",
    "from sklearn.tree import DecisionTreeClassifier\n",
    "from sklearn.neighbors import KNeighborsClassifier\n",
    "\n",
    "from sklearn.metrics import confusion_matrix, classification_report, accuracy_score\n",
    "import seaborn as sns\n",
    "\n",
    "#clf2  = RandomForestClassifier(n_estimators=num_trees, random_state=seed)\n",
    "#clf2 = KNeighborsClassifier(n_neighbors=5) \n",
    "#clf2 = DecisionTreeClassifier(random_state=seed)\n",
    "#clf2 = GaussianNB()\n",
    "clf2 = SVC(kernel='linear', probability=True)\n",
    "#clf2 = LogisticRegression(random_state=seed,max_iter=1000) \n",
    "clf2.fit(trainDataHog, trainLabelsHog)\n",
    "y_predict_Hog = clf2.predict_proba(testDataHog)"
   ]
  },
  {
   "cell_type": "code",
   "execution_count": 16,
   "metadata": {},
   "outputs": [
    {
     "data": {
      "text/plain": [
       "(320, 2)"
      ]
     },
     "execution_count": 16,
     "metadata": {},
     "output_type": "execute_result"
    }
   ],
   "source": [
    "y_predict_Hog.shape"
   ]
  },
  {
   "cell_type": "code",
   "execution_count": 17,
   "metadata": {},
   "outputs": [
    {
     "data": {
      "text/plain": [
       "array([[8.67975173e-01, 1.32024827e-01],\n",
       "       [2.54940002e-02, 9.74506000e-01],\n",
       "       [1.33745396e-01, 8.66254604e-01],\n",
       "       [9.15384286e-01, 8.46157144e-02],\n",
       "       [9.24325302e-01, 7.56746978e-02],\n",
       "       [2.29236950e-02, 9.77076305e-01],\n",
       "       [7.57530982e-02, 9.24246902e-01],\n",
       "       [5.80380504e-02, 9.41961950e-01],\n",
       "       [1.76331904e-01, 8.23668096e-01],\n",
       "       [7.47991376e-01, 2.52008624e-01],\n",
       "       [5.83057054e-01, 4.16942946e-01],\n",
       "       [2.02137326e-01, 7.97862674e-01],\n",
       "       [8.73978907e-01, 1.26021093e-01],\n",
       "       [6.61392245e-01, 3.38607755e-01],\n",
       "       [9.17837590e-01, 8.21624096e-02],\n",
       "       [2.32819808e-01, 7.67180192e-01],\n",
       "       [9.10639448e-01, 8.93605520e-02],\n",
       "       [5.12814281e-01, 4.87185719e-01],\n",
       "       [1.63734447e-01, 8.36265553e-01],\n",
       "       [2.04362978e-01, 7.95637022e-01],\n",
       "       [6.92109102e-02, 9.30789090e-01],\n",
       "       [1.42501695e-01, 8.57498305e-01],\n",
       "       [5.00000000e-01, 5.00000000e-01],\n",
       "       [2.12511831e-02, 9.78748817e-01],\n",
       "       [9.52437863e-01, 4.75621372e-02],\n",
       "       [8.08719372e-01, 1.91280628e-01],\n",
       "       [9.55012546e-01, 4.49874543e-02],\n",
       "       [8.58591746e-01, 1.41408254e-01],\n",
       "       [8.38662876e-01, 1.61337124e-01],\n",
       "       [9.81279777e-01, 1.87202230e-02],\n",
       "       [7.56848127e-02, 9.24315187e-01],\n",
       "       [1.70619534e-01, 8.29380466e-01],\n",
       "       [6.56009563e-01, 3.43990437e-01],\n",
       "       [6.84791748e-01, 3.15208252e-01],\n",
       "       [6.40322422e-01, 3.59677578e-01],\n",
       "       [9.93322585e-01, 6.67741516e-03],\n",
       "       [1.83324993e-01, 8.16675007e-01],\n",
       "       [1.53152568e-01, 8.46847432e-01],\n",
       "       [2.07875777e-01, 7.92124223e-01],\n",
       "       [4.27761624e-01, 5.72238376e-01],\n",
       "       [8.81207539e-01, 1.18792461e-01],\n",
       "       [7.25021508e-01, 2.74978492e-01],\n",
       "       [8.64620145e-01, 1.35379855e-01],\n",
       "       [2.49790759e-01, 7.50209241e-01],\n",
       "       [3.17452154e-01, 6.82547846e-01],\n",
       "       [2.84222267e-01, 7.15777733e-01],\n",
       "       [5.94901840e-01, 4.05098160e-01],\n",
       "       [4.65892446e-01, 5.34107554e-01],\n",
       "       [9.80841733e-01, 1.91582671e-02],\n",
       "       [9.01615533e-01, 9.83844675e-02],\n",
       "       [9.21731873e-02, 9.07826813e-01],\n",
       "       [9.31804434e-01, 6.81955658e-02],\n",
       "       [2.13516993e-01, 7.86483007e-01],\n",
       "       [7.79546076e-01, 2.20453924e-01],\n",
       "       [4.64823791e-01, 5.35176209e-01],\n",
       "       [1.19353519e-01, 8.80646481e-01],\n",
       "       [6.72577517e-01, 3.27422483e-01],\n",
       "       [9.03751593e-02, 9.09624841e-01],\n",
       "       [4.91610918e-01, 5.08389082e-01],\n",
       "       [4.64332211e-02, 9.53566779e-01],\n",
       "       [9.87991064e-01, 1.20089363e-02],\n",
       "       [8.21990910e-01, 1.78009090e-01],\n",
       "       [3.99019162e-01, 6.00980838e-01],\n",
       "       [7.30898598e-01, 2.69101402e-01],\n",
       "       [9.74389448e-01, 2.56105517e-02],\n",
       "       [9.98241562e-01, 1.75843796e-03],\n",
       "       [6.27305467e-01, 3.72694533e-01],\n",
       "       [3.27889372e-01, 6.72110628e-01],\n",
       "       [8.21228403e-01, 1.78771597e-01],\n",
       "       [4.94753107e-01, 5.05246893e-01],\n",
       "       [8.65171170e-01, 1.34828830e-01],\n",
       "       [6.58346451e-01, 3.41653549e-01],\n",
       "       [2.19699200e-02, 9.78030080e-01],\n",
       "       [9.99939620e-01, 6.03803624e-05],\n",
       "       [9.89702702e-01, 1.02972977e-02],\n",
       "       [6.15169869e-02, 9.38483013e-01],\n",
       "       [9.99466769e-01, 5.33230957e-04],\n",
       "       [1.14288120e-01, 8.85711880e-01],\n",
       "       [3.48066827e-01, 6.51933173e-01],\n",
       "       [9.69804398e-01, 3.01956015e-02],\n",
       "       [8.68822419e-02, 9.13117758e-01],\n",
       "       [2.39081280e-01, 7.60918720e-01],\n",
       "       [9.40185867e-01, 5.98141331e-02],\n",
       "       [3.18131911e-01, 6.81868089e-01],\n",
       "       [2.33781680e-01, 7.66218320e-01],\n",
       "       [2.76359389e-02, 9.72364061e-01],\n",
       "       [4.98100151e-02, 9.50189985e-01],\n",
       "       [2.67009051e-01, 7.32990949e-01],\n",
       "       [6.57844238e-01, 3.42155762e-01],\n",
       "       [2.96931736e-02, 9.70306826e-01],\n",
       "       [1.95369550e-02, 9.80463045e-01],\n",
       "       [5.21401644e-02, 9.47859836e-01],\n",
       "       [3.30439963e-01, 6.69560037e-01],\n",
       "       [1.13153708e-01, 8.86846292e-01],\n",
       "       [2.03080822e-01, 7.96919178e-01],\n",
       "       [5.79256346e-01, 4.20743654e-01],\n",
       "       [5.60131988e-02, 9.43986801e-01],\n",
       "       [3.91141755e-02, 9.60885825e-01],\n",
       "       [7.43318281e-02, 9.25668172e-01],\n",
       "       [5.77966145e-01, 4.22033855e-01],\n",
       "       [9.25561111e-01, 7.44388890e-02],\n",
       "       [9.63675115e-01, 3.63248846e-02],\n",
       "       [4.48737771e-01, 5.51262229e-01],\n",
       "       [3.68388104e-01, 6.31611896e-01],\n",
       "       [2.96781724e-01, 7.03218276e-01],\n",
       "       [6.76535103e-01, 3.23464897e-01],\n",
       "       [6.64052210e-02, 9.33594779e-01],\n",
       "       [6.80816902e-02, 9.31918310e-01],\n",
       "       [9.77987590e-01, 2.20124102e-02],\n",
       "       [1.60468039e-01, 8.39531961e-01],\n",
       "       [8.81707383e-01, 1.18292617e-01],\n",
       "       [1.45239089e-01, 8.54760911e-01],\n",
       "       [8.65459324e-01, 1.34540676e-01],\n",
       "       [7.15475762e-01, 2.84524238e-01],\n",
       "       [8.53421087e-02, 9.14657891e-01],\n",
       "       [3.79542298e-01, 6.20457702e-01],\n",
       "       [9.06832677e-01, 9.31673227e-02],\n",
       "       [5.92045912e-01, 4.07954088e-01],\n",
       "       [9.96253027e-01, 3.74697342e-03],\n",
       "       [7.25349654e-01, 2.74650346e-01],\n",
       "       [5.78533659e-02, 9.42146634e-01],\n",
       "       [7.23861726e-01, 2.76138274e-01],\n",
       "       [9.35864273e-01, 6.41357269e-02],\n",
       "       [8.47429476e-01, 1.52570524e-01],\n",
       "       [8.97081301e-01, 1.02918699e-01],\n",
       "       [8.91453864e-01, 1.08546136e-01],\n",
       "       [9.79688929e-01, 2.03110711e-02],\n",
       "       [8.66859244e-01, 1.33140756e-01],\n",
       "       [1.22939502e-01, 8.77060498e-01],\n",
       "       [1.55206405e-01, 8.44793595e-01],\n",
       "       [1.04744907e-01, 8.95255093e-01],\n",
       "       [2.76286661e-01, 7.23713339e-01],\n",
       "       [9.97144072e-01, 2.85592789e-03],\n",
       "       [2.59171306e-01, 7.40828694e-01],\n",
       "       [2.30268369e-01, 7.69731631e-01],\n",
       "       [3.98059778e-02, 9.60194022e-01],\n",
       "       [9.98173852e-01, 1.82614812e-03],\n",
       "       [7.97637876e-01, 2.02362124e-01],\n",
       "       [3.91168064e-01, 6.08831936e-01],\n",
       "       [2.02267353e-01, 7.97732647e-01],\n",
       "       [1.58805928e-01, 8.41194072e-01],\n",
       "       [8.29588881e-01, 1.70411119e-01],\n",
       "       [9.94671943e-01, 5.32805735e-03],\n",
       "       [9.99705682e-01, 2.94317527e-04],\n",
       "       [3.48647637e-01, 6.51352363e-01],\n",
       "       [4.95260058e-02, 9.50473994e-01],\n",
       "       [9.85385808e-01, 1.46141922e-02],\n",
       "       [3.02756503e-01, 6.97243497e-01],\n",
       "       [7.82078488e-01, 2.17921512e-01],\n",
       "       [1.52308588e-01, 8.47691412e-01],\n",
       "       [6.03356014e-01, 3.96643986e-01],\n",
       "       [1.89835916e-01, 8.10164084e-01],\n",
       "       [9.04112845e-01, 9.58871553e-02],\n",
       "       [3.52358962e-01, 6.47641038e-01],\n",
       "       [8.57217031e-01, 1.42782969e-01],\n",
       "       [9.86264805e-01, 1.37351954e-02],\n",
       "       [9.76868071e-02, 9.02313193e-01],\n",
       "       [1.94059338e-01, 8.05940662e-01],\n",
       "       [7.25982462e-01, 2.74017538e-01],\n",
       "       [9.88634302e-01, 1.13656980e-02],\n",
       "       [9.76093296e-01, 2.39067043e-02],\n",
       "       [2.24710631e-01, 7.75289369e-01],\n",
       "       [4.39334131e-01, 5.60665869e-01],\n",
       "       [3.44046137e-02, 9.65595386e-01],\n",
       "       [9.73460580e-01, 2.65394198e-02],\n",
       "       [1.47282943e-01, 8.52717057e-01],\n",
       "       [6.12610531e-01, 3.87389469e-01],\n",
       "       [9.89965361e-02, 9.01003464e-01],\n",
       "       [3.48829006e-01, 6.51170994e-01],\n",
       "       [7.23792701e-01, 2.76207299e-01],\n",
       "       [2.91927854e-01, 7.08072146e-01],\n",
       "       [3.66748501e-01, 6.33251499e-01],\n",
       "       [1.15631757e-01, 8.84368243e-01],\n",
       "       [4.79145117e-01, 5.20854883e-01],\n",
       "       [9.89551103e-01, 1.04488968e-02],\n",
       "       [9.73880347e-01, 2.61196532e-02],\n",
       "       [5.73933249e-01, 4.26066751e-01],\n",
       "       [9.24070924e-01, 7.59290765e-02],\n",
       "       [1.85317070e-01, 8.14682930e-01],\n",
       "       [2.16686298e-01, 7.83313702e-01],\n",
       "       [9.56214076e-01, 4.37859237e-02],\n",
       "       [9.97337537e-01, 2.66246313e-03],\n",
       "       [8.37719375e-02, 9.16228062e-01],\n",
       "       [9.98544201e-01, 1.45579909e-03],\n",
       "       [8.66995824e-01, 1.33004176e-01],\n",
       "       [8.45444791e-01, 1.54555209e-01],\n",
       "       [1.34256559e-01, 8.65743441e-01],\n",
       "       [5.85604148e-01, 4.14395852e-01],\n",
       "       [3.07382597e-01, 6.92617403e-01],\n",
       "       [9.32646658e-01, 6.73533424e-02],\n",
       "       [5.71007617e-01, 4.28992383e-01],\n",
       "       [2.30747535e-01, 7.69252465e-01],\n",
       "       [9.29745520e-02, 9.07025448e-01],\n",
       "       [9.61025595e-01, 3.89744046e-02],\n",
       "       [1.76250610e-01, 8.23749390e-01],\n",
       "       [9.18909377e-01, 8.10906226e-02],\n",
       "       [7.69336117e-01, 2.30663883e-01],\n",
       "       [2.32540766e-01, 7.67459234e-01],\n",
       "       [5.43271045e-01, 4.56728955e-01],\n",
       "       [2.61543339e-02, 9.73845666e-01],\n",
       "       [2.83510493e-01, 7.16489507e-01],\n",
       "       [9.90408637e-02, 9.00959136e-01],\n",
       "       [6.35288305e-01, 3.64711695e-01],\n",
       "       [5.83424317e-01, 4.16575683e-01],\n",
       "       [1.76538951e-01, 8.23461049e-01],\n",
       "       [3.65591760e-01, 6.34408240e-01],\n",
       "       [9.62109761e-01, 3.78902386e-02],\n",
       "       [8.26952391e-01, 1.73047609e-01],\n",
       "       [1.70094158e-02, 9.82990584e-01],\n",
       "       [1.63754540e-01, 8.36245460e-01],\n",
       "       [2.53818178e-01, 7.46181822e-01],\n",
       "       [9.78079972e-01, 2.19200283e-02],\n",
       "       [7.36302830e-02, 9.26369717e-01],\n",
       "       [1.62074994e-01, 8.37925006e-01],\n",
       "       [3.71613876e-02, 9.62838612e-01],\n",
       "       [1.94331079e-01, 8.05668921e-01],\n",
       "       [7.85017173e-01, 2.14982827e-01],\n",
       "       [7.46482133e-01, 2.53517867e-01],\n",
       "       [1.41848696e-01, 8.58151304e-01],\n",
       "       [2.21589410e-02, 9.77841059e-01],\n",
       "       [9.63196203e-01, 3.68037968e-02],\n",
       "       [7.98266324e-01, 2.01733676e-01],\n",
       "       [3.65833274e-01, 6.34166726e-01],\n",
       "       [5.88918098e-01, 4.11081902e-01],\n",
       "       [2.29470767e-01, 7.70529233e-01],\n",
       "       [1.72607384e-01, 8.27392616e-01],\n",
       "       [3.15854307e-01, 6.84145693e-01],\n",
       "       [5.67468165e-01, 4.32531835e-01],\n",
       "       [6.15822898e-01, 3.84177102e-01],\n",
       "       [9.99838714e-01, 1.61286232e-04],\n",
       "       [6.78379788e-01, 3.21620212e-01],\n",
       "       [2.80974155e-02, 9.71902585e-01],\n",
       "       [1.21868204e-01, 8.78131796e-01],\n",
       "       [9.27266459e-01, 7.27335411e-02],\n",
       "       [5.86673366e-01, 4.13326634e-01],\n",
       "       [2.04478820e-01, 7.95521180e-01],\n",
       "       [1.10431681e-01, 8.89568319e-01],\n",
       "       [5.31242541e-02, 9.46875746e-01],\n",
       "       [9.50883436e-01, 4.91165642e-02],\n",
       "       [8.39228980e-01, 1.60771020e-01],\n",
       "       [1.11837740e-01, 8.88162260e-01],\n",
       "       [9.64618135e-02, 9.03538187e-01],\n",
       "       [1.38430089e-02, 9.86156991e-01],\n",
       "       [9.18733684e-01, 8.12663165e-02],\n",
       "       [1.55406812e-01, 8.44593188e-01],\n",
       "       [4.99361503e-02, 9.50063850e-01],\n",
       "       [5.94841722e-02, 9.40515828e-01],\n",
       "       [6.25141581e-01, 3.74858419e-01],\n",
       "       [1.27646068e-01, 8.72353932e-01],\n",
       "       [1.07181623e-01, 8.92818377e-01],\n",
       "       [3.08928927e-01, 6.91071073e-01],\n",
       "       [9.74992049e-01, 2.50079506e-02],\n",
       "       [5.41175497e-01, 4.58824503e-01],\n",
       "       [7.20853123e-01, 2.79146877e-01],\n",
       "       [8.25782982e-01, 1.74217018e-01],\n",
       "       [9.99286937e-01, 7.13063003e-04],\n",
       "       [7.23467959e-01, 2.76532041e-01],\n",
       "       [2.94936330e-01, 7.05063670e-01],\n",
       "       [6.14842829e-01, 3.85157171e-01],\n",
       "       [1.05864927e-01, 8.94135073e-01],\n",
       "       [1.31150774e-01, 8.68849226e-01],\n",
       "       [2.74910835e-01, 7.25089165e-01],\n",
       "       [1.96727233e-02, 9.80327277e-01],\n",
       "       [1.46104508e-01, 8.53895492e-01],\n",
       "       [6.11043786e-01, 3.88956214e-01],\n",
       "       [6.94153999e-01, 3.05846001e-01],\n",
       "       [2.35009757e-01, 7.64990243e-01],\n",
       "       [8.98063199e-01, 1.01936801e-01],\n",
       "       [1.36199906e-01, 8.63800094e-01],\n",
       "       [9.93206516e-01, 6.79348430e-03],\n",
       "       [1.98422146e-01, 8.01577854e-01],\n",
       "       [9.94601523e-01, 5.39847706e-03],\n",
       "       [9.39717692e-01, 6.02823075e-02],\n",
       "       [5.44708632e-01, 4.55291368e-01],\n",
       "       [5.39354348e-01, 4.60645652e-01],\n",
       "       [5.17441274e-01, 4.82558726e-01],\n",
       "       [9.15142343e-01, 8.48576567e-02],\n",
       "       [8.79440883e-01, 1.20559117e-01],\n",
       "       [1.49987642e-01, 8.50012358e-01],\n",
       "       [4.91453598e-01, 5.08546402e-01],\n",
       "       [1.87107800e-01, 8.12892200e-01],\n",
       "       [4.19375956e-02, 9.58062404e-01],\n",
       "       [1.84626420e-01, 8.15373580e-01],\n",
       "       [2.48717271e-01, 7.51282729e-01],\n",
       "       [2.29942917e-01, 7.70057083e-01],\n",
       "       [4.50859945e-02, 9.54914006e-01],\n",
       "       [1.79994018e-01, 8.20005982e-01],\n",
       "       [9.36897181e-01, 6.31028195e-02],\n",
       "       [8.77025230e-01, 1.22974770e-01],\n",
       "       [1.36119631e-01, 8.63880369e-01],\n",
       "       [2.71441875e-02, 9.72855812e-01],\n",
       "       [1.54766259e-01, 8.45233741e-01],\n",
       "       [7.40617556e-01, 2.59382444e-01],\n",
       "       [5.08840823e-01, 4.91159177e-01],\n",
       "       [5.74796083e-02, 9.42520392e-01],\n",
       "       [1.97711106e-01, 8.02288894e-01],\n",
       "       [6.10625297e-01, 3.89374703e-01],\n",
       "       [1.79262178e-02, 9.82073782e-01],\n",
       "       [2.26148330e-01, 7.73851670e-01],\n",
       "       [4.16982230e-01, 5.83017770e-01],\n",
       "       [8.17993567e-01, 1.82006433e-01],\n",
       "       [8.71612106e-01, 1.28387894e-01],\n",
       "       [6.35719977e-01, 3.64280023e-01],\n",
       "       [2.99358351e-01, 7.00641649e-01],\n",
       "       [9.73262680e-01, 2.67373198e-02],\n",
       "       [4.26126219e-01, 5.73873781e-01],\n",
       "       [8.69562867e-01, 1.30437133e-01],\n",
       "       [9.94641258e-01, 5.35874234e-03],\n",
       "       [9.86319401e-01, 1.36805990e-02],\n",
       "       [1.11366094e-01, 8.88633906e-01],\n",
       "       [8.09966099e-01, 1.90033901e-01],\n",
       "       [6.24459157e-01, 3.75540843e-01],\n",
       "       [8.45188730e-02, 9.15481127e-01],\n",
       "       [3.03307900e-02, 9.69669210e-01],\n",
       "       [9.93585465e-01, 6.41453466e-03],\n",
       "       [7.82942213e-01, 2.17057787e-01],\n",
       "       [7.25940994e-01, 2.74059006e-01],\n",
       "       [6.52965873e-02, 9.34703413e-01],\n",
       "       [8.85920979e-01, 1.14079021e-01],\n",
       "       [7.96992951e-01, 2.03007049e-01]])"
      ]
     },
     "execution_count": 17,
     "metadata": {},
     "output_type": "execute_result"
    }
   ],
   "source": [
    "y_predict_Hog"
   ]
  },
  {
   "cell_type": "code",
   "execution_count": 18,
   "metadata": {},
   "outputs": [],
   "source": [
    "labels1 = []\n",
    "Histogram_features=[]"
   ]
  },
  {
   "cell_type": "code",
   "execution_count": 19,
   "metadata": {},
   "outputs": [],
   "source": [
    "# feature-descriptor-3: Color Histogram\n",
    "def fd_histogram(image, mask=None):\n",
    "    image = cv2.cvtColor(image, cv2.COLOR_BGR2HSV)\n",
    "    hist  = cv2.calcHist([image], [0, 1, 2], None, [bins, bins, bins], [0, 256, 0, 256, 0, 256])\n",
    "    cv2.normalize(hist, hist)\n",
    "    return hist.flatten()"
   ]
  },
  {
   "cell_type": "code",
   "execution_count": 20,
   "metadata": {},
   "outputs": [
    {
     "name": "stdout",
     "output_type": "stream",
     "text": [
      "[STATUS] processed folder: diseased\n",
      "[STATUS] processed folder: healthy\n",
      "[STATUS] completed Histogram Feature Extraction...\n"
     ]
    }
   ],
   "source": [
    "from skimage import exposure\n",
    "for training_name in train_labels:\n",
    "    dir = os.path.join(train_path, training_name)\n",
    "    current_label = training_name\n",
    "    for x in range(1, images_per_class + 1):\n",
    "        file = os.path.join(dir, str(x) + \".jpg\")\n",
    "        image = cv2.imread(file)\n",
    "        image = cv2.resize(image, fixed_size)\n",
    "        RGB_BGR = rgb_bgr(image)\n",
    "        BGR_HSV = bgr_hsv(RGB_BGR)\n",
    "        IMG_SEGMENT = img_segmentation(RGB_BGR, BGR_HSV) \n",
    "        fv_Histogram= fd_histogram(IMG_SEGMENT)\n",
    "        labels1.append(current_label)\n",
    "        Histogram_features.append(fv_Histogram)\n",
    "    \n",
    "    print(\"[STATUS] processed folder: {}\".format(current_label))\n",
    "    \n",
    "print(\"[STATUS] completed Histogram Feature Extraction...\")"
   ]
  },
  {
   "cell_type": "code",
   "execution_count": 21,
   "metadata": {},
   "outputs": [
    {
     "name": "stdout",
     "output_type": "stream",
     "text": [
      "[STATUS] feature vector size (1600, 512)\n"
     ]
    }
   ],
   "source": [
    "print(\"[STATUS] feature vector size {}\".format(np.array(Histogram_features).shape))"
   ]
  },
  {
   "cell_type": "code",
   "execution_count": 22,
   "metadata": {},
   "outputs": [
    {
     "name": "stdout",
     "output_type": "stream",
     "text": [
      "[STATUS] training Labels (1600,)\n"
     ]
    }
   ],
   "source": [
    "print(\"[STATUS] training Labels {}\".format(np.array(labels1).shape))"
   ]
  },
  {
   "cell_type": "code",
   "execution_count": 23,
   "metadata": {},
   "outputs": [
    {
     "name": "stdout",
     "output_type": "stream",
     "text": [
      "[STATUS] training labels encoded...\n"
     ]
    }
   ],
   "source": [
    "targetNames = np.unique(labels1)\n",
    "le          = LabelEncoder()\n",
    "target1      = le.fit_transform(labels1)\n",
    "print(\"[STATUS] training labels encoded...\")"
   ]
  },
  {
   "cell_type": "code",
   "execution_count": 24,
   "metadata": {},
   "outputs": [
    {
     "name": "stdout",
     "output_type": "stream",
     "text": [
      "[STATUS] feature vector normalized...\n"
     ]
    }
   ],
   "source": [
    "from sklearn.preprocessing import MinMaxScaler\n",
    "scaler            = MinMaxScaler(feature_range=(0, 1))\n",
    "rescaled_features1 = scaler.fit_transform(Histogram_features)\n",
    "print(\"[STATUS] feature vector normalized...\")"
   ]
  },
  {
   "cell_type": "code",
   "execution_count": 25,
   "metadata": {},
   "outputs": [
    {
     "data": {
      "text/plain": [
       "(1600, 512)"
      ]
     },
     "execution_count": 25,
     "metadata": {},
     "output_type": "execute_result"
    }
   ],
   "source": [
    "rescaled_features1.shape"
   ]
  },
  {
   "cell_type": "code",
   "execution_count": 26,
   "metadata": {},
   "outputs": [
    {
     "name": "stdout",
     "output_type": "stream",
     "text": [
      "[STATUS] splitted train and test data...\n",
      "Train data  : (1280, 512)\n",
      "Test data   : (320, 512)\n"
     ]
    }
   ],
   "source": [
    "from sklearn.model_selection import train_test_split\n",
    "(trainDataHistogram, testDataHistogram, trainLabelsHistogram, testLabelsHistogram) = train_test_split(np.array(rescaled_features1), np.array(target1),test_size=test_size,random_state=seed)\n",
    "print(\"[STATUS] splitted train and test data...\")\n",
    "print(\"Train data  : {}\".format(trainDataHistogram.shape))\n",
    "print(\"Test data   : {}\".format(testDataHistogram.shape)) "
   ]
  },
  {
   "cell_type": "code",
   "execution_count": 27,
   "metadata": {},
   "outputs": [
    {
     "data": {
      "text/plain": [
       "array([[0.89868999, 0.03427632, 0.        , ..., 0.        , 0.        ,\n",
       "        0.        ],\n",
       "       [0.97074117, 0.        , 0.        , ..., 0.        , 0.        ,\n",
       "        0.        ],\n",
       "       [0.96591603, 0.01332912, 0.02549925, ..., 0.        , 0.        ,\n",
       "        0.        ],\n",
       "       ...,\n",
       "       [0.9815963 , 0.01239635, 0.03557221, ..., 0.        , 0.        ,\n",
       "        0.        ],\n",
       "       [0.96860402, 0.01473364, 0.        , ..., 0.        , 0.        ,\n",
       "        0.        ],\n",
       "       [0.9613786 , 0.0379812 , 0.09687979, ..., 0.        , 0.        ,\n",
       "        0.        ]])"
      ]
     },
     "execution_count": 27,
     "metadata": {},
     "output_type": "execute_result"
    }
   ],
   "source": [
    "rescaled_features1"
   ]
  },
  {
   "cell_type": "code",
   "execution_count": 28,
   "metadata": {},
   "outputs": [],
   "source": [
    "import seaborn as sns\n",
    "from sklearn.metrics import accuracy_score\n",
    "from sklearn.ensemble import RandomForestClassifier\n",
    "from sklearn.linear_model import LogisticRegression\n",
    "from sklearn.svm import SVC\n",
    "from sklearn.naive_bayes import GaussianNB\n",
    "from sklearn.tree import DecisionTreeClassifier\n",
    "from sklearn.neighbors import KNeighborsClassifier\n",
    "from sklearn.metrics import confusion_matrix, accuracy_score, classification_report\n",
    "#clf  = RandomForestClassifier(n_estimators=num_trees, random_state=seed)\n",
    "#clf = LogisticRegression(random_state=seed,max_iter=1000) \n",
    "#clf = KNeighborsClassifier(n_neighbors=5) \n",
    "clf = DecisionTreeClassifier(random_state=seed)\n",
    "#clf = GaussianNB()\n",
    "#clf = SVC(kernel='linear', probability=True)\n",
    "\n",
    "clf.fit(trainDataHistogram, trainLabelsHistogram)\n",
    "y_predict_Histo = clf.predict_proba(testDataHistogram)\n"
   ]
  },
  {
   "cell_type": "code",
   "execution_count": 29,
   "metadata": {},
   "outputs": [
    {
     "data": {
      "text/plain": [
       "(320, 2)"
      ]
     },
     "execution_count": 29,
     "metadata": {},
     "output_type": "execute_result"
    }
   ],
   "source": [
    "y_predict_Histo.shape"
   ]
  },
  {
   "cell_type": "code",
   "execution_count": 30,
   "metadata": {},
   "outputs": [
    {
     "data": {
      "text/plain": [
       "array([[1., 0.],\n",
       "       [0., 1.],\n",
       "       [0., 1.],\n",
       "       [1., 0.],\n",
       "       [1., 0.],\n",
       "       [0., 1.],\n",
       "       [0., 1.],\n",
       "       [0., 1.],\n",
       "       [1., 0.],\n",
       "       [0., 1.],\n",
       "       [0., 1.],\n",
       "       [0., 1.],\n",
       "       [1., 0.],\n",
       "       [1., 0.],\n",
       "       [1., 0.],\n",
       "       [0., 1.],\n",
       "       [0., 1.],\n",
       "       [0., 1.],\n",
       "       [1., 0.],\n",
       "       [0., 1.],\n",
       "       [0., 1.],\n",
       "       [0., 1.],\n",
       "       [1., 0.],\n",
       "       [0., 1.],\n",
       "       [1., 0.],\n",
       "       [1., 0.],\n",
       "       [1., 0.],\n",
       "       [0., 1.],\n",
       "       [1., 0.],\n",
       "       [0., 1.],\n",
       "       [0., 1.],\n",
       "       [0., 1.],\n",
       "       [1., 0.],\n",
       "       [1., 0.],\n",
       "       [0., 1.],\n",
       "       [1., 0.],\n",
       "       [0., 1.],\n",
       "       [1., 0.],\n",
       "       [0., 1.],\n",
       "       [1., 0.],\n",
       "       [1., 0.],\n",
       "       [1., 0.],\n",
       "       [1., 0.],\n",
       "       [1., 0.],\n",
       "       [0., 1.],\n",
       "       [1., 0.],\n",
       "       [1., 0.],\n",
       "       [1., 0.],\n",
       "       [1., 0.],\n",
       "       [1., 0.],\n",
       "       [0., 1.],\n",
       "       [1., 0.],\n",
       "       [0., 1.],\n",
       "       [1., 0.],\n",
       "       [1., 0.],\n",
       "       [0., 1.],\n",
       "       [0., 1.],\n",
       "       [0., 1.],\n",
       "       [0., 1.],\n",
       "       [0., 1.],\n",
       "       [0., 1.],\n",
       "       [1., 0.],\n",
       "       [0., 1.],\n",
       "       [1., 0.],\n",
       "       [1., 0.],\n",
       "       [1., 0.],\n",
       "       [0., 1.],\n",
       "       [0., 1.],\n",
       "       [0., 1.],\n",
       "       [1., 0.],\n",
       "       [1., 0.],\n",
       "       [1., 0.],\n",
       "       [0., 1.],\n",
       "       [0., 1.],\n",
       "       [1., 0.],\n",
       "       [0., 1.],\n",
       "       [1., 0.],\n",
       "       [0., 1.],\n",
       "       [1., 0.],\n",
       "       [1., 0.],\n",
       "       [0., 1.],\n",
       "       [0., 1.],\n",
       "       [1., 0.],\n",
       "       [0., 1.],\n",
       "       [0., 1.],\n",
       "       [0., 1.],\n",
       "       [0., 1.],\n",
       "       [1., 0.],\n",
       "       [1., 0.],\n",
       "       [0., 1.],\n",
       "       [0., 1.],\n",
       "       [0., 1.],\n",
       "       [0., 1.],\n",
       "       [0., 1.],\n",
       "       [0., 1.],\n",
       "       [0., 1.],\n",
       "       [0., 1.],\n",
       "       [0., 1.],\n",
       "       [0., 1.],\n",
       "       [0., 1.],\n",
       "       [1., 0.],\n",
       "       [1., 0.],\n",
       "       [0., 1.],\n",
       "       [0., 1.],\n",
       "       [0., 1.],\n",
       "       [1., 0.],\n",
       "       [0., 1.],\n",
       "       [0., 1.],\n",
       "       [1., 0.],\n",
       "       [0., 1.],\n",
       "       [1., 0.],\n",
       "       [1., 0.],\n",
       "       [1., 0.],\n",
       "       [1., 0.],\n",
       "       [0., 1.],\n",
       "       [0., 1.],\n",
       "       [1., 0.],\n",
       "       [0., 1.],\n",
       "       [1., 0.],\n",
       "       [0., 1.],\n",
       "       [0., 1.],\n",
       "       [1., 0.],\n",
       "       [1., 0.],\n",
       "       [1., 0.],\n",
       "       [1., 0.],\n",
       "       [1., 0.],\n",
       "       [1., 0.],\n",
       "       [1., 0.],\n",
       "       [0., 1.],\n",
       "       [1., 0.],\n",
       "       [0., 1.],\n",
       "       [0., 1.],\n",
       "       [1., 0.],\n",
       "       [0., 1.],\n",
       "       [1., 0.],\n",
       "       [0., 1.],\n",
       "       [1., 0.],\n",
       "       [1., 0.],\n",
       "       [1., 0.],\n",
       "       [0., 1.],\n",
       "       [0., 1.],\n",
       "       [1., 0.],\n",
       "       [1., 0.],\n",
       "       [1., 0.],\n",
       "       [0., 1.],\n",
       "       [0., 1.],\n",
       "       [1., 0.],\n",
       "       [1., 0.],\n",
       "       [1., 0.],\n",
       "       [0., 1.],\n",
       "       [1., 0.],\n",
       "       [0., 1.],\n",
       "       [1., 0.],\n",
       "       [0., 1.],\n",
       "       [1., 0.],\n",
       "       [1., 0.],\n",
       "       [0., 1.],\n",
       "       [0., 1.],\n",
       "       [1., 0.],\n",
       "       [1., 0.],\n",
       "       [1., 0.],\n",
       "       [0., 1.],\n",
       "       [1., 0.],\n",
       "       [0., 1.],\n",
       "       [1., 0.],\n",
       "       [0., 1.],\n",
       "       [1., 0.],\n",
       "       [0., 1.],\n",
       "       [1., 0.],\n",
       "       [1., 0.],\n",
       "       [0., 1.],\n",
       "       [1., 0.],\n",
       "       [0., 1.],\n",
       "       [1., 0.],\n",
       "       [1., 0.],\n",
       "       [1., 0.],\n",
       "       [1., 0.],\n",
       "       [1., 0.],\n",
       "       [0., 1.],\n",
       "       [0., 1.],\n",
       "       [1., 0.],\n",
       "       [1., 0.],\n",
       "       [0., 1.],\n",
       "       [1., 0.],\n",
       "       [1., 0.],\n",
       "       [0., 1.],\n",
       "       [0., 1.],\n",
       "       [0., 1.],\n",
       "       [0., 1.],\n",
       "       [1., 0.],\n",
       "       [0., 1.],\n",
       "       [0., 1.],\n",
       "       [0., 1.],\n",
       "       [1., 0.],\n",
       "       [1., 0.],\n",
       "       [1., 0.],\n",
       "       [1., 0.],\n",
       "       [1., 0.],\n",
       "       [1., 0.],\n",
       "       [0., 1.],\n",
       "       [0., 1.],\n",
       "       [0., 1.],\n",
       "       [1., 0.],\n",
       "       [1., 0.],\n",
       "       [1., 0.],\n",
       "       [0., 1.],\n",
       "       [1., 0.],\n",
       "       [1., 0.],\n",
       "       [0., 1.],\n",
       "       [0., 1.],\n",
       "       [1., 0.],\n",
       "       [1., 0.],\n",
       "       [0., 1.],\n",
       "       [0., 1.],\n",
       "       [0., 1.],\n",
       "       [0., 1.],\n",
       "       [1., 0.],\n",
       "       [0., 1.],\n",
       "       [0., 1.],\n",
       "       [0., 1.],\n",
       "       [1., 0.],\n",
       "       [1., 0.],\n",
       "       [0., 1.],\n",
       "       [1., 0.],\n",
       "       [0., 1.],\n",
       "       [0., 1.],\n",
       "       [1., 0.],\n",
       "       [1., 0.],\n",
       "       [1., 0.],\n",
       "       [1., 0.],\n",
       "       [1., 0.],\n",
       "       [1., 0.],\n",
       "       [0., 1.],\n",
       "       [1., 0.],\n",
       "       [0., 1.],\n",
       "       [0., 1.],\n",
       "       [1., 0.],\n",
       "       [1., 0.],\n",
       "       [1., 0.],\n",
       "       [0., 1.],\n",
       "       [1., 0.],\n",
       "       [0., 1.],\n",
       "       [0., 1.],\n",
       "       [1., 0.],\n",
       "       [0., 1.],\n",
       "       [0., 1.],\n",
       "       [0., 1.],\n",
       "       [1., 0.],\n",
       "       [0., 1.],\n",
       "       [0., 1.],\n",
       "       [1., 0.],\n",
       "       [1., 0.],\n",
       "       [1., 0.],\n",
       "       [1., 0.],\n",
       "       [1., 0.],\n",
       "       [1., 0.],\n",
       "       [1., 0.],\n",
       "       [1., 0.],\n",
       "       [0., 1.],\n",
       "       [0., 1.],\n",
       "       [0., 1.],\n",
       "       [0., 1.],\n",
       "       [1., 0.],\n",
       "       [0., 1.],\n",
       "       [0., 1.],\n",
       "       [1., 0.],\n",
       "       [0., 1.],\n",
       "       [1., 0.],\n",
       "       [1., 0.],\n",
       "       [1., 0.],\n",
       "       [0., 1.],\n",
       "       [1., 0.],\n",
       "       [1., 0.],\n",
       "       [1., 0.],\n",
       "       [1., 0.],\n",
       "       [0., 1.],\n",
       "       [1., 0.],\n",
       "       [1., 0.],\n",
       "       [0., 1.],\n",
       "       [1., 0.],\n",
       "       [0., 1.],\n",
       "       [0., 1.],\n",
       "       [1., 0.],\n",
       "       [0., 1.],\n",
       "       [1., 0.],\n",
       "       [0., 1.],\n",
       "       [0., 1.],\n",
       "       [0., 1.],\n",
       "       [0., 1.],\n",
       "       [0., 1.],\n",
       "       [0., 1.],\n",
       "       [0., 1.],\n",
       "       [0., 1.],\n",
       "       [1., 0.],\n",
       "       [0., 1.],\n",
       "       [0., 1.],\n",
       "       [0., 1.],\n",
       "       [0., 1.],\n",
       "       [0., 1.],\n",
       "       [1., 0.],\n",
       "       [1., 0.],\n",
       "       [0., 1.],\n",
       "       [1., 0.],\n",
       "       [1., 0.],\n",
       "       [1., 0.],\n",
       "       [1., 0.],\n",
       "       [0., 1.],\n",
       "       [1., 0.],\n",
       "       [1., 0.],\n",
       "       [0., 1.],\n",
       "       [1., 0.],\n",
       "       [1., 0.],\n",
       "       [0., 1.],\n",
       "       [0., 1.],\n",
       "       [0., 1.],\n",
       "       [1., 0.],\n",
       "       [1., 0.],\n",
       "       [0., 1.],\n",
       "       [1., 0.],\n",
       "       [1., 0.]])"
      ]
     },
     "execution_count": 30,
     "metadata": {},
     "output_type": "execute_result"
    }
   ],
   "source": [
    "y_predict_Histo"
   ]
  },
  {
   "cell_type": "code",
   "execution_count": 31,
   "metadata": {},
   "outputs": [],
   "source": [
    "import numpy as np\n",
    "final=np.multiply(y_predict_Hog ,y_predict_Histo)"
   ]
  },
  {
   "cell_type": "code",
   "execution_count": 32,
   "metadata": {},
   "outputs": [
    {
     "data": {
      "text/plain": [
       "array([[8.67975173e-01, 0.00000000e+00],\n",
       "       [0.00000000e+00, 9.74506000e-01],\n",
       "       [0.00000000e+00, 8.66254604e-01],\n",
       "       [9.15384286e-01, 0.00000000e+00],\n",
       "       [9.24325302e-01, 0.00000000e+00],\n",
       "       [0.00000000e+00, 9.77076305e-01],\n",
       "       [0.00000000e+00, 9.24246902e-01],\n",
       "       [0.00000000e+00, 9.41961950e-01],\n",
       "       [1.76331904e-01, 0.00000000e+00],\n",
       "       [0.00000000e+00, 2.52008624e-01],\n",
       "       [0.00000000e+00, 4.16942946e-01],\n",
       "       [0.00000000e+00, 7.97862674e-01],\n",
       "       [8.73978907e-01, 0.00000000e+00],\n",
       "       [6.61392245e-01, 0.00000000e+00],\n",
       "       [9.17837590e-01, 0.00000000e+00],\n",
       "       [0.00000000e+00, 7.67180192e-01],\n",
       "       [0.00000000e+00, 8.93605520e-02],\n",
       "       [0.00000000e+00, 4.87185719e-01],\n",
       "       [1.63734447e-01, 0.00000000e+00],\n",
       "       [0.00000000e+00, 7.95637022e-01],\n",
       "       [0.00000000e+00, 9.30789090e-01],\n",
       "       [0.00000000e+00, 8.57498305e-01],\n",
       "       [5.00000000e-01, 0.00000000e+00],\n",
       "       [0.00000000e+00, 9.78748817e-01],\n",
       "       [9.52437863e-01, 0.00000000e+00],\n",
       "       [8.08719372e-01, 0.00000000e+00],\n",
       "       [9.55012546e-01, 0.00000000e+00],\n",
       "       [0.00000000e+00, 1.41408254e-01],\n",
       "       [8.38662876e-01, 0.00000000e+00],\n",
       "       [0.00000000e+00, 1.87202230e-02],\n",
       "       [0.00000000e+00, 9.24315187e-01],\n",
       "       [0.00000000e+00, 8.29380466e-01],\n",
       "       [6.56009563e-01, 0.00000000e+00],\n",
       "       [6.84791748e-01, 0.00000000e+00],\n",
       "       [0.00000000e+00, 3.59677578e-01],\n",
       "       [9.93322585e-01, 0.00000000e+00],\n",
       "       [0.00000000e+00, 8.16675007e-01],\n",
       "       [1.53152568e-01, 0.00000000e+00],\n",
       "       [0.00000000e+00, 7.92124223e-01],\n",
       "       [4.27761624e-01, 0.00000000e+00],\n",
       "       [8.81207539e-01, 0.00000000e+00],\n",
       "       [7.25021508e-01, 0.00000000e+00],\n",
       "       [8.64620145e-01, 0.00000000e+00],\n",
       "       [2.49790759e-01, 0.00000000e+00],\n",
       "       [0.00000000e+00, 6.82547846e-01],\n",
       "       [2.84222267e-01, 0.00000000e+00],\n",
       "       [5.94901840e-01, 0.00000000e+00],\n",
       "       [4.65892446e-01, 0.00000000e+00],\n",
       "       [9.80841733e-01, 0.00000000e+00],\n",
       "       [9.01615533e-01, 0.00000000e+00],\n",
       "       [0.00000000e+00, 9.07826813e-01],\n",
       "       [9.31804434e-01, 0.00000000e+00],\n",
       "       [0.00000000e+00, 7.86483007e-01],\n",
       "       [7.79546076e-01, 0.00000000e+00],\n",
       "       [4.64823791e-01, 0.00000000e+00],\n",
       "       [0.00000000e+00, 8.80646481e-01],\n",
       "       [0.00000000e+00, 3.27422483e-01],\n",
       "       [0.00000000e+00, 9.09624841e-01],\n",
       "       [0.00000000e+00, 5.08389082e-01],\n",
       "       [0.00000000e+00, 9.53566779e-01],\n",
       "       [0.00000000e+00, 1.20089363e-02],\n",
       "       [8.21990910e-01, 0.00000000e+00],\n",
       "       [0.00000000e+00, 6.00980838e-01],\n",
       "       [7.30898598e-01, 0.00000000e+00],\n",
       "       [9.74389448e-01, 0.00000000e+00],\n",
       "       [9.98241562e-01, 0.00000000e+00],\n",
       "       [0.00000000e+00, 3.72694533e-01],\n",
       "       [0.00000000e+00, 6.72110628e-01],\n",
       "       [0.00000000e+00, 1.78771597e-01],\n",
       "       [4.94753107e-01, 0.00000000e+00],\n",
       "       [8.65171170e-01, 0.00000000e+00],\n",
       "       [6.58346451e-01, 0.00000000e+00],\n",
       "       [0.00000000e+00, 9.78030080e-01],\n",
       "       [0.00000000e+00, 6.03803624e-05],\n",
       "       [9.89702702e-01, 0.00000000e+00],\n",
       "       [0.00000000e+00, 9.38483013e-01],\n",
       "       [9.99466769e-01, 0.00000000e+00],\n",
       "       [0.00000000e+00, 8.85711880e-01],\n",
       "       [3.48066827e-01, 0.00000000e+00],\n",
       "       [9.69804398e-01, 0.00000000e+00],\n",
       "       [0.00000000e+00, 9.13117758e-01],\n",
       "       [0.00000000e+00, 7.60918720e-01],\n",
       "       [9.40185867e-01, 0.00000000e+00],\n",
       "       [0.00000000e+00, 6.81868089e-01],\n",
       "       [0.00000000e+00, 7.66218320e-01],\n",
       "       [0.00000000e+00, 9.72364061e-01],\n",
       "       [0.00000000e+00, 9.50189985e-01],\n",
       "       [2.67009051e-01, 0.00000000e+00],\n",
       "       [6.57844238e-01, 0.00000000e+00],\n",
       "       [0.00000000e+00, 9.70306826e-01],\n",
       "       [0.00000000e+00, 9.80463045e-01],\n",
       "       [0.00000000e+00, 9.47859836e-01],\n",
       "       [0.00000000e+00, 6.69560037e-01],\n",
       "       [0.00000000e+00, 8.86846292e-01],\n",
       "       [0.00000000e+00, 7.96919178e-01],\n",
       "       [0.00000000e+00, 4.20743654e-01],\n",
       "       [0.00000000e+00, 9.43986801e-01],\n",
       "       [0.00000000e+00, 9.60885825e-01],\n",
       "       [0.00000000e+00, 9.25668172e-01],\n",
       "       [0.00000000e+00, 4.22033855e-01],\n",
       "       [9.25561111e-01, 0.00000000e+00],\n",
       "       [9.63675115e-01, 0.00000000e+00],\n",
       "       [0.00000000e+00, 5.51262229e-01],\n",
       "       [0.00000000e+00, 6.31611896e-01],\n",
       "       [0.00000000e+00, 7.03218276e-01],\n",
       "       [6.76535103e-01, 0.00000000e+00],\n",
       "       [0.00000000e+00, 9.33594779e-01],\n",
       "       [0.00000000e+00, 9.31918310e-01],\n",
       "       [9.77987590e-01, 0.00000000e+00],\n",
       "       [0.00000000e+00, 8.39531961e-01],\n",
       "       [8.81707383e-01, 0.00000000e+00],\n",
       "       [1.45239089e-01, 0.00000000e+00],\n",
       "       [8.65459324e-01, 0.00000000e+00],\n",
       "       [7.15475762e-01, 0.00000000e+00],\n",
       "       [0.00000000e+00, 9.14657891e-01],\n",
       "       [0.00000000e+00, 6.20457702e-01],\n",
       "       [9.06832677e-01, 0.00000000e+00],\n",
       "       [0.00000000e+00, 4.07954088e-01],\n",
       "       [9.96253027e-01, 0.00000000e+00],\n",
       "       [0.00000000e+00, 2.74650346e-01],\n",
       "       [0.00000000e+00, 9.42146634e-01],\n",
       "       [7.23861726e-01, 0.00000000e+00],\n",
       "       [9.35864273e-01, 0.00000000e+00],\n",
       "       [8.47429476e-01, 0.00000000e+00],\n",
       "       [8.97081301e-01, 0.00000000e+00],\n",
       "       [8.91453864e-01, 0.00000000e+00],\n",
       "       [9.79688929e-01, 0.00000000e+00],\n",
       "       [8.66859244e-01, 0.00000000e+00],\n",
       "       [0.00000000e+00, 8.77060498e-01],\n",
       "       [1.55206405e-01, 0.00000000e+00],\n",
       "       [0.00000000e+00, 8.95255093e-01],\n",
       "       [0.00000000e+00, 7.23713339e-01],\n",
       "       [9.97144072e-01, 0.00000000e+00],\n",
       "       [0.00000000e+00, 7.40828694e-01],\n",
       "       [2.30268369e-01, 0.00000000e+00],\n",
       "       [0.00000000e+00, 9.60194022e-01],\n",
       "       [9.98173852e-01, 0.00000000e+00],\n",
       "       [7.97637876e-01, 0.00000000e+00],\n",
       "       [3.91168064e-01, 0.00000000e+00],\n",
       "       [0.00000000e+00, 7.97732647e-01],\n",
       "       [0.00000000e+00, 8.41194072e-01],\n",
       "       [8.29588881e-01, 0.00000000e+00],\n",
       "       [9.94671943e-01, 0.00000000e+00],\n",
       "       [9.99705682e-01, 0.00000000e+00],\n",
       "       [0.00000000e+00, 6.51352363e-01],\n",
       "       [0.00000000e+00, 9.50473994e-01],\n",
       "       [9.85385808e-01, 0.00000000e+00],\n",
       "       [3.02756503e-01, 0.00000000e+00],\n",
       "       [7.82078488e-01, 0.00000000e+00],\n",
       "       [0.00000000e+00, 8.47691412e-01],\n",
       "       [6.03356014e-01, 0.00000000e+00],\n",
       "       [0.00000000e+00, 8.10164084e-01],\n",
       "       [9.04112845e-01, 0.00000000e+00],\n",
       "       [0.00000000e+00, 6.47641038e-01],\n",
       "       [8.57217031e-01, 0.00000000e+00],\n",
       "       [9.86264805e-01, 0.00000000e+00],\n",
       "       [0.00000000e+00, 9.02313193e-01],\n",
       "       [0.00000000e+00, 8.05940662e-01],\n",
       "       [7.25982462e-01, 0.00000000e+00],\n",
       "       [9.88634302e-01, 0.00000000e+00],\n",
       "       [9.76093296e-01, 0.00000000e+00],\n",
       "       [0.00000000e+00, 7.75289369e-01],\n",
       "       [4.39334131e-01, 0.00000000e+00],\n",
       "       [0.00000000e+00, 9.65595386e-01],\n",
       "       [9.73460580e-01, 0.00000000e+00],\n",
       "       [0.00000000e+00, 8.52717057e-01],\n",
       "       [6.12610531e-01, 0.00000000e+00],\n",
       "       [0.00000000e+00, 9.01003464e-01],\n",
       "       [3.48829006e-01, 0.00000000e+00],\n",
       "       [7.23792701e-01, 0.00000000e+00],\n",
       "       [0.00000000e+00, 7.08072146e-01],\n",
       "       [3.66748501e-01, 0.00000000e+00],\n",
       "       [0.00000000e+00, 8.84368243e-01],\n",
       "       [4.79145117e-01, 0.00000000e+00],\n",
       "       [9.89551103e-01, 0.00000000e+00],\n",
       "       [9.73880347e-01, 0.00000000e+00],\n",
       "       [5.73933249e-01, 0.00000000e+00],\n",
       "       [9.24070924e-01, 0.00000000e+00],\n",
       "       [0.00000000e+00, 8.14682930e-01],\n",
       "       [0.00000000e+00, 7.83313702e-01],\n",
       "       [9.56214076e-01, 0.00000000e+00],\n",
       "       [9.97337537e-01, 0.00000000e+00],\n",
       "       [0.00000000e+00, 9.16228062e-01],\n",
       "       [9.98544201e-01, 0.00000000e+00],\n",
       "       [8.66995824e-01, 0.00000000e+00],\n",
       "       [0.00000000e+00, 1.54555209e-01],\n",
       "       [0.00000000e+00, 8.65743441e-01],\n",
       "       [0.00000000e+00, 4.14395852e-01],\n",
       "       [0.00000000e+00, 6.92617403e-01],\n",
       "       [9.32646658e-01, 0.00000000e+00],\n",
       "       [0.00000000e+00, 4.28992383e-01],\n",
       "       [0.00000000e+00, 7.69252465e-01],\n",
       "       [0.00000000e+00, 9.07025448e-01],\n",
       "       [9.61025595e-01, 0.00000000e+00],\n",
       "       [1.76250610e-01, 0.00000000e+00],\n",
       "       [9.18909377e-01, 0.00000000e+00],\n",
       "       [7.69336117e-01, 0.00000000e+00],\n",
       "       [2.32540766e-01, 0.00000000e+00],\n",
       "       [5.43271045e-01, 0.00000000e+00],\n",
       "       [0.00000000e+00, 9.73845666e-01],\n",
       "       [0.00000000e+00, 7.16489507e-01],\n",
       "       [0.00000000e+00, 9.00959136e-01],\n",
       "       [6.35288305e-01, 0.00000000e+00],\n",
       "       [5.83424317e-01, 0.00000000e+00],\n",
       "       [1.76538951e-01, 0.00000000e+00],\n",
       "       [0.00000000e+00, 6.34408240e-01],\n",
       "       [9.62109761e-01, 0.00000000e+00],\n",
       "       [8.26952391e-01, 0.00000000e+00],\n",
       "       [0.00000000e+00, 9.82990584e-01],\n",
       "       [0.00000000e+00, 8.36245460e-01],\n",
       "       [2.53818178e-01, 0.00000000e+00],\n",
       "       [9.78079972e-01, 0.00000000e+00],\n",
       "       [0.00000000e+00, 9.26369717e-01],\n",
       "       [0.00000000e+00, 8.37925006e-01],\n",
       "       [0.00000000e+00, 9.62838612e-01],\n",
       "       [0.00000000e+00, 8.05668921e-01],\n",
       "       [7.85017173e-01, 0.00000000e+00],\n",
       "       [0.00000000e+00, 2.53517867e-01],\n",
       "       [0.00000000e+00, 8.58151304e-01],\n",
       "       [0.00000000e+00, 9.77841059e-01],\n",
       "       [9.63196203e-01, 0.00000000e+00],\n",
       "       [7.98266324e-01, 0.00000000e+00],\n",
       "       [0.00000000e+00, 6.34166726e-01],\n",
       "       [5.88918098e-01, 0.00000000e+00],\n",
       "       [0.00000000e+00, 7.70529233e-01],\n",
       "       [0.00000000e+00, 8.27392616e-01],\n",
       "       [3.15854307e-01, 0.00000000e+00],\n",
       "       [5.67468165e-01, 0.00000000e+00],\n",
       "       [6.15822898e-01, 0.00000000e+00],\n",
       "       [9.99838714e-01, 0.00000000e+00],\n",
       "       [6.78379788e-01, 0.00000000e+00],\n",
       "       [2.80974155e-02, 0.00000000e+00],\n",
       "       [0.00000000e+00, 8.78131796e-01],\n",
       "       [9.27266459e-01, 0.00000000e+00],\n",
       "       [0.00000000e+00, 4.13326634e-01],\n",
       "       [0.00000000e+00, 7.95521180e-01],\n",
       "       [1.10431681e-01, 0.00000000e+00],\n",
       "       [5.31242541e-02, 0.00000000e+00],\n",
       "       [9.50883436e-01, 0.00000000e+00],\n",
       "       [0.00000000e+00, 1.60771020e-01],\n",
       "       [1.11837740e-01, 0.00000000e+00],\n",
       "       [0.00000000e+00, 9.03538187e-01],\n",
       "       [0.00000000e+00, 9.86156991e-01],\n",
       "       [9.18733684e-01, 0.00000000e+00],\n",
       "       [0.00000000e+00, 8.44593188e-01],\n",
       "       [0.00000000e+00, 9.50063850e-01],\n",
       "       [0.00000000e+00, 9.40515828e-01],\n",
       "       [6.25141581e-01, 0.00000000e+00],\n",
       "       [0.00000000e+00, 8.72353932e-01],\n",
       "       [0.00000000e+00, 8.92818377e-01],\n",
       "       [3.08928927e-01, 0.00000000e+00],\n",
       "       [9.74992049e-01, 0.00000000e+00],\n",
       "       [5.41175497e-01, 0.00000000e+00],\n",
       "       [7.20853123e-01, 0.00000000e+00],\n",
       "       [8.25782982e-01, 0.00000000e+00],\n",
       "       [9.99286937e-01, 0.00000000e+00],\n",
       "       [7.23467959e-01, 0.00000000e+00],\n",
       "       [2.94936330e-01, 0.00000000e+00],\n",
       "       [0.00000000e+00, 3.85157171e-01],\n",
       "       [0.00000000e+00, 8.94135073e-01],\n",
       "       [0.00000000e+00, 8.68849226e-01],\n",
       "       [0.00000000e+00, 7.25089165e-01],\n",
       "       [1.96727233e-02, 0.00000000e+00],\n",
       "       [0.00000000e+00, 8.53895492e-01],\n",
       "       [0.00000000e+00, 3.88956214e-01],\n",
       "       [6.94153999e-01, 0.00000000e+00],\n",
       "       [0.00000000e+00, 7.64990243e-01],\n",
       "       [8.98063199e-01, 0.00000000e+00],\n",
       "       [1.36199906e-01, 0.00000000e+00],\n",
       "       [9.93206516e-01, 0.00000000e+00],\n",
       "       [0.00000000e+00, 8.01577854e-01],\n",
       "       [9.94601523e-01, 0.00000000e+00],\n",
       "       [9.39717692e-01, 0.00000000e+00],\n",
       "       [5.44708632e-01, 0.00000000e+00],\n",
       "       [5.39354348e-01, 0.00000000e+00],\n",
       "       [0.00000000e+00, 4.82558726e-01],\n",
       "       [9.15142343e-01, 0.00000000e+00],\n",
       "       [8.79440883e-01, 0.00000000e+00],\n",
       "       [0.00000000e+00, 8.50012358e-01],\n",
       "       [4.91453598e-01, 0.00000000e+00],\n",
       "       [0.00000000e+00, 8.12892200e-01],\n",
       "       [0.00000000e+00, 9.58062404e-01],\n",
       "       [1.84626420e-01, 0.00000000e+00],\n",
       "       [0.00000000e+00, 7.51282729e-01],\n",
       "       [2.29942917e-01, 0.00000000e+00],\n",
       "       [0.00000000e+00, 9.54914006e-01],\n",
       "       [0.00000000e+00, 8.20005982e-01],\n",
       "       [0.00000000e+00, 6.31028195e-02],\n",
       "       [0.00000000e+00, 1.22974770e-01],\n",
       "       [0.00000000e+00, 8.63880369e-01],\n",
       "       [0.00000000e+00, 9.72855812e-01],\n",
       "       [0.00000000e+00, 8.45233741e-01],\n",
       "       [0.00000000e+00, 2.59382444e-01],\n",
       "       [5.08840823e-01, 0.00000000e+00],\n",
       "       [0.00000000e+00, 9.42520392e-01],\n",
       "       [0.00000000e+00, 8.02288894e-01],\n",
       "       [0.00000000e+00, 3.89374703e-01],\n",
       "       [0.00000000e+00, 9.82073782e-01],\n",
       "       [0.00000000e+00, 7.73851670e-01],\n",
       "       [4.16982230e-01, 0.00000000e+00],\n",
       "       [8.17993567e-01, 0.00000000e+00],\n",
       "       [0.00000000e+00, 1.28387894e-01],\n",
       "       [6.35719977e-01, 0.00000000e+00],\n",
       "       [2.99358351e-01, 0.00000000e+00],\n",
       "       [9.73262680e-01, 0.00000000e+00],\n",
       "       [4.26126219e-01, 0.00000000e+00],\n",
       "       [0.00000000e+00, 1.30437133e-01],\n",
       "       [9.94641258e-01, 0.00000000e+00],\n",
       "       [9.86319401e-01, 0.00000000e+00],\n",
       "       [0.00000000e+00, 8.88633906e-01],\n",
       "       [8.09966099e-01, 0.00000000e+00],\n",
       "       [6.24459157e-01, 0.00000000e+00],\n",
       "       [0.00000000e+00, 9.15481127e-01],\n",
       "       [0.00000000e+00, 9.69669210e-01],\n",
       "       [0.00000000e+00, 6.41453466e-03],\n",
       "       [7.82942213e-01, 0.00000000e+00],\n",
       "       [7.25940994e-01, 0.00000000e+00],\n",
       "       [0.00000000e+00, 9.34703413e-01],\n",
       "       [8.85920979e-01, 0.00000000e+00],\n",
       "       [7.96992951e-01, 0.00000000e+00]])"
      ]
     },
     "execution_count": 32,
     "metadata": {},
     "output_type": "execute_result"
    }
   ],
   "source": [
    "final"
   ]
  },
  {
   "cell_type": "code",
   "execution_count": 33,
   "metadata": {},
   "outputs": [
    {
     "data": {
      "text/plain": [
       "(320, 2)"
      ]
     },
     "execution_count": 33,
     "metadata": {},
     "output_type": "execute_result"
    }
   ],
   "source": [
    "final.shape"
   ]
  },
  {
   "cell_type": "code",
   "execution_count": 34,
   "metadata": {},
   "outputs": [
    {
     "name": "stdout",
     "output_type": "stream",
     "text": [
      "[8.67975173e-01 9.74506000e-01 8.66254604e-01 9.15384286e-01\n",
      " 9.24325302e-01 9.77076305e-01 9.24246902e-01 9.41961950e-01\n",
      " 1.76331904e-01 2.52008624e-01 4.16942946e-01 7.97862674e-01\n",
      " 8.73978907e-01 6.61392245e-01 9.17837590e-01 7.67180192e-01\n",
      " 8.93605520e-02 4.87185719e-01 1.63734447e-01 7.95637022e-01\n",
      " 9.30789090e-01 8.57498305e-01 5.00000000e-01 9.78748817e-01\n",
      " 9.52437863e-01 8.08719372e-01 9.55012546e-01 1.41408254e-01\n",
      " 8.38662876e-01 1.87202230e-02 9.24315187e-01 8.29380466e-01\n",
      " 6.56009563e-01 6.84791748e-01 3.59677578e-01 9.93322585e-01\n",
      " 8.16675007e-01 1.53152568e-01 7.92124223e-01 4.27761624e-01\n",
      " 8.81207539e-01 7.25021508e-01 8.64620145e-01 2.49790759e-01\n",
      " 6.82547846e-01 2.84222267e-01 5.94901840e-01 4.65892446e-01\n",
      " 9.80841733e-01 9.01615533e-01 9.07826813e-01 9.31804434e-01\n",
      " 7.86483007e-01 7.79546076e-01 4.64823791e-01 8.80646481e-01\n",
      " 3.27422483e-01 9.09624841e-01 5.08389082e-01 9.53566779e-01\n",
      " 1.20089363e-02 8.21990910e-01 6.00980838e-01 7.30898598e-01\n",
      " 9.74389448e-01 9.98241562e-01 3.72694533e-01 6.72110628e-01\n",
      " 1.78771597e-01 4.94753107e-01 8.65171170e-01 6.58346451e-01\n",
      " 9.78030080e-01 6.03803624e-05 9.89702702e-01 9.38483013e-01\n",
      " 9.99466769e-01 8.85711880e-01 3.48066827e-01 9.69804398e-01\n",
      " 9.13117758e-01 7.60918720e-01 9.40185867e-01 6.81868089e-01\n",
      " 7.66218320e-01 9.72364061e-01 9.50189985e-01 2.67009051e-01\n",
      " 6.57844238e-01 9.70306826e-01 9.80463045e-01 9.47859836e-01\n",
      " 6.69560037e-01 8.86846292e-01 7.96919178e-01 4.20743654e-01\n",
      " 9.43986801e-01 9.60885825e-01 9.25668172e-01 4.22033855e-01\n",
      " 9.25561111e-01 9.63675115e-01 5.51262229e-01 6.31611896e-01\n",
      " 7.03218276e-01 6.76535103e-01 9.33594779e-01 9.31918310e-01\n",
      " 9.77987590e-01 8.39531961e-01 8.81707383e-01 1.45239089e-01\n",
      " 8.65459324e-01 7.15475762e-01 9.14657891e-01 6.20457702e-01\n",
      " 9.06832677e-01 4.07954088e-01 9.96253027e-01 2.74650346e-01\n",
      " 9.42146634e-01 7.23861726e-01 9.35864273e-01 8.47429476e-01\n",
      " 8.97081301e-01 8.91453864e-01 9.79688929e-01 8.66859244e-01\n",
      " 8.77060498e-01 1.55206405e-01 8.95255093e-01 7.23713339e-01\n",
      " 9.97144072e-01 7.40828694e-01 2.30268369e-01 9.60194022e-01\n",
      " 9.98173852e-01 7.97637876e-01 3.91168064e-01 7.97732647e-01\n",
      " 8.41194072e-01 8.29588881e-01 9.94671943e-01 9.99705682e-01\n",
      " 6.51352363e-01 9.50473994e-01 9.85385808e-01 3.02756503e-01\n",
      " 7.82078488e-01 8.47691412e-01 6.03356014e-01 8.10164084e-01\n",
      " 9.04112845e-01 6.47641038e-01 8.57217031e-01 9.86264805e-01\n",
      " 9.02313193e-01 8.05940662e-01 7.25982462e-01 9.88634302e-01\n",
      " 9.76093296e-01 7.75289369e-01 4.39334131e-01 9.65595386e-01\n",
      " 9.73460580e-01 8.52717057e-01 6.12610531e-01 9.01003464e-01\n",
      " 3.48829006e-01 7.23792701e-01 7.08072146e-01 3.66748501e-01\n",
      " 8.84368243e-01 4.79145117e-01 9.89551103e-01 9.73880347e-01\n",
      " 5.73933249e-01 9.24070924e-01 8.14682930e-01 7.83313702e-01\n",
      " 9.56214076e-01 9.97337537e-01 9.16228062e-01 9.98544201e-01\n",
      " 8.66995824e-01 1.54555209e-01 8.65743441e-01 4.14395852e-01\n",
      " 6.92617403e-01 9.32646658e-01 4.28992383e-01 7.69252465e-01\n",
      " 9.07025448e-01 9.61025595e-01 1.76250610e-01 9.18909377e-01\n",
      " 7.69336117e-01 2.32540766e-01 5.43271045e-01 9.73845666e-01\n",
      " 7.16489507e-01 9.00959136e-01 6.35288305e-01 5.83424317e-01\n",
      " 1.76538951e-01 6.34408240e-01 9.62109761e-01 8.26952391e-01\n",
      " 9.82990584e-01 8.36245460e-01 2.53818178e-01 9.78079972e-01\n",
      " 9.26369717e-01 8.37925006e-01 9.62838612e-01 8.05668921e-01\n",
      " 7.85017173e-01 2.53517867e-01 8.58151304e-01 9.77841059e-01\n",
      " 9.63196203e-01 7.98266324e-01 6.34166726e-01 5.88918098e-01\n",
      " 7.70529233e-01 8.27392616e-01 3.15854307e-01 5.67468165e-01\n",
      " 6.15822898e-01 9.99838714e-01 6.78379788e-01 2.80974155e-02\n",
      " 8.78131796e-01 9.27266459e-01 4.13326634e-01 7.95521180e-01\n",
      " 1.10431681e-01 5.31242541e-02 9.50883436e-01 1.60771020e-01\n",
      " 1.11837740e-01 9.03538187e-01 9.86156991e-01 9.18733684e-01\n",
      " 8.44593188e-01 9.50063850e-01 9.40515828e-01 6.25141581e-01\n",
      " 8.72353932e-01 8.92818377e-01 3.08928927e-01 9.74992049e-01\n",
      " 5.41175497e-01 7.20853123e-01 8.25782982e-01 9.99286937e-01\n",
      " 7.23467959e-01 2.94936330e-01 3.85157171e-01 8.94135073e-01\n",
      " 8.68849226e-01 7.25089165e-01 1.96727233e-02 8.53895492e-01\n",
      " 3.88956214e-01 6.94153999e-01 7.64990243e-01 8.98063199e-01\n",
      " 1.36199906e-01 9.93206516e-01 8.01577854e-01 9.94601523e-01\n",
      " 9.39717692e-01 5.44708632e-01 5.39354348e-01 4.82558726e-01\n",
      " 9.15142343e-01 8.79440883e-01 8.50012358e-01 4.91453598e-01\n",
      " 8.12892200e-01 9.58062404e-01 1.84626420e-01 7.51282729e-01\n",
      " 2.29942917e-01 9.54914006e-01 8.20005982e-01 6.31028195e-02\n",
      " 1.22974770e-01 8.63880369e-01 9.72855812e-01 8.45233741e-01\n",
      " 2.59382444e-01 5.08840823e-01 9.42520392e-01 8.02288894e-01\n",
      " 3.89374703e-01 9.82073782e-01 7.73851670e-01 4.16982230e-01\n",
      " 8.17993567e-01 1.28387894e-01 6.35719977e-01 2.99358351e-01\n",
      " 9.73262680e-01 4.26126219e-01 1.30437133e-01 9.94641258e-01\n",
      " 9.86319401e-01 8.88633906e-01 8.09966099e-01 6.24459157e-01\n",
      " 9.15481127e-01 9.69669210e-01 6.41453466e-03 7.82942213e-01\n",
      " 7.25940994e-01 9.34703413e-01 8.85920979e-01 7.96992951e-01]\n"
     ]
    }
   ],
   "source": [
    "import numpy as np\n",
    "\n",
    "def maxelement_efficient(arr):\n",
    "  max_element_per_row = np.amax(arr, axis=1)\n",
    "  return max_element_per_row\n",
    "\n",
    "y_predictfinal = maxelement_efficient(final)\n",
    "\n",
    "print(y_predictfinal)\n"
   ]
  },
  {
   "cell_type": "code",
   "execution_count": 35,
   "metadata": {},
   "outputs": [],
   "source": [
    "y_predictfinal=np.array(y_predictfinal)\n"
   ]
  },
  {
   "cell_type": "code",
   "execution_count": 36,
   "metadata": {},
   "outputs": [
    {
     "data": {
      "text/plain": [
       "array([8.67975173e-01, 9.74506000e-01, 8.66254604e-01, 9.15384286e-01,\n",
       "       9.24325302e-01, 9.77076305e-01, 9.24246902e-01, 9.41961950e-01,\n",
       "       1.76331904e-01, 2.52008624e-01, 4.16942946e-01, 7.97862674e-01,\n",
       "       8.73978907e-01, 6.61392245e-01, 9.17837590e-01, 7.67180192e-01,\n",
       "       8.93605520e-02, 4.87185719e-01, 1.63734447e-01, 7.95637022e-01,\n",
       "       9.30789090e-01, 8.57498305e-01, 5.00000000e-01, 9.78748817e-01,\n",
       "       9.52437863e-01, 8.08719372e-01, 9.55012546e-01, 1.41408254e-01,\n",
       "       8.38662876e-01, 1.87202230e-02, 9.24315187e-01, 8.29380466e-01,\n",
       "       6.56009563e-01, 6.84791748e-01, 3.59677578e-01, 9.93322585e-01,\n",
       "       8.16675007e-01, 1.53152568e-01, 7.92124223e-01, 4.27761624e-01,\n",
       "       8.81207539e-01, 7.25021508e-01, 8.64620145e-01, 2.49790759e-01,\n",
       "       6.82547846e-01, 2.84222267e-01, 5.94901840e-01, 4.65892446e-01,\n",
       "       9.80841733e-01, 9.01615533e-01, 9.07826813e-01, 9.31804434e-01,\n",
       "       7.86483007e-01, 7.79546076e-01, 4.64823791e-01, 8.80646481e-01,\n",
       "       3.27422483e-01, 9.09624841e-01, 5.08389082e-01, 9.53566779e-01,\n",
       "       1.20089363e-02, 8.21990910e-01, 6.00980838e-01, 7.30898598e-01,\n",
       "       9.74389448e-01, 9.98241562e-01, 3.72694533e-01, 6.72110628e-01,\n",
       "       1.78771597e-01, 4.94753107e-01, 8.65171170e-01, 6.58346451e-01,\n",
       "       9.78030080e-01, 6.03803624e-05, 9.89702702e-01, 9.38483013e-01,\n",
       "       9.99466769e-01, 8.85711880e-01, 3.48066827e-01, 9.69804398e-01,\n",
       "       9.13117758e-01, 7.60918720e-01, 9.40185867e-01, 6.81868089e-01,\n",
       "       7.66218320e-01, 9.72364061e-01, 9.50189985e-01, 2.67009051e-01,\n",
       "       6.57844238e-01, 9.70306826e-01, 9.80463045e-01, 9.47859836e-01,\n",
       "       6.69560037e-01, 8.86846292e-01, 7.96919178e-01, 4.20743654e-01,\n",
       "       9.43986801e-01, 9.60885825e-01, 9.25668172e-01, 4.22033855e-01,\n",
       "       9.25561111e-01, 9.63675115e-01, 5.51262229e-01, 6.31611896e-01,\n",
       "       7.03218276e-01, 6.76535103e-01, 9.33594779e-01, 9.31918310e-01,\n",
       "       9.77987590e-01, 8.39531961e-01, 8.81707383e-01, 1.45239089e-01,\n",
       "       8.65459324e-01, 7.15475762e-01, 9.14657891e-01, 6.20457702e-01,\n",
       "       9.06832677e-01, 4.07954088e-01, 9.96253027e-01, 2.74650346e-01,\n",
       "       9.42146634e-01, 7.23861726e-01, 9.35864273e-01, 8.47429476e-01,\n",
       "       8.97081301e-01, 8.91453864e-01, 9.79688929e-01, 8.66859244e-01,\n",
       "       8.77060498e-01, 1.55206405e-01, 8.95255093e-01, 7.23713339e-01,\n",
       "       9.97144072e-01, 7.40828694e-01, 2.30268369e-01, 9.60194022e-01,\n",
       "       9.98173852e-01, 7.97637876e-01, 3.91168064e-01, 7.97732647e-01,\n",
       "       8.41194072e-01, 8.29588881e-01, 9.94671943e-01, 9.99705682e-01,\n",
       "       6.51352363e-01, 9.50473994e-01, 9.85385808e-01, 3.02756503e-01,\n",
       "       7.82078488e-01, 8.47691412e-01, 6.03356014e-01, 8.10164084e-01,\n",
       "       9.04112845e-01, 6.47641038e-01, 8.57217031e-01, 9.86264805e-01,\n",
       "       9.02313193e-01, 8.05940662e-01, 7.25982462e-01, 9.88634302e-01,\n",
       "       9.76093296e-01, 7.75289369e-01, 4.39334131e-01, 9.65595386e-01,\n",
       "       9.73460580e-01, 8.52717057e-01, 6.12610531e-01, 9.01003464e-01,\n",
       "       3.48829006e-01, 7.23792701e-01, 7.08072146e-01, 3.66748501e-01,\n",
       "       8.84368243e-01, 4.79145117e-01, 9.89551103e-01, 9.73880347e-01,\n",
       "       5.73933249e-01, 9.24070924e-01, 8.14682930e-01, 7.83313702e-01,\n",
       "       9.56214076e-01, 9.97337537e-01, 9.16228062e-01, 9.98544201e-01,\n",
       "       8.66995824e-01, 1.54555209e-01, 8.65743441e-01, 4.14395852e-01,\n",
       "       6.92617403e-01, 9.32646658e-01, 4.28992383e-01, 7.69252465e-01,\n",
       "       9.07025448e-01, 9.61025595e-01, 1.76250610e-01, 9.18909377e-01,\n",
       "       7.69336117e-01, 2.32540766e-01, 5.43271045e-01, 9.73845666e-01,\n",
       "       7.16489507e-01, 9.00959136e-01, 6.35288305e-01, 5.83424317e-01,\n",
       "       1.76538951e-01, 6.34408240e-01, 9.62109761e-01, 8.26952391e-01,\n",
       "       9.82990584e-01, 8.36245460e-01, 2.53818178e-01, 9.78079972e-01,\n",
       "       9.26369717e-01, 8.37925006e-01, 9.62838612e-01, 8.05668921e-01,\n",
       "       7.85017173e-01, 2.53517867e-01, 8.58151304e-01, 9.77841059e-01,\n",
       "       9.63196203e-01, 7.98266324e-01, 6.34166726e-01, 5.88918098e-01,\n",
       "       7.70529233e-01, 8.27392616e-01, 3.15854307e-01, 5.67468165e-01,\n",
       "       6.15822898e-01, 9.99838714e-01, 6.78379788e-01, 2.80974155e-02,\n",
       "       8.78131796e-01, 9.27266459e-01, 4.13326634e-01, 7.95521180e-01,\n",
       "       1.10431681e-01, 5.31242541e-02, 9.50883436e-01, 1.60771020e-01,\n",
       "       1.11837740e-01, 9.03538187e-01, 9.86156991e-01, 9.18733684e-01,\n",
       "       8.44593188e-01, 9.50063850e-01, 9.40515828e-01, 6.25141581e-01,\n",
       "       8.72353932e-01, 8.92818377e-01, 3.08928927e-01, 9.74992049e-01,\n",
       "       5.41175497e-01, 7.20853123e-01, 8.25782982e-01, 9.99286937e-01,\n",
       "       7.23467959e-01, 2.94936330e-01, 3.85157171e-01, 8.94135073e-01,\n",
       "       8.68849226e-01, 7.25089165e-01, 1.96727233e-02, 8.53895492e-01,\n",
       "       3.88956214e-01, 6.94153999e-01, 7.64990243e-01, 8.98063199e-01,\n",
       "       1.36199906e-01, 9.93206516e-01, 8.01577854e-01, 9.94601523e-01,\n",
       "       9.39717692e-01, 5.44708632e-01, 5.39354348e-01, 4.82558726e-01,\n",
       "       9.15142343e-01, 8.79440883e-01, 8.50012358e-01, 4.91453598e-01,\n",
       "       8.12892200e-01, 9.58062404e-01, 1.84626420e-01, 7.51282729e-01,\n",
       "       2.29942917e-01, 9.54914006e-01, 8.20005982e-01, 6.31028195e-02,\n",
       "       1.22974770e-01, 8.63880369e-01, 9.72855812e-01, 8.45233741e-01,\n",
       "       2.59382444e-01, 5.08840823e-01, 9.42520392e-01, 8.02288894e-01,\n",
       "       3.89374703e-01, 9.82073782e-01, 7.73851670e-01, 4.16982230e-01,\n",
       "       8.17993567e-01, 1.28387894e-01, 6.35719977e-01, 2.99358351e-01,\n",
       "       9.73262680e-01, 4.26126219e-01, 1.30437133e-01, 9.94641258e-01,\n",
       "       9.86319401e-01, 8.88633906e-01, 8.09966099e-01, 6.24459157e-01,\n",
       "       9.15481127e-01, 9.69669210e-01, 6.41453466e-03, 7.82942213e-01,\n",
       "       7.25940994e-01, 9.34703413e-01, 8.85920979e-01, 7.96992951e-01])"
      ]
     },
     "execution_count": 36,
     "metadata": {},
     "output_type": "execute_result"
    }
   ],
   "source": [
    "y_predictfinal"
   ]
  },
  {
   "cell_type": "code",
   "execution_count": 37,
   "metadata": {},
   "outputs": [
    {
     "data": {
      "text/plain": [
       "(320,)"
      ]
     },
     "execution_count": 37,
     "metadata": {},
     "output_type": "execute_result"
    }
   ],
   "source": [
    "y_predictfinal.shape"
   ]
  },
  {
   "cell_type": "code",
   "execution_count": 38,
   "metadata": {},
   "outputs": [
    {
     "name": "stdout",
     "output_type": "stream",
     "text": [
      "[0 1 1 0 0 1 1 1 0 1 1 1 0 0 0 1 1 1 0 1 1 1 0 1 0 0 0 1 0 1 1 1 0 0 1 0 1\n",
      " 0 1 0 0 0 0 0 1 0 0 0 0 0 1 0 1 0 0 1 1 1 1 1 1 0 1 0 0 0 1 1 1 0 0 0 1 1\n",
      " 0 1 0 1 0 0 1 1 0 1 1 1 1 0 0 1 1 1 1 1 1 1 1 1 1 1 0 0 1 1 1 0 1 1 0 1 0\n",
      " 0 0 0 1 1 0 1 0 1 1 0 0 0 0 0 0 0 1 0 1 1 0 1 0 1 0 0 0 1 1 0 0 0 1 1 0 0\n",
      " 0 1 0 1 0 1 0 0 1 1 0 0 0 1 0 1 0 1 0 1 0 0 1 0 1 0 0 0 0 0 1 1 0 0 1 0 0\n",
      " 1 1 1 1 0 1 1 1 0 0 0 0 0 0 1 1 1 0 0 0 1 0 0 1 1 0 0 1 1 1 1 0 1 1 1 0 0\n",
      " 1 0 1 1 0 0 0 0 0 0 1 0 1 1 0 0 0 1 0 1 1 0 1 1 1 0 1 1 0 0 0 0 0 0 0 0 1\n",
      " 1 1 1 0 1 1 0 1 0 0 0 1 0 0 0 0 1 0 0 1 0 1 1 0 1 0 1 1 1 1 1 1 1 1 0 1 1\n",
      " 1 1 1 0 0 1 0 0 0 0 1 0 0 1 0 0 1 1 1 0 0 1 0 0]\n"
     ]
    }
   ],
   "source": [
    "import numpy as np\n",
    "\n",
    "def maxelement_column(arr):\n",
    "  max_element_column = np.argmax(arr, axis=1)\n",
    "  return max_element_column\n",
    "\n",
    "y_predictlabel = maxelement_column(final)\n",
    "print(y_predictlabel)"
   ]
  },
  {
   "cell_type": "code",
   "execution_count": 39,
   "metadata": {},
   "outputs": [],
   "source": [
    "y_predictlabel=np.array(y_predictlabel)"
   ]
  },
  {
   "cell_type": "code",
   "execution_count": 40,
   "metadata": {},
   "outputs": [
    {
     "data": {
      "text/plain": [
       "(320,)"
      ]
     },
     "execution_count": 40,
     "metadata": {},
     "output_type": "execute_result"
    }
   ],
   "source": [
    "y_predictlabel.shape"
   ]
  },
  {
   "cell_type": "code",
   "execution_count": 41,
   "metadata": {},
   "outputs": [
    {
     "data": {
      "text/plain": [
       "array([0, 1, 1, 0, 0, 1, 1, 1, 0, 1, 1, 1, 0, 0, 0, 1, 1, 1, 0, 1, 1, 1,\n",
       "       0, 1, 0, 0, 0, 1, 0, 1, 1, 1, 0, 0, 1, 0, 1, 0, 1, 0, 0, 0, 0, 0,\n",
       "       1, 0, 0, 0, 0, 0, 1, 0, 1, 0, 0, 1, 1, 1, 1, 1, 1, 0, 1, 0, 0, 0,\n",
       "       1, 1, 1, 0, 0, 0, 1, 1, 0, 1, 0, 1, 0, 0, 1, 1, 0, 1, 1, 1, 1, 0,\n",
       "       0, 1, 1, 1, 1, 1, 1, 1, 1, 1, 1, 1, 0, 0, 1, 1, 1, 0, 1, 1, 0, 1,\n",
       "       0, 0, 0, 0, 1, 1, 0, 1, 0, 1, 1, 0, 0, 0, 0, 0, 0, 0, 1, 0, 1, 1,\n",
       "       0, 1, 0, 1, 0, 0, 0, 1, 1, 0, 0, 0, 1, 1, 0, 0, 0, 1, 0, 1, 0, 1,\n",
       "       0, 0, 1, 1, 0, 0, 0, 1, 0, 1, 0, 1, 0, 1, 0, 0, 1, 0, 1, 0, 0, 0,\n",
       "       0, 0, 1, 1, 0, 0, 1, 0, 0, 1, 1, 1, 1, 0, 1, 1, 1, 0, 0, 0, 0, 0,\n",
       "       0, 1, 1, 1, 0, 0, 0, 1, 0, 0, 1, 1, 0, 0, 1, 1, 1, 1, 0, 1, 1, 1,\n",
       "       0, 0, 1, 0, 1, 1, 0, 0, 0, 0, 0, 0, 1, 0, 1, 1, 0, 0, 0, 1, 0, 1,\n",
       "       1, 0, 1, 1, 1, 0, 1, 1, 0, 0, 0, 0, 0, 0, 0, 0, 1, 1, 1, 1, 0, 1,\n",
       "       1, 0, 1, 0, 0, 0, 1, 0, 0, 0, 0, 1, 0, 0, 1, 0, 1, 1, 0, 1, 0, 1,\n",
       "       1, 1, 1, 1, 1, 1, 1, 0, 1, 1, 1, 1, 1, 0, 0, 1, 0, 0, 0, 0, 1, 0,\n",
       "       0, 1, 0, 0, 1, 1, 1, 0, 0, 1, 0, 0], dtype=int64)"
      ]
     },
     "execution_count": 41,
     "metadata": {},
     "output_type": "execute_result"
    }
   ],
   "source": [
    "y_predictlabel"
   ]
  },
  {
   "cell_type": "code",
   "execution_count": 42,
   "metadata": {},
   "outputs": [],
   "source": [
    "from sklearn.metrics import accuracy_score\n",
    "result= accuracy_score(testLabelsHistogram,y_predictlabel)"
   ]
  },
  {
   "cell_type": "code",
   "execution_count": 43,
   "metadata": {},
   "outputs": [
    {
     "data": {
      "text/plain": [
       "0.928125"
      ]
     },
     "execution_count": 43,
     "metadata": {},
     "output_type": "execute_result"
    }
   ],
   "source": [
    "result"
   ]
  },
  {
   "cell_type": "code",
   "execution_count": 158,
   "metadata": {},
   "outputs": [],
   "source": [
    "Haralick_features = []\n",
    "labels2       = []"
   ]
  },
  {
   "cell_type": "code",
   "execution_count": 159,
   "metadata": {},
   "outputs": [],
   "source": [
    "def fd_haralick(image):\n",
    "    gray = cv2.cvtColor(image, cv2.COLOR_BGR2GRAY)\n",
    "    haralick = mahotas.features.haralick(gray).mean(axis=0)\n",
    "    return haralick"
   ]
  },
  {
   "cell_type": "code",
   "execution_count": 160,
   "metadata": {},
   "outputs": [
    {
     "name": "stdout",
     "output_type": "stream",
     "text": [
      "[STATUS] processed folder: diseased\n",
      "[STATUS] processed folder: healthy\n",
      "[STATUS] completed Haralick Feature Extraction...\n"
     ]
    }
   ],
   "source": [
    "for training_name in train_labels:\n",
    "    dir = os.path.join(train_path, training_name)\n",
    "    current_label = training_name\n",
    "    for x in range(1, images_per_class + 1):\n",
    "        file = os.path.join(dir, str(x) + \".jpg\")\n",
    "        image = cv2.imread(file)\n",
    "        image = cv2.resize(image, fixed_size)\n",
    "        RGB_BGR = rgb_bgr(image)\n",
    "        BGR_HSV = bgr_hsv(RGB_BGR)\n",
    "        IMG_SEGMENT = img_segmentation(RGB_BGR, BGR_HSV) \n",
    "        fv_Haralick = fd_haralick(IMG_SEGMENT)\n",
    "        labels2.append(current_label)\n",
    "        Haralick_features.append(fv_Haralick)\n",
    "    \n",
    "    print(\"[STATUS] processed folder: {}\".format(current_label))\n",
    "    \n",
    "print(\"[STATUS] completed Haralick Feature Extraction...\")"
   ]
  },
  {
   "cell_type": "code",
   "execution_count": 161,
   "metadata": {},
   "outputs": [
    {
     "name": "stdout",
     "output_type": "stream",
     "text": [
      "[STATUS] feature vector size (1600, 13)\n"
     ]
    }
   ],
   "source": [
    "print(\"[STATUS] feature vector size {}\".format(np.array(Haralick_features).shape))"
   ]
  },
  {
   "cell_type": "code",
   "execution_count": 162,
   "metadata": {},
   "outputs": [
    {
     "name": "stdout",
     "output_type": "stream",
     "text": [
      "[STATUS] training Labels (1600,)\n"
     ]
    }
   ],
   "source": [
    "print(\"[STATUS] training Labels {}\".format(np.array(labels2).shape))"
   ]
  },
  {
   "cell_type": "code",
   "execution_count": 163,
   "metadata": {},
   "outputs": [
    {
     "name": "stdout",
     "output_type": "stream",
     "text": [
      "[STATUS] training labels encoded...\n"
     ]
    }
   ],
   "source": [
    "targetNames = np.unique(labels2)\n",
    "le          = LabelEncoder()\n",
    "target2     = le.fit_transform(labels2)\n",
    "print(\"[STATUS] training labels encoded...\")"
   ]
  },
  {
   "cell_type": "code",
   "execution_count": 164,
   "metadata": {},
   "outputs": [
    {
     "name": "stdout",
     "output_type": "stream",
     "text": [
      "[STATUS] feature vector normalized...\n"
     ]
    }
   ],
   "source": [
    "from sklearn.preprocessing import MinMaxScaler\n",
    "scaler            = MinMaxScaler(feature_range=(0, 1))\n",
    "rescaled_features2 = scaler.fit_transform(Haralick_features)\n",
    "print(\"[STATUS] feature vector normalized...\")"
   ]
  },
  {
   "cell_type": "code",
   "execution_count": 165,
   "metadata": {},
   "outputs": [
    {
     "name": "stdout",
     "output_type": "stream",
     "text": [
      "[STATUS] target labels: [0 0 0 ... 1 1 1]\n",
      "[STATUS] target labels shape: (1600,)\n"
     ]
    }
   ],
   "source": [
    "print(\"[STATUS] target labels: {}\".format(target2))\n",
    "print(\"[STATUS] target labels shape: {}\".format(target2.shape))"
   ]
  },
  {
   "cell_type": "code",
   "execution_count": 166,
   "metadata": {},
   "outputs": [
    {
     "name": "stdout",
     "output_type": "stream",
     "text": [
      "[STATUS] splitted train and test data...\n",
      "Train data  : (1280, 13)\n",
      "Test data   : (320, 13)\n"
     ]
    }
   ],
   "source": [
    "from sklearn.model_selection import train_test_split\n",
    "(trainDataHaralick, testDataHaralick, trainLabelsHaralick, testLabelsHaralick) = train_test_split(np.array(rescaled_features2), np.array(target2),test_size=test_size,random_state=seed)\n",
    "print(\"[STATUS] splitted train and test data...\")\n",
    "print(\"Train data  : {}\".format(trainDataHaralick.shape))\n",
    "print(\"Test data   : {}\".format(testDataHaralick.shape)) "
   ]
  },
  {
   "cell_type": "code",
   "execution_count": 167,
   "metadata": {},
   "outputs": [],
   "source": [
    "import seaborn as sns\n",
    "from sklearn.metrics import accuracy_score\n",
    "from sklearn.ensemble import RandomForestClassifier\n",
    "from sklearn.linear_model import LogisticRegression\n",
    "from sklearn.svm import SVC\n",
    "from sklearn.naive_bayes import GaussianNB\n",
    "from sklearn.tree import DecisionTreeClassifier\n",
    "from sklearn.neighbors import KNeighborsClassifier\n",
    "from sklearn.metrics import confusion_matrix, accuracy_score, classification_report\n",
    "\n",
    "clf  = RandomForestClassifier(n_estimators=num_trees, random_state=seed)\n",
    "#clf = LogisticRegression(random_state=seed,max_iter=1000) \n",
    "#clf = KNeighborsClassifier(n_neighbors=5) \n",
    "#clf = DecisionTreeClassifier(random_state=seed)\n",
    "#clf = GaussianNB()\n",
    "#clf = SVC(kernel='linear', probability=True)\n",
    "\n",
    "clf.fit(trainDataHaralick, trainLabelsHaralick)\n",
    "y_predict_Hara = clf.predict_proba(testDataHaralick)"
   ]
  },
  {
   "cell_type": "code",
   "execution_count": 168,
   "metadata": {},
   "outputs": [
    {
     "data": {
      "text/plain": [
       "array([[0.44, 0.56],\n",
       "       [0.12, 0.88],\n",
       "       [0.7 , 0.3 ],\n",
       "       [0.81, 0.19],\n",
       "       [0.94, 0.06],\n",
       "       [0.12, 0.88],\n",
       "       [0.04, 0.96],\n",
       "       [0.28, 0.72],\n",
       "       [0.81, 0.19],\n",
       "       [0.44, 0.56],\n",
       "       [0.43, 0.57],\n",
       "       [0.19, 0.81],\n",
       "       [0.87, 0.13],\n",
       "       [0.69, 0.31],\n",
       "       [0.12, 0.88],\n",
       "       [0.  , 1.  ],\n",
       "       [0.54, 0.46],\n",
       "       [0.03, 0.97],\n",
       "       [0.72, 0.28],\n",
       "       [0.25, 0.75],\n",
       "       [0.09, 0.91],\n",
       "       [0.18, 0.82],\n",
       "       [0.4 , 0.6 ],\n",
       "       [0.02, 0.98],\n",
       "       [0.75, 0.25],\n",
       "       [0.67, 0.33],\n",
       "       [0.72, 0.28],\n",
       "       [0.38, 0.62],\n",
       "       [0.99, 0.01],\n",
       "       [0.71, 0.29],\n",
       "       [0.36, 0.64],\n",
       "       [0.22, 0.78],\n",
       "       [0.59, 0.41],\n",
       "       [0.68, 0.32],\n",
       "       [0.39, 0.61],\n",
       "       [0.91, 0.09],\n",
       "       [0.15, 0.85],\n",
       "       [0.53, 0.47],\n",
       "       [0.25, 0.75],\n",
       "       [0.69, 0.31],\n",
       "       [0.67, 0.33],\n",
       "       [0.86, 0.14],\n",
       "       [0.75, 0.25],\n",
       "       [0.61, 0.39],\n",
       "       [0.61, 0.39],\n",
       "       [0.25, 0.75],\n",
       "       [0.79, 0.21],\n",
       "       [0.54, 0.46],\n",
       "       [0.99, 0.01],\n",
       "       [0.9 , 0.1 ],\n",
       "       [0.09, 0.91],\n",
       "       [0.74, 0.26],\n",
       "       [0.05, 0.95],\n",
       "       [0.64, 0.36],\n",
       "       [0.94, 0.06],\n",
       "       [0.24, 0.76],\n",
       "       [0.13, 0.87],\n",
       "       [0.56, 0.44],\n",
       "       [0.86, 0.14],\n",
       "       [0.11, 0.89],\n",
       "       [0.75, 0.25],\n",
       "       [0.7 , 0.3 ],\n",
       "       [0.1 , 0.9 ],\n",
       "       [0.97, 0.03],\n",
       "       [0.57, 0.43],\n",
       "       [0.86, 0.14],\n",
       "       [0.27, 0.73],\n",
       "       [0.03, 0.97],\n",
       "       [0.13, 0.87],\n",
       "       [0.49, 0.51],\n",
       "       [0.87, 0.13],\n",
       "       [1.  , 0.  ],\n",
       "       [0.14, 0.86],\n",
       "       [0.99, 0.01],\n",
       "       [0.86, 0.14],\n",
       "       [0.06, 0.94],\n",
       "       [0.98, 0.02],\n",
       "       [0.2 , 0.8 ],\n",
       "       [0.24, 0.76],\n",
       "       [0.88, 0.12],\n",
       "       [0.25, 0.75],\n",
       "       [0.  , 1.  ],\n",
       "       [0.92, 0.08],\n",
       "       [0.24, 0.76],\n",
       "       [0.51, 0.49],\n",
       "       [0.44, 0.56],\n",
       "       [0.31, 0.69],\n",
       "       [0.38, 0.62],\n",
       "       [0.93, 0.07],\n",
       "       [0.14, 0.86],\n",
       "       [0.34, 0.66],\n",
       "       [0.08, 0.92],\n",
       "       [0.59, 0.41],\n",
       "       [0.08, 0.92],\n",
       "       [0.62, 0.38],\n",
       "       [0.31, 0.69],\n",
       "       [0.06, 0.94],\n",
       "       [0.01, 0.99],\n",
       "       [0.15, 0.85],\n",
       "       [0.22, 0.78],\n",
       "       [0.65, 0.35],\n",
       "       [0.98, 0.02],\n",
       "       [0.74, 0.26],\n",
       "       [0.8 , 0.2 ],\n",
       "       [0.4 , 0.6 ],\n",
       "       [0.4 , 0.6 ],\n",
       "       [0.01, 0.99],\n",
       "       [0.2 , 0.8 ],\n",
       "       [0.72, 0.28],\n",
       "       [0.63, 0.37],\n",
       "       [0.87, 0.13],\n",
       "       [0.04, 0.96],\n",
       "       [0.42, 0.58],\n",
       "       [0.58, 0.42],\n",
       "       [0.28, 0.72],\n",
       "       [0.51, 0.49],\n",
       "       [0.5 , 0.5 ],\n",
       "       [0.6 , 0.4 ],\n",
       "       [1.  , 0.  ],\n",
       "       [0.86, 0.14],\n",
       "       [0.41, 0.59],\n",
       "       [0.51, 0.49],\n",
       "       [0.72, 0.28],\n",
       "       [0.69, 0.31],\n",
       "       [0.98, 0.02],\n",
       "       [0.85, 0.15],\n",
       "       [0.56, 0.44],\n",
       "       [0.97, 0.03],\n",
       "       [0.65, 0.35],\n",
       "       [0.64, 0.36],\n",
       "       [0.15, 0.85],\n",
       "       [0.24, 0.76],\n",
       "       [1.  , 0.  ],\n",
       "       [0.7 , 0.3 ],\n",
       "       [0.01, 0.99],\n",
       "       [0.17, 0.83],\n",
       "       [0.75, 0.25],\n",
       "       [0.8 , 0.2 ],\n",
       "       [0.76, 0.24],\n",
       "       [0.39, 0.61],\n",
       "       [0.64, 0.36],\n",
       "       [0.43, 0.57],\n",
       "       [0.9 , 0.1 ],\n",
       "       [0.99, 0.01],\n",
       "       [0.74, 0.26],\n",
       "       [0.35, 0.65],\n",
       "       [0.79, 0.21],\n",
       "       [0.78, 0.22],\n",
       "       [0.63, 0.37],\n",
       "       [0.04, 0.96],\n",
       "       [0.61, 0.39],\n",
       "       [0.79, 0.21],\n",
       "       [0.91, 0.09],\n",
       "       [0.12, 0.88],\n",
       "       [0.6 , 0.4 ],\n",
       "       [1.  , 0.  ],\n",
       "       [0.19, 0.81],\n",
       "       [0.73, 0.27],\n",
       "       [0.16, 0.84],\n",
       "       [0.76, 0.24],\n",
       "       [0.99, 0.01],\n",
       "       [0.28, 0.72],\n",
       "       [0.83, 0.17],\n",
       "       [0.  , 1.  ],\n",
       "       [0.66, 0.34],\n",
       "       [0.11, 0.89],\n",
       "       [1.  , 0.  ],\n",
       "       [0.34, 0.66],\n",
       "       [0.91, 0.09],\n",
       "       [0.82, 0.18],\n",
       "       [0.08, 0.92],\n",
       "       [0.96, 0.04],\n",
       "       [0.37, 0.63],\n",
       "       [0.73, 0.27],\n",
       "       [0.95, 0.05],\n",
       "       [0.83, 0.17],\n",
       "       [0.75, 0.25],\n",
       "       [0.86, 0.14],\n",
       "       [0.52, 0.48],\n",
       "       [0.5 , 0.5 ],\n",
       "       [0.87, 0.13],\n",
       "       [0.92, 0.08],\n",
       "       [0.16, 0.84],\n",
       "       [1.  , 0.  ],\n",
       "       [0.91, 0.09],\n",
       "       [0.48, 0.52],\n",
       "       [0.  , 1.  ],\n",
       "       [0.38, 0.62],\n",
       "       [0.42, 0.58],\n",
       "       [0.64, 0.36],\n",
       "       [0.35, 0.65],\n",
       "       [0.06, 0.94],\n",
       "       [0.6 , 0.4 ],\n",
       "       [0.74, 0.26],\n",
       "       [0.07, 0.93],\n",
       "       [0.8 , 0.2 ],\n",
       "       [0.76, 0.24],\n",
       "       [0.37, 0.63],\n",
       "       [0.6 , 0.4 ],\n",
       "       [0.  , 1.  ],\n",
       "       [0.34, 0.66],\n",
       "       [0.08, 0.92],\n",
       "       [0.32, 0.68],\n",
       "       [0.93, 0.07],\n",
       "       [0.8 , 0.2 ],\n",
       "       [0.43, 0.57],\n",
       "       [0.96, 0.04],\n",
       "       [0.41, 0.59],\n",
       "       [0.06, 0.94],\n",
       "       [0.12, 0.88],\n",
       "       [0.72, 0.28],\n",
       "       [0.89, 0.11],\n",
       "       [0.01, 0.99],\n",
       "       [0.01, 0.99],\n",
       "       [0.09, 0.91],\n",
       "       [0.  , 1.  ],\n",
       "       [0.35, 0.65],\n",
       "       [0.21, 0.79],\n",
       "       [0.76, 0.24],\n",
       "       [0.03, 0.97],\n",
       "       [0.93, 0.07],\n",
       "       [0.48, 0.52],\n",
       "       [0.01, 0.99],\n",
       "       [0.27, 0.73],\n",
       "       [0.19, 0.81],\n",
       "       [0.49, 0.51],\n",
       "       [0.59, 0.41],\n",
       "       [0.68, 0.32],\n",
       "       [0.64, 0.36],\n",
       "       [1.  , 0.  ],\n",
       "       [0.49, 0.51],\n",
       "       [0.23, 0.77],\n",
       "       [0.77, 0.23],\n",
       "       [0.9 , 0.1 ],\n",
       "       [0.44, 0.56],\n",
       "       [0.3 , 0.7 ],\n",
       "       [0.71, 0.29],\n",
       "       [0.2 , 0.8 ],\n",
       "       [0.85, 0.15],\n",
       "       [0.  , 1.  ],\n",
       "       [0.27, 0.73],\n",
       "       [0.62, 0.38],\n",
       "       [0.39, 0.61],\n",
       "       [0.41, 0.59],\n",
       "       [0.11, 0.89],\n",
       "       [0.  , 1.  ],\n",
       "       [0.01, 0.99],\n",
       "       [0.94, 0.06],\n",
       "       [0.  , 1.  ],\n",
       "       [0.85, 0.15],\n",
       "       [0.57, 0.43],\n",
       "       [0.94, 0.06],\n",
       "       [0.68, 0.32],\n",
       "       [0.85, 0.15],\n",
       "       [0.67, 0.33],\n",
       "       [1.  , 0.  ],\n",
       "       [0.16, 0.84],\n",
       "       [0.71, 0.29],\n",
       "       [0.09, 0.91],\n",
       "       [0.39, 0.61],\n",
       "       [0.35, 0.65],\n",
       "       [0.4 , 0.6 ],\n",
       "       [0.65, 0.35],\n",
       "       [0.  , 1.  ],\n",
       "       [0.41, 0.59],\n",
       "       [0.88, 0.12],\n",
       "       [0.44, 0.56],\n",
       "       [0.67, 0.33],\n",
       "       [0.51, 0.49],\n",
       "       [0.92, 0.08],\n",
       "       [0.31, 0.69],\n",
       "       [1.  , 0.  ],\n",
       "       [0.43, 0.57],\n",
       "       [0.54, 0.46],\n",
       "       [0.83, 0.17],\n",
       "       [0.28, 0.72],\n",
       "       [1.  , 0.  ],\n",
       "       [0.75, 0.25],\n",
       "       [0.43, 0.57],\n",
       "       [0.61, 0.39],\n",
       "       [0.05, 0.95],\n",
       "       [0.  , 1.  ],\n",
       "       [0.74, 0.26],\n",
       "       [0.56, 0.44],\n",
       "       [0.97, 0.03],\n",
       "       [0.04, 0.96],\n",
       "       [0.44, 0.56],\n",
       "       [0.63, 0.37],\n",
       "       [0.17, 0.83],\n",
       "       [0.  , 1.  ],\n",
       "       [0.43, 0.57],\n",
       "       [0.79, 0.21],\n",
       "       [0.01, 0.99],\n",
       "       [0.48, 0.52],\n",
       "       [0.11, 0.89],\n",
       "       [0.48, 0.52],\n",
       "       [0.13, 0.87],\n",
       "       [0.01, 0.99],\n",
       "       [0.53, 0.47],\n",
       "       [0.39, 0.61],\n",
       "       [0.94, 0.06],\n",
       "       [0.94, 0.06],\n",
       "       [0.7 , 0.3 ],\n",
       "       [0.78, 0.22],\n",
       "       [0.82, 0.18],\n",
       "       [0.97, 0.03],\n",
       "       [0.38, 0.62],\n",
       "       [1.  , 0.  ],\n",
       "       [0.94, 0.06],\n",
       "       [0.11, 0.89],\n",
       "       [0.99, 0.01],\n",
       "       [0.87, 0.13],\n",
       "       [0.03, 0.97],\n",
       "       [0.12, 0.88],\n",
       "       [0.81, 0.19],\n",
       "       [0.88, 0.12],\n",
       "       [0.85, 0.15],\n",
       "       [0.01, 0.99],\n",
       "       [0.88, 0.12],\n",
       "       [0.71, 0.29]])"
      ]
     },
     "execution_count": 168,
     "metadata": {},
     "output_type": "execute_result"
    }
   ],
   "source": [
    "y_predict_Hara"
   ]
  },
  {
   "cell_type": "code",
   "execution_count": 169,
   "metadata": {},
   "outputs": [],
   "source": [
    "import numpy as np\n",
    "res=np.multiply(y_predict_Hara , final)"
   ]
  },
  {
   "cell_type": "code",
   "execution_count": 170,
   "metadata": {},
   "outputs": [
    {
     "data": {
      "text/plain": [
       "(320, 2)"
      ]
     },
     "execution_count": 170,
     "metadata": {},
     "output_type": "execute_result"
    }
   ],
   "source": [
    "res.shape"
   ]
  },
  {
   "cell_type": "code",
   "execution_count": 171,
   "metadata": {},
   "outputs": [
    {
     "name": "stdout",
     "output_type": "stream",
     "text": [
      "[3.81909076e-01 8.57565280e-01 2.59876381e-01 7.41461271e-01\n",
      " 8.68865784e-01 8.59827148e-01 8.87277026e-01 6.78212604e-01\n",
      " 1.42828843e-01 1.41124830e-01 2.37657479e-01 6.46268766e-01\n",
      " 7.60361649e-01 4.56360649e-01 1.10140511e-01 7.67180192e-01\n",
      " 4.11058539e-02 4.72570148e-01 1.17888802e-01 5.96727766e-01\n",
      " 8.47018072e-01 7.03148610e-01 2.00000000e-01 9.59173841e-01\n",
      " 7.14328397e-01 5.41841979e-01 6.87609033e-01 8.76731177e-02\n",
      " 8.30276247e-01 5.42886467e-03 5.91561720e-01 6.46916764e-01\n",
      " 3.87045642e-01 4.65658389e-01 2.19403323e-01 9.03923552e-01\n",
      " 6.94173756e-01 8.11708610e-02 5.94093168e-01 2.95155520e-01\n",
      " 5.90409051e-01 6.23518497e-01 6.48465109e-01 1.52372363e-01\n",
      " 2.66193660e-01 7.10555667e-02 4.69972454e-01 2.51581921e-01\n",
      " 9.71033316e-01 8.11453979e-01 8.26122400e-01 6.89535281e-01\n",
      " 7.47158857e-01 4.98909488e-01 4.36934364e-01 6.69291325e-01\n",
      " 2.84857560e-01 4.00234930e-01 7.11744715e-02 8.48674433e-01\n",
      " 3.00223408e-03 5.75393637e-01 5.40882754e-01 7.08971640e-01\n",
      " 5.55401986e-01 8.58487743e-01 2.72067009e-01 6.51947309e-01\n",
      " 1.55531290e-01 2.42429022e-01 7.52698917e-01 6.58346451e-01\n",
      " 8.41105869e-01 6.03803624e-07 8.51144324e-01 8.82174032e-01\n",
      " 9.79477434e-01 7.08569504e-01 8.35360385e-02 8.53427871e-01\n",
      " 6.84838319e-01 7.60918720e-01 8.64970998e-01 5.18219748e-01\n",
      " 3.75446977e-01 5.44523874e-01 6.55631090e-01 1.01463439e-01\n",
      " 6.11795142e-01 8.34463871e-01 6.47105610e-01 8.72031049e-01\n",
      " 2.74519615e-01 8.15898589e-01 3.02829288e-01 2.90313122e-01\n",
      " 8.87347593e-01 9.51276966e-01 7.86817946e-01 3.29186407e-01\n",
      " 6.01614722e-01 9.44401613e-01 1.43328180e-01 1.26322379e-01\n",
      " 4.21930965e-01 2.70614041e-01 9.24258831e-01 7.45534648e-01\n",
      " 7.04151065e-01 3.10626826e-01 7.67085423e-01 5.80956354e-03\n",
      " 3.63492916e-01 4.14975942e-01 6.58553682e-01 3.04024274e-01\n",
      " 4.53416339e-01 1.63181635e-01 9.96253027e-01 3.84510484e-02\n",
      " 5.55866514e-01 3.69169480e-01 6.73822277e-01 5.84726339e-01\n",
      " 8.79139675e-01 7.57735784e-01 5.48625800e-01 8.40853467e-01\n",
      " 3.06971174e-01 9.93320992e-02 7.60966829e-01 5.50022137e-01\n",
      " 9.97144072e-01 2.22248608e-01 2.30268369e-03 7.96961038e-01\n",
      " 7.48630389e-01 6.38110301e-01 2.97287729e-01 4.86616915e-01\n",
      " 3.02829866e-01 3.56723219e-01 8.95204748e-01 9.89708626e-01\n",
      " 1.69351614e-01 6.17808096e-01 7.78454788e-01 2.36150072e-01\n",
      " 4.92709448e-01 8.13783755e-01 3.68047169e-01 1.70134458e-01\n",
      " 8.22742689e-01 5.69924113e-01 5.14330219e-01 9.86264805e-01\n",
      " 7.30873686e-01 2.17603979e-01 1.16157194e-01 7.51362070e-01\n",
      " 9.66332363e-01 5.58208345e-01 3.64647329e-01 9.65595386e-01\n",
      " 6.42483983e-01 7.58918180e-01 6.12610531e-01 5.94662286e-01\n",
      " 3.17434396e-01 5.93510015e-01 6.51426374e-01 3.52078561e-01\n",
      " 5.57151993e-01 3.49775936e-01 9.40073548e-01 8.08320688e-01\n",
      " 4.30449937e-01 7.94700994e-01 3.91047806e-01 3.91656851e-01\n",
      " 8.31906246e-01 9.17550534e-01 7.69631572e-01 9.98544201e-01\n",
      " 7.88966200e-01 8.03687087e-02 8.65743441e-01 2.56925428e-01\n",
      " 4.01718094e-01 5.96893861e-01 2.78845049e-01 7.23097317e-01\n",
      " 3.62810179e-01 7.11158941e-01 1.23375427e-02 7.35127502e-01\n",
      " 5.84695449e-01 8.60400836e-02 3.25962627e-01 9.73845666e-01\n",
      " 4.72883075e-01 8.28882405e-01 2.03292258e-01 5.42584614e-01\n",
      " 1.41231161e-01 3.61612697e-01 9.23625371e-01 3.39050480e-01\n",
      " 9.24011149e-01 7.35896005e-01 1.82749088e-01 8.70491175e-01\n",
      " 9.17106020e-01 8.29545756e-01 8.76183137e-01 8.05668921e-01\n",
      " 2.74756011e-01 2.00279115e-01 2.05956313e-01 9.48505827e-01\n",
      " 8.95772469e-01 3.83167835e-01 6.27825059e-01 1.59007887e-01\n",
      " 6.24128679e-01 4.21970234e-01 1.86354041e-01 3.85878352e-01\n",
      " 3.94126655e-01 9.99838714e-01 3.32406096e-01 6.46240556e-03\n",
      " 2.01970313e-01 8.34539813e-01 2.31462915e-01 5.56864826e-01\n",
      " 7.84064938e-02 1.06248508e-02 8.08250920e-01 1.60771020e-01\n",
      " 3.01961897e-02 3.43344511e-01 6.01555765e-01 3.76680810e-01\n",
      " 7.51687937e-01 9.50063850e-01 9.31110669e-01 5.87633086e-01\n",
      " 8.72353932e-01 1.33922757e-01 1.76089488e-01 9.16492526e-01\n",
      " 3.67999338e-01 6.12725155e-01 5.53274598e-01 9.99286937e-01\n",
      " 1.15754873e-01 2.09404795e-01 3.50493025e-01 5.45422394e-01\n",
      " 5.64751997e-01 4.35053499e-01 1.27872701e-02 8.53895492e-01\n",
      " 2.29484166e-01 6.10855519e-01 4.28394536e-01 6.01702343e-01\n",
      " 6.94619523e-02 9.13749994e-01 5.53088720e-01 9.94601523e-01\n",
      " 4.04078608e-01 2.94142661e-01 4.47664109e-01 3.47442283e-01\n",
      " 9.15142343e-01 6.59580662e-01 4.84507044e-01 2.99786695e-01\n",
      " 7.72247590e-01 9.58062404e-01 1.36623550e-01 3.30564401e-01\n",
      " 2.23044630e-01 9.16717445e-01 4.59203350e-01 2.33480432e-02\n",
      " 1.02069059e-01 8.63880369e-01 5.54527813e-01 1.77499086e-01\n",
      " 2.56788619e-01 2.44243595e-01 8.38843149e-01 4.17190225e-01\n",
      " 3.38755992e-01 9.72253044e-01 3.63710285e-01 1.62623070e-01\n",
      " 7.68913953e-01 7.70327366e-03 4.45003984e-01 2.33499514e-01\n",
      " 7.98075398e-01 4.13342432e-01 8.08710223e-02 9.94641258e-01\n",
      " 9.27140237e-01 7.90884177e-01 8.01866438e-01 5.43279467e-01\n",
      " 8.88016693e-01 8.53308905e-01 1.21876158e-03 6.88989148e-01\n",
      " 6.17049845e-01 9.25356379e-01 7.79610462e-01 5.65864995e-01]\n"
     ]
    }
   ],
   "source": [
    "import numpy as np\n",
    "\n",
    "def maxelement_efficient(arr):\n",
    "  max_element_per_row = np.amax(arr, axis=1)\n",
    "  return max_element_per_row\n",
    "\n",
    "y_predictfinal2 = maxelement_efficient(res)\n",
    "\n",
    "print(y_predictfinal2)\n"
   ]
  },
  {
   "cell_type": "code",
   "execution_count": 172,
   "metadata": {},
   "outputs": [],
   "source": [
    "y_predictfinal=np.array(y_predictfinal2)"
   ]
  },
  {
   "cell_type": "code",
   "execution_count": 173,
   "metadata": {},
   "outputs": [
    {
     "name": "stdout",
     "output_type": "stream",
     "text": [
      "[0 1 1 0 0 1 1 1 0 1 1 1 0 0 0 1 1 1 0 1 1 1 0 1 0 0 0 1 0 1 1 1 0 0 1 0 1\n",
      " 0 1 0 0 0 0 0 1 0 0 0 0 0 1 0 1 0 0 1 1 1 1 1 1 0 1 0 0 0 1 1 1 0 0 0 1 1\n",
      " 0 1 0 1 0 0 1 1 0 1 1 1 1 0 0 1 1 1 1 1 1 1 1 1 1 1 0 0 1 1 1 0 1 1 0 1 0\n",
      " 0 0 0 1 1 0 1 0 1 1 0 0 0 0 0 0 0 1 0 1 1 0 1 0 1 0 0 0 1 1 0 0 0 1 1 0 0\n",
      " 0 1 0 1 0 1 0 0 1 1 0 0 0 1 0 1 0 1 0 1 0 0 1 0 1 0 0 0 0 0 1 1 0 0 1 0 0\n",
      " 1 1 1 1 0 1 1 1 0 0 0 0 0 0 1 1 1 0 0 0 1 0 0 1 1 0 0 1 1 1 1 0 1 1 1 0 0\n",
      " 1 0 1 1 0 0 0 0 0 0 1 0 1 1 0 0 0 1 0 1 1 0 1 1 1 0 1 1 0 0 0 0 0 0 0 0 1\n",
      " 1 1 1 0 1 1 0 1 0 0 0 1 0 0 0 0 1 0 0 1 0 1 1 0 1 0 1 1 1 1 1 1 1 1 0 1 1\n",
      " 1 1 1 0 0 1 0 0 0 0 1 0 0 1 0 0 1 1 1 0 0 1 0 0]\n"
     ]
    }
   ],
   "source": [
    "import numpy as np\n",
    "\n",
    "def maxelement_column(arr):\n",
    "  max_element_column = np.argmax(arr, axis=1)\n",
    "  return max_element_column\n",
    "\n",
    "y_predictlabel2 = maxelement_column(res)\n",
    "print(y_predictlabel2)"
   ]
  },
  {
   "cell_type": "code",
   "execution_count": 174,
   "metadata": {},
   "outputs": [
    {
     "data": {
      "text/plain": [
       "(320,)"
      ]
     },
     "execution_count": 174,
     "metadata": {},
     "output_type": "execute_result"
    }
   ],
   "source": [
    "y_predictlabel2.shape"
   ]
  },
  {
   "cell_type": "code",
   "execution_count": 175,
   "metadata": {},
   "outputs": [],
   "source": [
    "from sklearn.metrics import accuracy_score\n",
    "result2= accuracy_score(testLabelsHistogram,y_predictlabel2)"
   ]
  },
  {
   "cell_type": "code",
   "execution_count": 176,
   "metadata": {},
   "outputs": [
    {
     "data": {
      "text/plain": [
       "0.928125"
      ]
     },
     "execution_count": 176,
     "metadata": {},
     "output_type": "execute_result"
    }
   ],
   "source": [
    "result2"
   ]
  },
  {
   "cell_type": "code",
   "execution_count": null,
   "metadata": {},
   "outputs": [],
   "source": []
  },
  {
   "cell_type": "code",
   "execution_count": null,
   "metadata": {},
   "outputs": [],
   "source": []
  }
 ],
 "metadata": {
  "kernelspec": {
   "display_name": "deepenv",
   "language": "python",
   "name": "python3"
  },
  "language_info": {
   "codemirror_mode": {
    "name": "ipython",
    "version": 3
   },
   "file_extension": ".py",
   "mimetype": "text/x-python",
   "name": "python",
   "nbconvert_exporter": "python",
   "pygments_lexer": "ipython3",
   "version": "3.11.4"
  }
 },
 "nbformat": 4,
 "nbformat_minor": 2
}
