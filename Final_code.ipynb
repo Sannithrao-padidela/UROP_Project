{
 "cells": [
  {
   "cell_type": "code",
   "execution_count": 1,
   "metadata": {},
   "outputs": [],
   "source": [
    "from sklearn.preprocessing import LabelEncoder\n",
    "from sklearn.preprocessing import MinMaxScaler\n",
    "import numpy as np\n",
    "import mahotas\n",
    "import cv2\n",
    "import os\n",
    "import h5py\n",
    "images_per_class       = 800\n",
    "fixed_size             = tuple((256, 256))\n",
    "train_path             = \"dataset/train\"\n",
    "h5_train_data          = 'output/train_data.h5'\n",
    "h5_train_labels        = 'output/train_labels.h5'\n",
    "bins                   = 8"
   ]
  },
  {
   "cell_type": "code",
   "execution_count": 2,
   "metadata": {},
   "outputs": [],
   "source": [
    "def rgb_bgr(image):\n",
    "    rgb_img = cv2.cvtColor(image, cv2.COLOR_BGR2RGB)\n",
    "    return rgb_img"
   ]
  },
  {
   "cell_type": "code",
   "execution_count": 3,
   "metadata": {},
   "outputs": [],
   "source": [
    "def bgr_hsv(rgb_img):\n",
    "    hsv_img = cv2.cvtColor(rgb_img, cv2.COLOR_RGB2HSV)\n",
    "    return hsv_img"
   ]
  },
  {
   "cell_type": "code",
   "execution_count": 4,
   "metadata": {},
   "outputs": [],
   "source": [
    "def img_segmentation(rgb_img,hsv_img):\n",
    "    lower_green = np.array([25,0,20])\n",
    "    upper_green = np.array([100,255,255])\n",
    "    healthy_mask = cv2.inRange(hsv_img, lower_green, upper_green)\n",
    "    result = cv2.bitwise_and(rgb_img,rgb_img, mask=healthy_mask)\n",
    "    lower_brown = np.array([10,0,10])\n",
    "    upper_brown = np.array([30,255,255])\n",
    "    disease_mask = cv2.inRange(hsv_img, lower_brown, upper_brown)\n",
    "    disease_result = cv2.bitwise_and(rgb_img, rgb_img, mask=disease_mask)\n",
    "    final_mask = healthy_mask + disease_mask\n",
    "    final_result = cv2.bitwise_and(rgb_img, rgb_img, mask=final_mask)\n",
    "    return final_result\n"
   ]
  },
  {
   "cell_type": "code",
   "execution_count": 5,
   "metadata": {},
   "outputs": [],
   "source": [
    "# feature-descriptor: Color Histogram\n",
    "def fd_histogram(image, mask=None):\n",
    "    image = cv2.cvtColor(image, cv2.COLOR_BGR2HSV)\n",
    "    hist  = cv2.calcHist([image], [0, 1, 2], None, [bins, bins, bins], [0, 256, 0, 256, 0, 256])\n",
    "    cv2.normalize(hist, hist)\n",
    "    return hist.flatten()"
   ]
  },
  {
   "cell_type": "code",
   "execution_count": 6,
   "metadata": {},
   "outputs": [
    {
     "name": "stdout",
     "output_type": "stream",
     "text": [
      "['diseased', 'healthy']\n"
     ]
    }
   ],
   "source": [
    "train_labels = os.listdir(train_path)\n",
    "train_labels.sort()\n",
    "print(train_labels)\n",
    "Hog_features = []\n",
    "Histogram_features=[]\n",
    "labels = []\n",
    "labels1 = []"
   ]
  },
  {
   "cell_type": "code",
   "execution_count": 7,
   "metadata": {},
   "outputs": [
    {
     "name": "stdout",
     "output_type": "stream",
     "text": [
      "[STATUS] processed folder: diseased\n",
      "[STATUS] processed folder: healthy\n",
      "[STATUS] completed Hog Feature Extraction...\n"
     ]
    }
   ],
   "source": [
    "# Feature extraction\n",
    "from skimage.feature import hog\n",
    "from skimage import exposure\n",
    "for training_name in train_labels:\n",
    "    dir = os.path.join(train_path, training_name)\n",
    "    current_label = training_name\n",
    "    for x in range(1, images_per_class + 1):\n",
    "        file = os.path.join(dir, str(x) + \".jpg\")\n",
    "        image = cv2.imread(file)\n",
    "        image = cv2.resize(image, fixed_size)\n",
    "        RGB_BGR = rgb_bgr(image)\n",
    "        BGR_HSV = bgr_hsv(RGB_BGR)\n",
    "        IMG_SEGMENT = img_segmentation(RGB_BGR, BGR_HSV) \n",
    "        gray_image = cv2.cvtColor(IMG_SEGMENT, cv2.COLOR_BGR2GRAY)\n",
    "        fd_hog = hog(gray_image, orientations=9, pixels_per_cell=(8,8), cells_per_block=(2, 2), transform_sqrt=True, block_norm='L2-Hys')\n",
    "        labels.append(current_label)\n",
    "        Hog_features.append(fd_hog)\n",
    "    \n",
    "    print(\"[STATUS] processed folder: {}\".format(current_label))\n",
    "    \n",
    "print(\"[STATUS] completed Hog Feature Extraction...\")"
   ]
  },
  {
   "cell_type": "code",
   "execution_count": 8,
   "metadata": {},
   "outputs": [],
   "source": [
    "import os"
   ]
  },
  {
   "cell_type": "code",
   "execution_count": 9,
   "metadata": {},
   "outputs": [
    {
     "name": "stdout",
     "output_type": "stream",
     "text": [
      "[STATUS] feature vector size (1600, 34596)\n"
     ]
    }
   ],
   "source": [
    "print(\"[STATUS] feature vector size {}\".format(np.array(Hog_features).shape))"
   ]
  },
  {
   "cell_type": "code",
   "execution_count": 10,
   "metadata": {},
   "outputs": [
    {
     "name": "stdout",
     "output_type": "stream",
     "text": [
      "[STATUS] training labels encoded...\n"
     ]
    }
   ],
   "source": [
    "targetNames = np.unique(labels)\n",
    "le          = LabelEncoder()\n",
    "target      = le.fit_transform(labels)\n",
    "print(\"[STATUS] training labels encoded...\")"
   ]
  },
  {
   "cell_type": "code",
   "execution_count": 11,
   "metadata": {},
   "outputs": [
    {
     "name": "stdout",
     "output_type": "stream",
     "text": [
      "[STATUS] feature vector normalized...\n"
     ]
    }
   ],
   "source": [
    "from sklearn.preprocessing import MinMaxScaler\n",
    "scaler            = MinMaxScaler(feature_range=(0, 1))\n",
    "rescaled_features = scaler.fit_transform(Hog_features)\n",
    "print(\"[STATUS] feature vector normalized...\")"
   ]
  },
  {
   "cell_type": "code",
   "execution_count": 12,
   "metadata": {},
   "outputs": [
    {
     "data": {
      "text/plain": [
       "array([[0., 0., 0., ..., 0., 0., 0.],\n",
       "       [0., 0., 0., ..., 0., 0., 0.],\n",
       "       [0., 0., 0., ..., 0., 0., 0.],\n",
       "       ...,\n",
       "       [0., 0., 0., ..., 0., 0., 0.],\n",
       "       [0., 0., 0., ..., 0., 0., 0.],\n",
       "       [0., 0., 0., ..., 0., 0., 0.]])"
      ]
     },
     "execution_count": 12,
     "metadata": {},
     "output_type": "execute_result"
    }
   ],
   "source": [
    "rescaled_features"
   ]
  },
  {
   "cell_type": "code",
   "execution_count": 13,
   "metadata": {},
   "outputs": [
    {
     "data": {
      "text/plain": [
       "(1600, 34596)"
      ]
     },
     "execution_count": 13,
     "metadata": {},
     "output_type": "execute_result"
    }
   ],
   "source": [
    "rescaled_features.shape"
   ]
  },
  {
   "cell_type": "code",
   "execution_count": 14,
   "metadata": {},
   "outputs": [],
   "source": [
    "num_trees = 100\n",
    "test_size = 0.20\n",
    "seed      = 9"
   ]
  },
  {
   "cell_type": "code",
   "execution_count": 15,
   "metadata": {},
   "outputs": [
    {
     "name": "stdout",
     "output_type": "stream",
     "text": [
      "[STATUS] splitted train and test data...\n",
      "Train data  : (1280, 34596)\n",
      "Test data   : (320, 34596)\n"
     ]
    }
   ],
   "source": [
    "from sklearn.model_selection import train_test_split\n",
    "(trainDataHog, testDataHog, trainLabelsHog, testLabelsHog) = train_test_split(np.array(rescaled_features), np.array(target),test_size=test_size,random_state=seed)\n",
    "print(\"[STATUS] splitted train and test data...\")\n",
    "print(\"Train data  : {}\".format(trainDataHog.shape))\n",
    "print(\"Test data   : {}\".format(testDataHog.shape)) "
   ]
  },
  {
   "cell_type": "code",
   "execution_count": 16,
   "metadata": {},
   "outputs": [],
   "source": [
    "from sklearn.linear_model import LogisticRegression\n",
    "from sklearn.ensemble import RandomForestClassifier\n",
    "from sklearn.svm import SVC\n",
    "from sklearn.naive_bayes import GaussianNB\n",
    "from sklearn.tree import DecisionTreeClassifier\n",
    "from sklearn.neighbors import KNeighborsClassifier\n",
    "\n",
    "from sklearn.metrics import confusion_matrix, classification_report, accuracy_score\n",
    "import seaborn as sns\n",
    "\n",
    "clf2  = RandomForestClassifier(n_estimators=num_trees, random_state=seed)\n",
    "clf2.fit(trainDataHog, trainLabelsHog)\n",
    "y_predict = clf2.predict_proba(testDataHog)"
   ]
  },
  {
   "cell_type": "code",
   "execution_count": 17,
   "metadata": {},
   "outputs": [
    {
     "data": {
      "text/plain": [
       "(320, 2)"
      ]
     },
     "execution_count": 17,
     "metadata": {},
     "output_type": "execute_result"
    }
   ],
   "source": [
    "y_predict.shape"
   ]
  },
  {
   "cell_type": "code",
   "execution_count": 18,
   "metadata": {},
   "outputs": [
    {
     "data": {
      "text/plain": [
       "array([[0.79, 0.21],\n",
       "       [0.31, 0.69],\n",
       "       [0.46, 0.54],\n",
       "       [0.87, 0.13],\n",
       "       [0.85, 0.15],\n",
       "       [0.1 , 0.9 ],\n",
       "       [0.2 , 0.8 ],\n",
       "       [0.21, 0.79],\n",
       "       [0.26, 0.74],\n",
       "       [0.51, 0.49],\n",
       "       [0.57, 0.43],\n",
       "       [0.59, 0.41],\n",
       "       [0.94, 0.06],\n",
       "       [0.45, 0.55],\n",
       "       [0.87, 0.13],\n",
       "       [0.1 , 0.9 ],\n",
       "       [0.68, 0.32],\n",
       "       [0.56, 0.44],\n",
       "       [0.24, 0.76],\n",
       "       [0.26, 0.74],\n",
       "       [0.16, 0.84],\n",
       "       [0.12, 0.88],\n",
       "       [0.64, 0.36],\n",
       "       [0.18, 0.82],\n",
       "       [0.94, 0.06],\n",
       "       [0.63, 0.37],\n",
       "       [0.93, 0.07],\n",
       "       [0.77, 0.23],\n",
       "       [0.82, 0.18],\n",
       "       [0.81, 0.19],\n",
       "       [0.38, 0.62],\n",
       "       [0.24, 0.76],\n",
       "       [0.57, 0.43],\n",
       "       [0.96, 0.04],\n",
       "       [0.6 , 0.4 ],\n",
       "       [0.8 , 0.2 ],\n",
       "       [0.06, 0.94],\n",
       "       [0.37, 0.63],\n",
       "       [0.26, 0.74],\n",
       "       [0.34, 0.66],\n",
       "       [0.79, 0.21],\n",
       "       [0.62, 0.38],\n",
       "       [0.95, 0.05],\n",
       "       [0.57, 0.43],\n",
       "       [0.41, 0.59],\n",
       "       [0.48, 0.52],\n",
       "       [0.67, 0.33],\n",
       "       [0.64, 0.36],\n",
       "       [0.89, 0.11],\n",
       "       [0.84, 0.16],\n",
       "       [0.27, 0.73],\n",
       "       [0.62, 0.38],\n",
       "       [0.56, 0.44],\n",
       "       [0.65, 0.35],\n",
       "       [0.86, 0.14],\n",
       "       [0.23, 0.77],\n",
       "       [0.48, 0.52],\n",
       "       [0.07, 0.93],\n",
       "       [0.54, 0.46],\n",
       "       [0.79, 0.21],\n",
       "       [0.95, 0.05],\n",
       "       [0.59, 0.41],\n",
       "       [0.59, 0.41],\n",
       "       [0.93, 0.07],\n",
       "       [0.91, 0.09],\n",
       "       [0.9 , 0.1 ],\n",
       "       [0.36, 0.64],\n",
       "       [0.43, 0.57],\n",
       "       [0.71, 0.29],\n",
       "       [0.39, 0.61],\n",
       "       [0.79, 0.21],\n",
       "       [0.71, 0.29],\n",
       "       [0.08, 0.92],\n",
       "       [0.83, 0.17],\n",
       "       [0.84, 0.16],\n",
       "       [0.14, 0.86],\n",
       "       [0.88, 0.12],\n",
       "       [0.2 , 0.8 ],\n",
       "       [0.57, 0.43],\n",
       "       [0.84, 0.16],\n",
       "       [0.22, 0.78],\n",
       "       [0.05, 0.95],\n",
       "       [0.97, 0.03],\n",
       "       [0.23, 0.77],\n",
       "       [0.35, 0.65],\n",
       "       [0.35, 0.65],\n",
       "       [0.14, 0.86],\n",
       "       [0.2 , 0.8 ],\n",
       "       [0.72, 0.28],\n",
       "       [0.2 , 0.8 ],\n",
       "       [0.11, 0.89],\n",
       "       [0.16, 0.84],\n",
       "       [0.43, 0.57],\n",
       "       [0.11, 0.89],\n",
       "       [0.32, 0.68],\n",
       "       [0.59, 0.41],\n",
       "       [0.07, 0.93],\n",
       "       [0.28, 0.72],\n",
       "       [0.33, 0.67],\n",
       "       [0.56, 0.44],\n",
       "       [0.55, 0.45],\n",
       "       [0.86, 0.14],\n",
       "       [0.28, 0.72],\n",
       "       [0.48, 0.52],\n",
       "       [0.21, 0.79],\n",
       "       [0.71, 0.29],\n",
       "       [0.11, 0.89],\n",
       "       [0.37, 0.63],\n",
       "       [0.97, 0.03],\n",
       "       [0.87, 0.13],\n",
       "       [0.65, 0.35],\n",
       "       [0.14, 0.86],\n",
       "       [0.7 , 0.3 ],\n",
       "       [0.6 , 0.4 ],\n",
       "       [0.15, 0.85],\n",
       "       [0.38, 0.62],\n",
       "       [0.61, 0.39],\n",
       "       [0.72, 0.28],\n",
       "       [0.84, 0.16],\n",
       "       [0.43, 0.57],\n",
       "       [0.11, 0.89],\n",
       "       [0.84, 0.16],\n",
       "       [0.82, 0.18],\n",
       "       [0.53, 0.47],\n",
       "       [0.95, 0.05],\n",
       "       [0.76, 0.24],\n",
       "       [0.83, 0.17],\n",
       "       [0.83, 0.17],\n",
       "       [0.42, 0.58],\n",
       "       [0.49, 0.51],\n",
       "       [0.14, 0.86],\n",
       "       [0.43, 0.57],\n",
       "       [0.75, 0.25],\n",
       "       [0.32, 0.68],\n",
       "       [0.41, 0.59],\n",
       "       [0.09, 0.91],\n",
       "       [0.82, 0.18],\n",
       "       [0.65, 0.35],\n",
       "       [0.27, 0.73],\n",
       "       [0.37, 0.63],\n",
       "       [0.11, 0.89],\n",
       "       [0.78, 0.22],\n",
       "       [0.84, 0.16],\n",
       "       [0.84, 0.16],\n",
       "       [0.56, 0.44],\n",
       "       [0.14, 0.86],\n",
       "       [0.87, 0.13],\n",
       "       [0.54, 0.46],\n",
       "       [0.49, 0.51],\n",
       "       [0.16, 0.84],\n",
       "       [0.82, 0.18],\n",
       "       [0.29, 0.71],\n",
       "       [0.42, 0.58],\n",
       "       [0.48, 0.52],\n",
       "       [0.76, 0.24],\n",
       "       [0.84, 0.16],\n",
       "       [0.05, 0.95],\n",
       "       [0.54, 0.46],\n",
       "       [0.57, 0.43],\n",
       "       [0.89, 0.11],\n",
       "       [0.55, 0.45],\n",
       "       [0.54, 0.46],\n",
       "       [0.77, 0.23],\n",
       "       [0.21, 0.79],\n",
       "       [0.91, 0.09],\n",
       "       [0.29, 0.71],\n",
       "       [0.53, 0.47],\n",
       "       [0.25, 0.75],\n",
       "       [0.52, 0.48],\n",
       "       [0.58, 0.42],\n",
       "       [0.27, 0.73],\n",
       "       [0.66, 0.34],\n",
       "       [0.08, 0.92],\n",
       "       [0.76, 0.24],\n",
       "       [0.97, 0.03],\n",
       "       [0.97, 0.03],\n",
       "       [0.66, 0.34],\n",
       "       [0.62, 0.38],\n",
       "       [0.2 , 0.8 ],\n",
       "       [0.26, 0.74],\n",
       "       [0.87, 0.13],\n",
       "       [0.82, 0.18],\n",
       "       [0.25, 0.75],\n",
       "       [0.77, 0.23],\n",
       "       [0.65, 0.35],\n",
       "       [0.64, 0.36],\n",
       "       [0.29, 0.71],\n",
       "       [0.48, 0.52],\n",
       "       [0.36, 0.64],\n",
       "       [0.8 , 0.2 ],\n",
       "       [0.72, 0.28],\n",
       "       [0.24, 0.76],\n",
       "       [0.23, 0.77],\n",
       "       [0.72, 0.28],\n",
       "       [0.23, 0.77],\n",
       "       [0.7 , 0.3 ],\n",
       "       [0.84, 0.16],\n",
       "       [0.27, 0.73],\n",
       "       [0.84, 0.16],\n",
       "       [0.07, 0.93],\n",
       "       [0.24, 0.76],\n",
       "       [0.07, 0.93],\n",
       "       [0.3 , 0.7 ],\n",
       "       [0.52, 0.48],\n",
       "       [0.45, 0.55],\n",
       "       [0.47, 0.53],\n",
       "       [0.91, 0.09],\n",
       "       [0.86, 0.14],\n",
       "       [0.12, 0.88],\n",
       "       [0.13, 0.87],\n",
       "       [0.55, 0.45],\n",
       "       [0.77, 0.23],\n",
       "       [0.14, 0.86],\n",
       "       [0.31, 0.69],\n",
       "       [0.17, 0.83],\n",
       "       [0.14, 0.86],\n",
       "       [0.43, 0.57],\n",
       "       [0.6 , 0.4 ],\n",
       "       [0.26, 0.74],\n",
       "       [0.23, 0.77],\n",
       "       [0.9 , 0.1 ],\n",
       "       [0.6 , 0.4 ],\n",
       "       [0.46, 0.54],\n",
       "       [0.64, 0.36],\n",
       "       [0.64, 0.36],\n",
       "       [0.22, 0.78],\n",
       "       [0.41, 0.59],\n",
       "       [0.51, 0.49],\n",
       "       [0.68, 0.32],\n",
       "       [0.91, 0.09],\n",
       "       [0.58, 0.42],\n",
       "       [0.15, 0.85],\n",
       "       [0.55, 0.45],\n",
       "       [0.73, 0.27],\n",
       "       [0.39, 0.61],\n",
       "       [0.3 , 0.7 ],\n",
       "       [0.62, 0.38],\n",
       "       [0.04, 0.96],\n",
       "       [0.92, 0.08],\n",
       "       [0.59, 0.41],\n",
       "       [0.21, 0.79],\n",
       "       [0.21, 0.79],\n",
       "       [0.14, 0.86],\n",
       "       [0.86, 0.14],\n",
       "       [0.36, 0.64],\n",
       "       [0.08, 0.92],\n",
       "       [0.07, 0.93],\n",
       "       [0.54, 0.46],\n",
       "       [0.28, 0.72],\n",
       "       [0.26, 0.74],\n",
       "       [0.53, 0.47],\n",
       "       [0.78, 0.22],\n",
       "       [0.61, 0.39],\n",
       "       [0.57, 0.43],\n",
       "       [0.53, 0.47],\n",
       "       [0.86, 0.14],\n",
       "       [0.95, 0.05],\n",
       "       [0.36, 0.64],\n",
       "       [0.55, 0.45],\n",
       "       [0.32, 0.68],\n",
       "       [0.38, 0.62],\n",
       "       [0.18, 0.82],\n",
       "       [0.25, 0.75],\n",
       "       [0.17, 0.83],\n",
       "       [0.65, 0.35],\n",
       "       [0.46, 0.54],\n",
       "       [0.38, 0.62],\n",
       "       [0.8 , 0.2 ],\n",
       "       [0.44, 0.56],\n",
       "       [0.65, 0.35],\n",
       "       [0.74, 0.26],\n",
       "       [0.89, 0.11],\n",
       "       [0.66, 0.34],\n",
       "       [0.22, 0.78],\n",
       "       [0.65, 0.35],\n",
       "       [0.35, 0.65],\n",
       "       [0.79, 0.21],\n",
       "       [0.65, 0.35],\n",
       "       [0.13, 0.87],\n",
       "       [0.46, 0.54],\n",
       "       [0.34, 0.66],\n",
       "       [0.17, 0.83],\n",
       "       [0.47, 0.53],\n",
       "       [0.4 , 0.6 ],\n",
       "       [0.62, 0.38],\n",
       "       [0.29, 0.71],\n",
       "       [0.3 , 0.7 ],\n",
       "       [0.83, 0.17],\n",
       "       [0.71, 0.29],\n",
       "       [0.29, 0.71],\n",
       "       [0.22, 0.78],\n",
       "       [0.16, 0.84],\n",
       "       [0.51, 0.49],\n",
       "       [0.62, 0.38],\n",
       "       [0.26, 0.74],\n",
       "       [0.52, 0.48],\n",
       "       [0.57, 0.43],\n",
       "       [0.05, 0.95],\n",
       "       [0.09, 0.91],\n",
       "       [0.45, 0.55],\n",
       "       [0.91, 0.09],\n",
       "       [0.57, 0.43],\n",
       "       [0.46, 0.54],\n",
       "       [0.47, 0.53],\n",
       "       [0.65, 0.35],\n",
       "       [0.81, 0.19],\n",
       "       [0.47, 0.53],\n",
       "       [0.85, 0.15],\n",
       "       [0.95, 0.05],\n",
       "       [0.24, 0.76],\n",
       "       [0.64, 0.36],\n",
       "       [0.55, 0.45],\n",
       "       [0.43, 0.57],\n",
       "       [0.12, 0.88],\n",
       "       [0.8 , 0.2 ],\n",
       "       [0.65, 0.35],\n",
       "       [0.57, 0.43],\n",
       "       [0.11, 0.89],\n",
       "       [0.57, 0.43],\n",
       "       [0.72, 0.28]])"
      ]
     },
     "execution_count": 18,
     "metadata": {},
     "output_type": "execute_result"
    }
   ],
   "source": [
    "y_predict"
   ]
  },
  {
   "cell_type": "code",
   "execution_count": 19,
   "metadata": {},
   "outputs": [
    {
     "name": "stdout",
     "output_type": "stream",
     "text": [
      "[STATUS] processed folder: diseased\n",
      "[STATUS] processed folder: healthy\n",
      "[STATUS] completed Histogram Feature Extraction...\n"
     ]
    }
   ],
   "source": [
    "from skimage import exposure\n",
    "for training_name in train_labels:\n",
    "    dir = os.path.join(train_path, training_name)\n",
    "    current_label = training_name\n",
    "    for x in range(1, images_per_class + 1):\n",
    "        file = os.path.join(dir, str(x) + \".jpg\")\n",
    "        image = cv2.imread(file)\n",
    "        image = cv2.resize(image, fixed_size)\n",
    "        RGB_BGR = rgb_bgr(image)\n",
    "        BGR_HSV = bgr_hsv(RGB_BGR)\n",
    "        IMG_SEGMENT = img_segmentation(RGB_BGR, BGR_HSV) \n",
    "        fv_Histogram= fd_histogram(IMG_SEGMENT)\n",
    "        labels1.append(current_label)\n",
    "        Histogram_features.append(fv_Histogram)\n",
    "    \n",
    "    print(\"[STATUS] processed folder: {}\".format(current_label))\n",
    "    \n",
    "print(\"[STATUS] completed Histogram Feature Extraction...\")"
   ]
  },
  {
   "cell_type": "code",
   "execution_count": 20,
   "metadata": {},
   "outputs": [
    {
     "name": "stdout",
     "output_type": "stream",
     "text": [
      "[STATUS] feature vector size (1600, 512)\n"
     ]
    }
   ],
   "source": [
    "print(\"[STATUS] feature vector size {}\".format(np.array(Histogram_features).shape))"
   ]
  },
  {
   "cell_type": "code",
   "execution_count": 21,
   "metadata": {},
   "outputs": [
    {
     "name": "stdout",
     "output_type": "stream",
     "text": [
      "[STATUS] training Labels (1600,)\n"
     ]
    }
   ],
   "source": [
    "print(\"[STATUS] training Labels {}\".format(np.array(labels1).shape))"
   ]
  },
  {
   "cell_type": "code",
   "execution_count": 22,
   "metadata": {},
   "outputs": [
    {
     "name": "stdout",
     "output_type": "stream",
     "text": [
      "[STATUS] training labels encoded...\n"
     ]
    }
   ],
   "source": [
    "targetNames = np.unique(labels1)\n",
    "le          = LabelEncoder()\n",
    "target      = le.fit_transform(labels1)\n",
    "print(\"[STATUS] training labels encoded...\")"
   ]
  },
  {
   "cell_type": "code",
   "execution_count": 23,
   "metadata": {},
   "outputs": [
    {
     "name": "stdout",
     "output_type": "stream",
     "text": [
      "[STATUS] feature vector normalized...\n"
     ]
    }
   ],
   "source": [
    "from sklearn.preprocessing import MinMaxScaler\n",
    "scaler            = MinMaxScaler(feature_range=(0, 1))\n",
    "rescaled_features1 = scaler.fit_transform(Histogram_features)\n",
    "print(\"[STATUS] feature vector normalized...\")"
   ]
  },
  {
   "cell_type": "code",
   "execution_count": 24,
   "metadata": {},
   "outputs": [
    {
     "data": {
      "text/plain": [
       "(1600, 512)"
      ]
     },
     "execution_count": 24,
     "metadata": {},
     "output_type": "execute_result"
    }
   ],
   "source": [
    "rescaled_features1.shape"
   ]
  },
  {
   "cell_type": "code",
   "execution_count": 25,
   "metadata": {},
   "outputs": [
    {
     "name": "stdout",
     "output_type": "stream",
     "text": [
      "[STATUS] splitted train and test data...\n",
      "Train data  : (1280, 512)\n",
      "Test data   : (320, 512)\n"
     ]
    }
   ],
   "source": [
    "from sklearn.model_selection import train_test_split\n",
    "(trainDataHistogram, testDataHistogram, trainLabelsHistogram, testLabelsHistogram) = train_test_split(np.array(rescaled_features1), np.array(target),test_size=test_size,random_state=seed)\n",
    "print(\"[STATUS] splitted train and test data...\")\n",
    "print(\"Train data  : {}\".format(trainDataHistogram.shape))\n",
    "print(\"Test data   : {}\".format(testDataHistogram.shape)) "
   ]
  },
  {
   "cell_type": "code",
   "execution_count": 26,
   "metadata": {},
   "outputs": [
    {
     "data": {
      "text/plain": [
       "array([[0.89868999, 0.03427632, 0.        , ..., 0.        , 0.        ,\n",
       "        0.        ],\n",
       "       [0.97074117, 0.        , 0.        , ..., 0.        , 0.        ,\n",
       "        0.        ],\n",
       "       [0.96591603, 0.01332912, 0.02549925, ..., 0.        , 0.        ,\n",
       "        0.        ],\n",
       "       ...,\n",
       "       [0.9815963 , 0.01239635, 0.03557221, ..., 0.        , 0.        ,\n",
       "        0.        ],\n",
       "       [0.96860402, 0.01473364, 0.        , ..., 0.        , 0.        ,\n",
       "        0.        ],\n",
       "       [0.9613786 , 0.0379812 , 0.09687979, ..., 0.        , 0.        ,\n",
       "        0.        ]])"
      ]
     },
     "execution_count": 26,
     "metadata": {},
     "output_type": "execute_result"
    }
   ],
   "source": [
    "rescaled_features1"
   ]
  },
  {
   "cell_type": "code",
   "execution_count": 27,
   "metadata": {},
   "outputs": [],
   "source": [
    "import seaborn as sns\n",
    "from sklearn.metrics import accuracy_score\n",
    "from sklearn.ensemble import RandomForestClassifier\n",
    "from sklearn.linear_model import LogisticRegression\n",
    "from sklearn.svm import SVC\n",
    "from sklearn.naive_bayes import GaussianNB\n",
    "from sklearn.tree import DecisionTreeClassifier\n",
    "from sklearn.neighbors import KNeighborsClassifier\n",
    "from sklearn.metrics import confusion_matrix, accuracy_score, classification_report\n",
    "clf  = RandomForestClassifier(n_estimators=num_trees, random_state=seed)\n",
    "\n",
    "clf.fit(trainDataHistogram, trainLabelsHistogram)\n",
    "y_predict_RFC = clf.predict_proba(testDataHistogram)\n"
   ]
  },
  {
   "cell_type": "code",
   "execution_count": 28,
   "metadata": {},
   "outputs": [
    {
     "data": {
      "text/plain": [
       "(320, 2)"
      ]
     },
     "execution_count": 28,
     "metadata": {},
     "output_type": "execute_result"
    }
   ],
   "source": [
    "y_predict_RFC.shape"
   ]
  },
  {
   "cell_type": "code",
   "execution_count": 29,
   "metadata": {},
   "outputs": [
    {
     "data": {
      "text/plain": [
       "array([[0.4 , 0.6 ],\n",
       "       [0.02, 0.98],\n",
       "       [0.16, 0.84],\n",
       "       [1.  , 0.  ],\n",
       "       [0.9 , 0.1 ],\n",
       "       [0.01, 0.99],\n",
       "       [0.06, 0.94],\n",
       "       [0.01, 0.99],\n",
       "       [0.91, 0.09],\n",
       "       [0.44, 0.56],\n",
       "       [0.16, 0.84],\n",
       "       [0.06, 0.94],\n",
       "       [0.97, 0.03],\n",
       "       [0.57, 0.43],\n",
       "       [0.63, 0.37],\n",
       "       [0.  , 1.  ],\n",
       "       [0.3 , 0.7 ],\n",
       "       [0.02, 0.98],\n",
       "       [0.13, 0.87],\n",
       "       [0.03, 0.97],\n",
       "       [0.09, 0.91],\n",
       "       [0.02, 0.98],\n",
       "       [1.  , 0.  ],\n",
       "       [0.  , 1.  ],\n",
       "       [0.87, 0.13],\n",
       "       [0.99, 0.01],\n",
       "       [1.  , 0.  ],\n",
       "       [0.4 , 0.6 ],\n",
       "       [0.99, 0.01],\n",
       "       [0.71, 0.29],\n",
       "       [0.  , 1.  ],\n",
       "       [0.37, 0.63],\n",
       "       [0.61, 0.39],\n",
       "       [0.94, 0.06],\n",
       "       [0.1 , 0.9 ],\n",
       "       [0.85, 0.15],\n",
       "       [0.14, 0.86],\n",
       "       [0.13, 0.87],\n",
       "       [0.  , 1.  ],\n",
       "       [0.84, 0.16],\n",
       "       [0.26, 0.74],\n",
       "       [1.  , 0.  ],\n",
       "       [0.95, 0.05],\n",
       "       [0.92, 0.08],\n",
       "       [0.04, 0.96],\n",
       "       [0.74, 0.26],\n",
       "       [0.72, 0.28],\n",
       "       [0.91, 0.09],\n",
       "       [0.99, 0.01],\n",
       "       [1.  , 0.  ],\n",
       "       [0.01, 0.99],\n",
       "       [1.  , 0.  ],\n",
       "       [0.  , 1.  ],\n",
       "       [0.83, 0.17],\n",
       "       [0.97, 0.03],\n",
       "       [0.08, 0.92],\n",
       "       [0.03, 0.97],\n",
       "       [0.03, 0.97],\n",
       "       [0.79, 0.21],\n",
       "       [0.02, 0.98],\n",
       "       [0.85, 0.15],\n",
       "       [0.98, 0.02],\n",
       "       [0.08, 0.92],\n",
       "       [0.88, 0.12],\n",
       "       [0.99, 0.01],\n",
       "       [1.  , 0.  ],\n",
       "       [0.46, 0.54],\n",
       "       [0.  , 1.  ],\n",
       "       [0.09, 0.91],\n",
       "       [0.77, 0.23],\n",
       "       [1.  , 0.  ],\n",
       "       [1.  , 0.  ],\n",
       "       [0.05, 0.95],\n",
       "       [0.91, 0.09],\n",
       "       [0.68, 0.32],\n",
       "       [0.22, 0.78],\n",
       "       [0.92, 0.08],\n",
       "       [0.14, 0.86],\n",
       "       [0.31, 0.69],\n",
       "       [1.  , 0.  ],\n",
       "       [0.  , 1.  ],\n",
       "       [0.  , 1.  ],\n",
       "       [0.79, 0.21],\n",
       "       [0.11, 0.89],\n",
       "       [0.04, 0.96],\n",
       "       [0.04, 0.96],\n",
       "       [0.08, 0.92],\n",
       "       [0.84, 0.16],\n",
       "       [0.99, 0.01],\n",
       "       [0.01, 0.99],\n",
       "       [0.04, 0.96],\n",
       "       [0.02, 0.98],\n",
       "       [0.  , 1.  ],\n",
       "       [0.09, 0.91],\n",
       "       [0.02, 0.98],\n",
       "       [0.01, 0.99],\n",
       "       [0.13, 0.87],\n",
       "       [0.01, 0.99],\n",
       "       [0.12, 0.88],\n",
       "       [0.21, 0.79],\n",
       "       [0.92, 0.08],\n",
       "       [0.98, 0.02],\n",
       "       [0.12, 0.88],\n",
       "       [0.15, 0.85],\n",
       "       [0.05, 0.95],\n",
       "       [0.94, 0.06],\n",
       "       [0.  , 1.  ],\n",
       "       [0.02, 0.98],\n",
       "       [0.99, 0.01],\n",
       "       [0.22, 0.78],\n",
       "       [0.95, 0.05],\n",
       "       [0.1 , 0.9 ],\n",
       "       [0.85, 0.15],\n",
       "       [0.76, 0.24],\n",
       "       [0.05, 0.95],\n",
       "       [0.  , 1.  ],\n",
       "       [1.  , 0.  ],\n",
       "       [0.  , 1.  ],\n",
       "       [0.98, 0.02],\n",
       "       [0.1 , 0.9 ],\n",
       "       [0.01, 0.99],\n",
       "       [0.99, 0.01],\n",
       "       [0.83, 0.17],\n",
       "       [0.93, 0.07],\n",
       "       [0.97, 0.03],\n",
       "       [0.99, 0.01],\n",
       "       [0.98, 0.02],\n",
       "       [0.94, 0.06],\n",
       "       [0.53, 0.47],\n",
       "       [0.58, 0.42],\n",
       "       [0.02, 0.98],\n",
       "       [0.  , 1.  ],\n",
       "       [0.97, 0.03],\n",
       "       [0.23, 0.77],\n",
       "       [0.87, 0.13],\n",
       "       [0.  , 1.  ],\n",
       "       [1.  , 0.  ],\n",
       "       [1.  , 0.  ],\n",
       "       [0.98, 0.02],\n",
       "       [0.06, 0.94],\n",
       "       [0.13, 0.87],\n",
       "       [0.91, 0.09],\n",
       "       [0.76, 0.24],\n",
       "       [0.69, 0.31],\n",
       "       [0.03, 0.97],\n",
       "       [0.  , 1.  ],\n",
       "       [0.86, 0.14],\n",
       "       [0.88, 0.12],\n",
       "       [1.  , 0.  ],\n",
       "       [0.02, 0.98],\n",
       "       [0.93, 0.07],\n",
       "       [0.05, 0.95],\n",
       "       [1.  , 0.  ],\n",
       "       [0.01, 0.99],\n",
       "       [0.96, 0.04],\n",
       "       [1.  , 0.  ],\n",
       "       [0.12, 0.88],\n",
       "       [0.48, 0.52],\n",
       "       [1.  , 0.  ],\n",
       "       [0.96, 0.04],\n",
       "       [0.94, 0.06],\n",
       "       [0.01, 0.99],\n",
       "       [1.  , 0.  ],\n",
       "       [0.01, 0.99],\n",
       "       [0.96, 0.04],\n",
       "       [0.  , 1.  ],\n",
       "       [1.  , 0.  ],\n",
       "       [0.  , 1.  ],\n",
       "       [0.75, 0.25],\n",
       "       [0.79, 0.21],\n",
       "       [0.  , 1.  ],\n",
       "       [1.  , 0.  ],\n",
       "       [0.12, 0.88],\n",
       "       [0.99, 0.01],\n",
       "       [1.  , 0.  ],\n",
       "       [0.98, 0.02],\n",
       "       [0.85, 0.15],\n",
       "       [0.97, 0.03],\n",
       "       [0.02, 0.98],\n",
       "       [0.  , 1.  ],\n",
       "       [0.99, 0.01],\n",
       "       [0.54, 0.46],\n",
       "       [0.1 , 0.9 ],\n",
       "       [0.99, 0.01],\n",
       "       [0.95, 0.05],\n",
       "       [0.23, 0.77],\n",
       "       [0.  , 1.  ],\n",
       "       [0.23, 0.77],\n",
       "       [0.15, 0.85],\n",
       "       [1.  , 0.  ],\n",
       "       [0.13, 0.87],\n",
       "       [0.01, 0.99],\n",
       "       [0.05, 0.95],\n",
       "       [1.  , 0.  ],\n",
       "       [0.15, 0.85],\n",
       "       [0.79, 0.21],\n",
       "       [0.95, 0.05],\n",
       "       [0.45, 0.55],\n",
       "       [0.99, 0.01],\n",
       "       [0.  , 1.  ],\n",
       "       [0.78, 0.22],\n",
       "       [0.01, 0.99],\n",
       "       [0.75, 0.25],\n",
       "       [0.92, 0.08],\n",
       "       [0.92, 0.08],\n",
       "       [0.24, 0.76],\n",
       "       [1.  , 0.  ],\n",
       "       [0.95, 0.05],\n",
       "       [0.  , 1.  ],\n",
       "       [0.03, 0.97],\n",
       "       [0.94, 0.06],\n",
       "       [0.86, 0.14],\n",
       "       [0.  , 1.  ],\n",
       "       [0.  , 1.  ],\n",
       "       [0.06, 0.94],\n",
       "       [0.01, 0.99],\n",
       "       [0.99, 0.01],\n",
       "       [0.03, 0.97],\n",
       "       [0.07, 0.93],\n",
       "       [0.03, 0.97],\n",
       "       [1.  , 0.  ],\n",
       "       [0.98, 0.02],\n",
       "       [0.02, 0.98],\n",
       "       [0.99, 0.01],\n",
       "       [0.01, 0.99],\n",
       "       [0.02, 0.98],\n",
       "       [0.99, 0.01],\n",
       "       [0.99, 0.01],\n",
       "       [1.  , 0.  ],\n",
       "       [0.99, 0.01],\n",
       "       [0.98, 0.02],\n",
       "       [0.46, 0.54],\n",
       "       [0.01, 0.99],\n",
       "       [0.98, 0.02],\n",
       "       [0.  , 1.  ],\n",
       "       [0.05, 0.95],\n",
       "       [0.2 , 0.8 ],\n",
       "       [0.08, 0.92],\n",
       "       [1.  , 0.  ],\n",
       "       [0.  , 1.  ],\n",
       "       [0.9 , 0.1 ],\n",
       "       [0.25, 0.75],\n",
       "       [0.11, 0.89],\n",
       "       [0.99, 0.01],\n",
       "       [0.03, 0.97],\n",
       "       [0.01, 0.99],\n",
       "       [0.  , 1.  ],\n",
       "       [0.99, 0.01],\n",
       "       [0.21, 0.79],\n",
       "       [0.14, 0.86],\n",
       "       [1.  , 0.  ],\n",
       "       [1.  , 0.  ],\n",
       "       [0.93, 0.07],\n",
       "       [0.9 , 0.1 ],\n",
       "       [1.  , 0.  ],\n",
       "       [0.97, 0.03],\n",
       "       [0.99, 0.01],\n",
       "       [0.07, 0.93],\n",
       "       [0.01, 0.99],\n",
       "       [0.12, 0.88],\n",
       "       [0.07, 0.93],\n",
       "       [0.02, 0.98],\n",
       "       [0.  , 1.  ],\n",
       "       [0.  , 1.  ],\n",
       "       [0.4 , 0.6 ],\n",
       "       [0.98, 0.02],\n",
       "       [0.16, 0.84],\n",
       "       [0.8 , 0.2 ],\n",
       "       [0.45, 0.55],\n",
       "       [0.96, 0.04],\n",
       "       [0.  , 1.  ],\n",
       "       [0.99, 0.01],\n",
       "       [1.  , 0.  ],\n",
       "       [0.95, 0.05],\n",
       "       [1.  , 0.  ],\n",
       "       [0.02, 0.98],\n",
       "       [1.  , 0.  ],\n",
       "       [0.91, 0.09],\n",
       "       [0.21, 0.79],\n",
       "       [0.7 , 0.3 ],\n",
       "       [0.01, 0.99],\n",
       "       [0.01, 0.99],\n",
       "       [0.38, 0.62],\n",
       "       [0.45, 0.55],\n",
       "       [0.87, 0.13],\n",
       "       [0.  , 1.  ],\n",
       "       [0.05, 0.95],\n",
       "       [0.1 , 0.9 ],\n",
       "       [0.02, 0.98],\n",
       "       [0.15, 0.85],\n",
       "       [0.11, 0.89],\n",
       "       [0.06, 0.94],\n",
       "       [0.03, 0.97],\n",
       "       [0.99, 0.01],\n",
       "       [0.05, 0.95],\n",
       "       [0.06, 0.94],\n",
       "       [0.  , 1.  ],\n",
       "       [0.01, 0.99],\n",
       "       [0.02, 0.98],\n",
       "       [0.88, 0.12],\n",
       "       [0.94, 0.06],\n",
       "       [0.52, 0.48],\n",
       "       [0.8 , 0.2 ],\n",
       "       [0.99, 0.01],\n",
       "       [0.91, 0.09],\n",
       "       [0.98, 0.02],\n",
       "       [0.  , 1.  ],\n",
       "       [0.94, 0.06],\n",
       "       [0.8 , 0.2 ],\n",
       "       [0.  , 1.  ],\n",
       "       [0.96, 0.04],\n",
       "       [0.84, 0.16],\n",
       "       [0.01, 0.99],\n",
       "       [0.04, 0.96],\n",
       "       [0.59, 0.41],\n",
       "       [0.99, 0.01],\n",
       "       [0.52, 0.48],\n",
       "       [0.  , 1.  ],\n",
       "       [0.88, 0.12],\n",
       "       [1.  , 0.  ]])"
      ]
     },
     "execution_count": 29,
     "metadata": {},
     "output_type": "execute_result"
    }
   ],
   "source": [
    "y_predict_RFC"
   ]
  },
  {
   "cell_type": "code",
   "execution_count": 30,
   "metadata": {},
   "outputs": [],
   "source": [
    "import numpy as np\n",
    "final=np.multiply(y_predict,y_predict_RFC)"
   ]
  },
  {
   "cell_type": "code",
   "execution_count": 31,
   "metadata": {},
   "outputs": [
    {
     "data": {
      "text/plain": [
       "array([[3.160e-01, 1.260e-01],\n",
       "       [6.200e-03, 6.762e-01],\n",
       "       [7.360e-02, 4.536e-01],\n",
       "       [8.700e-01, 0.000e+00],\n",
       "       [7.650e-01, 1.500e-02],\n",
       "       [1.000e-03, 8.910e-01],\n",
       "       [1.200e-02, 7.520e-01],\n",
       "       [2.100e-03, 7.821e-01],\n",
       "       [2.366e-01, 6.660e-02],\n",
       "       [2.244e-01, 2.744e-01],\n",
       "       [9.120e-02, 3.612e-01],\n",
       "       [3.540e-02, 3.854e-01],\n",
       "       [9.118e-01, 1.800e-03],\n",
       "       [2.565e-01, 2.365e-01],\n",
       "       [5.481e-01, 4.810e-02],\n",
       "       [0.000e+00, 9.000e-01],\n",
       "       [2.040e-01, 2.240e-01],\n",
       "       [1.120e-02, 4.312e-01],\n",
       "       [3.120e-02, 6.612e-01],\n",
       "       [7.800e-03, 7.178e-01],\n",
       "       [1.440e-02, 7.644e-01],\n",
       "       [2.400e-03, 8.624e-01],\n",
       "       [6.400e-01, 0.000e+00],\n",
       "       [0.000e+00, 8.200e-01],\n",
       "       [8.178e-01, 7.800e-03],\n",
       "       [6.237e-01, 3.700e-03],\n",
       "       [9.300e-01, 0.000e+00],\n",
       "       [3.080e-01, 1.380e-01],\n",
       "       [8.118e-01, 1.800e-03],\n",
       "       [5.751e-01, 5.510e-02],\n",
       "       [0.000e+00, 6.200e-01],\n",
       "       [8.880e-02, 4.788e-01],\n",
       "       [3.477e-01, 1.677e-01],\n",
       "       [9.024e-01, 2.400e-03],\n",
       "       [6.000e-02, 3.600e-01],\n",
       "       [6.800e-01, 3.000e-02],\n",
       "       [8.400e-03, 8.084e-01],\n",
       "       [4.810e-02, 5.481e-01],\n",
       "       [0.000e+00, 7.400e-01],\n",
       "       [2.856e-01, 1.056e-01],\n",
       "       [2.054e-01, 1.554e-01],\n",
       "       [6.200e-01, 0.000e+00],\n",
       "       [9.025e-01, 2.500e-03],\n",
       "       [5.244e-01, 3.440e-02],\n",
       "       [1.640e-02, 5.664e-01],\n",
       "       [3.552e-01, 1.352e-01],\n",
       "       [4.824e-01, 9.240e-02],\n",
       "       [5.824e-01, 3.240e-02],\n",
       "       [8.811e-01, 1.100e-03],\n",
       "       [8.400e-01, 0.000e+00],\n",
       "       [2.700e-03, 7.227e-01],\n",
       "       [6.200e-01, 0.000e+00],\n",
       "       [0.000e+00, 4.400e-01],\n",
       "       [5.395e-01, 5.950e-02],\n",
       "       [8.342e-01, 4.200e-03],\n",
       "       [1.840e-02, 7.084e-01],\n",
       "       [1.440e-02, 5.044e-01],\n",
       "       [2.100e-03, 9.021e-01],\n",
       "       [4.266e-01, 9.660e-02],\n",
       "       [1.580e-02, 2.058e-01],\n",
       "       [8.075e-01, 7.500e-03],\n",
       "       [5.782e-01, 8.200e-03],\n",
       "       [4.720e-02, 3.772e-01],\n",
       "       [8.184e-01, 8.400e-03],\n",
       "       [9.009e-01, 9.000e-04],\n",
       "       [9.000e-01, 0.000e+00],\n",
       "       [1.656e-01, 3.456e-01],\n",
       "       [0.000e+00, 5.700e-01],\n",
       "       [6.390e-02, 2.639e-01],\n",
       "       [3.003e-01, 1.403e-01],\n",
       "       [7.900e-01, 0.000e+00],\n",
       "       [7.100e-01, 0.000e+00],\n",
       "       [4.000e-03, 8.740e-01],\n",
       "       [7.553e-01, 1.530e-02],\n",
       "       [5.712e-01, 5.120e-02],\n",
       "       [3.080e-02, 6.708e-01],\n",
       "       [8.096e-01, 9.600e-03],\n",
       "       [2.800e-02, 6.880e-01],\n",
       "       [1.767e-01, 2.967e-01],\n",
       "       [8.400e-01, 0.000e+00],\n",
       "       [0.000e+00, 7.800e-01],\n",
       "       [0.000e+00, 9.500e-01],\n",
       "       [7.663e-01, 6.300e-03],\n",
       "       [2.530e-02, 6.853e-01],\n",
       "       [1.400e-02, 6.240e-01],\n",
       "       [1.400e-02, 6.240e-01],\n",
       "       [1.120e-02, 7.912e-01],\n",
       "       [1.680e-01, 1.280e-01],\n",
       "       [7.128e-01, 2.800e-03],\n",
       "       [2.000e-03, 7.920e-01],\n",
       "       [4.400e-03, 8.544e-01],\n",
       "       [3.200e-03, 8.232e-01],\n",
       "       [0.000e+00, 5.700e-01],\n",
       "       [9.900e-03, 8.099e-01],\n",
       "       [6.400e-03, 6.664e-01],\n",
       "       [5.900e-03, 4.059e-01],\n",
       "       [9.100e-03, 8.091e-01],\n",
       "       [2.800e-03, 7.128e-01],\n",
       "       [3.960e-02, 5.896e-01],\n",
       "       [1.176e-01, 3.476e-01],\n",
       "       [5.060e-01, 3.600e-02],\n",
       "       [8.428e-01, 2.800e-03],\n",
       "       [3.360e-02, 6.336e-01],\n",
       "       [7.200e-02, 4.420e-01],\n",
       "       [1.050e-02, 7.505e-01],\n",
       "       [6.674e-01, 1.740e-02],\n",
       "       [0.000e+00, 8.900e-01],\n",
       "       [7.400e-03, 6.174e-01],\n",
       "       [9.603e-01, 3.000e-04],\n",
       "       [1.914e-01, 1.014e-01],\n",
       "       [6.175e-01, 1.750e-02],\n",
       "       [1.400e-02, 7.740e-01],\n",
       "       [5.950e-01, 4.500e-02],\n",
       "       [4.560e-01, 9.600e-02],\n",
       "       [7.500e-03, 8.075e-01],\n",
       "       [0.000e+00, 6.200e-01],\n",
       "       [6.100e-01, 0.000e+00],\n",
       "       [0.000e+00, 2.800e-01],\n",
       "       [8.232e-01, 3.200e-03],\n",
       "       [4.300e-02, 5.130e-01],\n",
       "       [1.100e-03, 8.811e-01],\n",
       "       [8.316e-01, 1.600e-03],\n",
       "       [6.806e-01, 3.060e-02],\n",
       "       [4.929e-01, 3.290e-02],\n",
       "       [9.215e-01, 1.500e-03],\n",
       "       [7.524e-01, 2.400e-03],\n",
       "       [8.134e-01, 3.400e-03],\n",
       "       [7.802e-01, 1.020e-02],\n",
       "       [2.226e-01, 2.726e-01],\n",
       "       [2.842e-01, 2.142e-01],\n",
       "       [2.800e-03, 8.428e-01],\n",
       "       [0.000e+00, 5.700e-01],\n",
       "       [7.275e-01, 7.500e-03],\n",
       "       [7.360e-02, 5.236e-01],\n",
       "       [3.567e-01, 7.670e-02],\n",
       "       [0.000e+00, 9.100e-01],\n",
       "       [8.200e-01, 0.000e+00],\n",
       "       [6.500e-01, 0.000e+00],\n",
       "       [2.646e-01, 1.460e-02],\n",
       "       [2.220e-02, 5.922e-01],\n",
       "       [1.430e-02, 7.743e-01],\n",
       "       [7.098e-01, 1.980e-02],\n",
       "       [6.384e-01, 3.840e-02],\n",
       "       [5.796e-01, 4.960e-02],\n",
       "       [1.680e-02, 4.268e-01],\n",
       "       [0.000e+00, 8.600e-01],\n",
       "       [7.482e-01, 1.820e-02],\n",
       "       [4.752e-01, 5.520e-02],\n",
       "       [4.900e-01, 0.000e+00],\n",
       "       [3.200e-03, 8.232e-01],\n",
       "       [7.626e-01, 1.260e-02],\n",
       "       [1.450e-02, 6.745e-01],\n",
       "       [4.200e-01, 0.000e+00],\n",
       "       [4.800e-03, 5.148e-01],\n",
       "       [7.296e-01, 9.600e-03],\n",
       "       [8.400e-01, 0.000e+00],\n",
       "       [6.000e-03, 8.360e-01],\n",
       "       [2.592e-01, 2.392e-01],\n",
       "       [5.700e-01, 0.000e+00],\n",
       "       [8.544e-01, 4.400e-03],\n",
       "       [5.170e-01, 2.700e-02],\n",
       "       [5.400e-03, 4.554e-01],\n",
       "       [7.700e-01, 0.000e+00],\n",
       "       [2.100e-03, 7.821e-01],\n",
       "       [8.736e-01, 3.600e-03],\n",
       "       [0.000e+00, 7.100e-01],\n",
       "       [5.300e-01, 0.000e+00],\n",
       "       [0.000e+00, 7.500e-01],\n",
       "       [3.900e-01, 1.200e-01],\n",
       "       [4.582e-01, 8.820e-02],\n",
       "       [0.000e+00, 7.300e-01],\n",
       "       [6.600e-01, 0.000e+00],\n",
       "       [9.600e-03, 8.096e-01],\n",
       "       [7.524e-01, 2.400e-03],\n",
       "       [9.700e-01, 0.000e+00],\n",
       "       [9.506e-01, 6.000e-04],\n",
       "       [5.610e-01, 5.100e-02],\n",
       "       [6.014e-01, 1.140e-02],\n",
       "       [4.000e-03, 7.840e-01],\n",
       "       [0.000e+00, 7.400e-01],\n",
       "       [8.613e-01, 1.300e-03],\n",
       "       [4.428e-01, 8.280e-02],\n",
       "       [2.500e-02, 6.750e-01],\n",
       "       [7.623e-01, 2.300e-03],\n",
       "       [6.175e-01, 1.750e-02],\n",
       "       [1.472e-01, 2.772e-01],\n",
       "       [0.000e+00, 7.100e-01],\n",
       "       [1.104e-01, 4.004e-01],\n",
       "       [5.400e-02, 5.440e-01],\n",
       "       [8.000e-01, 0.000e+00],\n",
       "       [9.360e-02, 2.436e-01],\n",
       "       [2.400e-03, 7.524e-01],\n",
       "       [1.150e-02, 7.315e-01],\n",
       "       [7.200e-01, 0.000e+00],\n",
       "       [3.450e-02, 6.545e-01],\n",
       "       [5.530e-01, 6.300e-02],\n",
       "       [7.980e-01, 8.000e-03],\n",
       "       [1.215e-01, 4.015e-01],\n",
       "       [8.316e-01, 1.600e-03],\n",
       "       [0.000e+00, 9.300e-01],\n",
       "       [1.872e-01, 1.672e-01],\n",
       "       [7.000e-04, 9.207e-01],\n",
       "       [2.250e-01, 1.750e-01],\n",
       "       [4.784e-01, 3.840e-02],\n",
       "       [4.140e-01, 4.400e-02],\n",
       "       [1.128e-01, 4.028e-01],\n",
       "       [9.100e-01, 0.000e+00],\n",
       "       [8.170e-01, 7.000e-03],\n",
       "       [0.000e+00, 8.800e-01],\n",
       "       [3.900e-03, 8.439e-01],\n",
       "       [5.170e-01, 2.700e-02],\n",
       "       [6.622e-01, 3.220e-02],\n",
       "       [0.000e+00, 8.600e-01],\n",
       "       [0.000e+00, 6.900e-01],\n",
       "       [1.020e-02, 7.802e-01],\n",
       "       [1.400e-03, 8.514e-01],\n",
       "       [4.257e-01, 5.700e-03],\n",
       "       [1.800e-02, 3.880e-01],\n",
       "       [1.820e-02, 6.882e-01],\n",
       "       [6.900e-03, 7.469e-01],\n",
       "       [9.000e-01, 0.000e+00],\n",
       "       [5.880e-01, 8.000e-03],\n",
       "       [9.200e-03, 5.292e-01],\n",
       "       [6.336e-01, 3.600e-03],\n",
       "       [6.400e-03, 3.564e-01],\n",
       "       [4.400e-03, 7.644e-01],\n",
       "       [4.059e-01, 5.900e-03],\n",
       "       [5.049e-01, 4.900e-03],\n",
       "       [6.800e-01, 0.000e+00],\n",
       "       [9.009e-01, 9.000e-04],\n",
       "       [5.684e-01, 8.400e-03],\n",
       "       [6.900e-02, 4.590e-01],\n",
       "       [5.500e-03, 4.455e-01],\n",
       "       [7.154e-01, 5.400e-03],\n",
       "       [0.000e+00, 6.100e-01],\n",
       "       [1.500e-02, 6.650e-01],\n",
       "       [1.240e-01, 3.040e-01],\n",
       "       [3.200e-03, 8.832e-01],\n",
       "       [9.200e-01, 0.000e+00],\n",
       "       [0.000e+00, 4.100e-01],\n",
       "       [1.890e-01, 7.900e-02],\n",
       "       [5.250e-02, 5.925e-01],\n",
       "       [1.540e-02, 7.654e-01],\n",
       "       [8.514e-01, 1.400e-03],\n",
       "       [1.080e-02, 6.208e-01],\n",
       "       [8.000e-04, 9.108e-01],\n",
       "       [0.000e+00, 9.300e-01],\n",
       "       [5.346e-01, 4.600e-03],\n",
       "       [5.880e-02, 5.688e-01],\n",
       "       [3.640e-02, 6.364e-01],\n",
       "       [5.300e-01, 0.000e+00],\n",
       "       [7.800e-01, 0.000e+00],\n",
       "       [5.673e-01, 2.730e-02],\n",
       "       [5.130e-01, 4.300e-02],\n",
       "       [5.300e-01, 0.000e+00],\n",
       "       [8.342e-01, 4.200e-03],\n",
       "       [9.405e-01, 5.000e-04],\n",
       "       [2.520e-02, 5.952e-01],\n",
       "       [5.500e-03, 4.455e-01],\n",
       "       [3.840e-02, 5.984e-01],\n",
       "       [2.660e-02, 5.766e-01],\n",
       "       [3.600e-03, 8.036e-01],\n",
       "       [0.000e+00, 7.500e-01],\n",
       "       [0.000e+00, 8.300e-01],\n",
       "       [2.600e-01, 2.100e-01],\n",
       "       [4.508e-01, 1.080e-02],\n",
       "       [6.080e-02, 5.208e-01],\n",
       "       [6.400e-01, 4.000e-02],\n",
       "       [1.980e-01, 3.080e-01],\n",
       "       [6.240e-01, 1.400e-02],\n",
       "       [0.000e+00, 2.600e-01],\n",
       "       [8.811e-01, 1.100e-03],\n",
       "       [6.600e-01, 0.000e+00],\n",
       "       [2.090e-01, 3.900e-02],\n",
       "       [6.500e-01, 0.000e+00],\n",
       "       [7.000e-03, 6.370e-01],\n",
       "       [7.900e-01, 0.000e+00],\n",
       "       [5.915e-01, 3.150e-02],\n",
       "       [2.730e-02, 6.873e-01],\n",
       "       [3.220e-01, 1.620e-01],\n",
       "       [3.400e-03, 6.534e-01],\n",
       "       [1.700e-03, 8.217e-01],\n",
       "       [1.786e-01, 3.286e-01],\n",
       "       [1.800e-01, 3.300e-01],\n",
       "       [5.394e-01, 4.940e-02],\n",
       "       [0.000e+00, 7.100e-01],\n",
       "       [1.500e-02, 6.650e-01],\n",
       "       [8.300e-02, 1.530e-01],\n",
       "       [1.420e-02, 2.842e-01],\n",
       "       [4.350e-02, 6.035e-01],\n",
       "       [2.420e-02, 6.942e-01],\n",
       "       [9.600e-03, 7.896e-01],\n",
       "       [1.530e-02, 4.753e-01],\n",
       "       [6.138e-01, 3.800e-03],\n",
       "       [1.300e-02, 7.030e-01],\n",
       "       [3.120e-02, 4.512e-01],\n",
       "       [0.000e+00, 4.300e-01],\n",
       "       [5.000e-04, 9.405e-01],\n",
       "       [1.800e-03, 8.918e-01],\n",
       "       [3.960e-01, 6.600e-02],\n",
       "       [8.554e-01, 5.400e-03],\n",
       "       [2.964e-01, 2.064e-01],\n",
       "       [3.680e-01, 1.080e-01],\n",
       "       [4.653e-01, 5.300e-03],\n",
       "       [5.915e-01, 3.150e-02],\n",
       "       [7.938e-01, 3.800e-03],\n",
       "       [0.000e+00, 5.300e-01],\n",
       "       [7.990e-01, 9.000e-03],\n",
       "       [7.600e-01, 1.000e-02],\n",
       "       [0.000e+00, 7.600e-01],\n",
       "       [6.144e-01, 1.440e-02],\n",
       "       [4.620e-01, 7.200e-02],\n",
       "       [4.300e-03, 5.643e-01],\n",
       "       [4.800e-03, 8.448e-01],\n",
       "       [4.720e-01, 8.200e-02],\n",
       "       [6.435e-01, 3.500e-03],\n",
       "       [2.964e-01, 2.064e-01],\n",
       "       [0.000e+00, 8.900e-01],\n",
       "       [5.016e-01, 5.160e-02],\n",
       "       [7.200e-01, 0.000e+00]])"
      ]
     },
     "execution_count": 31,
     "metadata": {},
     "output_type": "execute_result"
    }
   ],
   "source": [
    "final"
   ]
  },
  {
   "cell_type": "code",
   "execution_count": 32,
   "metadata": {},
   "outputs": [
    {
     "data": {
      "text/plain": [
       "(320, 2)"
      ]
     },
     "execution_count": 32,
     "metadata": {},
     "output_type": "execute_result"
    }
   ],
   "source": [
    "final.shape"
   ]
  },
  {
   "cell_type": "code",
   "execution_count": 33,
   "metadata": {},
   "outputs": [
    {
     "name": "stdout",
     "output_type": "stream",
     "text": [
      "[0.316  0.6762 0.4536 0.87   0.765  0.891  0.752  0.7821 0.2366 0.2744\n",
      " 0.3612 0.3854 0.9118 0.2565 0.5481 0.9    0.224  0.4312 0.6612 0.7178\n",
      " 0.7644 0.8624 0.64   0.82   0.8178 0.6237 0.93   0.308  0.8118 0.5751\n",
      " 0.62   0.4788 0.3477 0.9024 0.36   0.68   0.8084 0.5481 0.74   0.2856\n",
      " 0.2054 0.62   0.9025 0.5244 0.5664 0.3552 0.4824 0.5824 0.8811 0.84\n",
      " 0.7227 0.62   0.44   0.5395 0.8342 0.7084 0.5044 0.9021 0.4266 0.2058\n",
      " 0.8075 0.5782 0.3772 0.8184 0.9009 0.9    0.3456 0.57   0.2639 0.3003\n",
      " 0.79   0.71   0.874  0.7553 0.5712 0.6708 0.8096 0.688  0.2967 0.84\n",
      " 0.78   0.95   0.7663 0.6853 0.624  0.624  0.7912 0.168  0.7128 0.792\n",
      " 0.8544 0.8232 0.57   0.8099 0.6664 0.4059 0.8091 0.7128 0.5896 0.3476\n",
      " 0.506  0.8428 0.6336 0.442  0.7505 0.6674 0.89   0.6174 0.9603 0.1914\n",
      " 0.6175 0.774  0.595  0.456  0.8075 0.62   0.61   0.28   0.8232 0.513\n",
      " 0.8811 0.8316 0.6806 0.4929 0.9215 0.7524 0.8134 0.7802 0.2726 0.2842\n",
      " 0.8428 0.57   0.7275 0.5236 0.3567 0.91   0.82   0.65   0.2646 0.5922\n",
      " 0.7743 0.7098 0.6384 0.5796 0.4268 0.86   0.7482 0.4752 0.49   0.8232\n",
      " 0.7626 0.6745 0.42   0.5148 0.7296 0.84   0.836  0.2592 0.57   0.8544\n",
      " 0.517  0.4554 0.77   0.7821 0.8736 0.71   0.53   0.75   0.39   0.4582\n",
      " 0.73   0.66   0.8096 0.7524 0.97   0.9506 0.561  0.6014 0.784  0.74\n",
      " 0.8613 0.4428 0.675  0.7623 0.6175 0.2772 0.71   0.4004 0.544  0.8\n",
      " 0.2436 0.7524 0.7315 0.72   0.6545 0.553  0.798  0.4015 0.8316 0.93\n",
      " 0.1872 0.9207 0.225  0.4784 0.414  0.4028 0.91   0.817  0.88   0.8439\n",
      " 0.517  0.6622 0.86   0.69   0.7802 0.8514 0.4257 0.388  0.6882 0.7469\n",
      " 0.9    0.588  0.5292 0.6336 0.3564 0.7644 0.4059 0.5049 0.68   0.9009\n",
      " 0.5684 0.459  0.4455 0.7154 0.61   0.665  0.304  0.8832 0.92   0.41\n",
      " 0.189  0.5925 0.7654 0.8514 0.6208 0.9108 0.93   0.5346 0.5688 0.6364\n",
      " 0.53   0.78   0.5673 0.513  0.53   0.8342 0.9405 0.5952 0.4455 0.5984\n",
      " 0.5766 0.8036 0.75   0.83   0.26   0.4508 0.5208 0.64   0.308  0.624\n",
      " 0.26   0.8811 0.66   0.209  0.65   0.637  0.79   0.5915 0.6873 0.322\n",
      " 0.6534 0.8217 0.3286 0.33   0.5394 0.71   0.665  0.153  0.2842 0.6035\n",
      " 0.6942 0.7896 0.4753 0.6138 0.703  0.4512 0.43   0.9405 0.8918 0.396\n",
      " 0.8554 0.2964 0.368  0.4653 0.5915 0.7938 0.53   0.799  0.76   0.76\n",
      " 0.6144 0.462  0.5643 0.8448 0.472  0.6435 0.2964 0.89   0.5016 0.72  ]\n"
     ]
    }
   ],
   "source": [
    "import numpy as np\n",
    "\n",
    "def maxelement_efficient(arr):\n",
    "  max_element_per_row = np.amax(arr, axis=1)\n",
    "  return max_element_per_row\n",
    "\n",
    "y_predictfinal = maxelement_efficient(final)\n",
    "\n",
    "print(y_predictfinal)\n"
   ]
  },
  {
   "cell_type": "code",
   "execution_count": 34,
   "metadata": {},
   "outputs": [],
   "source": [
    "y_predictfinal=np.array(y_predictfinal)"
   ]
  },
  {
   "cell_type": "code",
   "execution_count": 35,
   "metadata": {},
   "outputs": [
    {
     "data": {
      "text/plain": [
       "array([0.316 , 0.6762, 0.4536, 0.87  , 0.765 , 0.891 , 0.752 , 0.7821,\n",
       "       0.2366, 0.2744, 0.3612, 0.3854, 0.9118, 0.2565, 0.5481, 0.9   ,\n",
       "       0.224 , 0.4312, 0.6612, 0.7178, 0.7644, 0.8624, 0.64  , 0.82  ,\n",
       "       0.8178, 0.6237, 0.93  , 0.308 , 0.8118, 0.5751, 0.62  , 0.4788,\n",
       "       0.3477, 0.9024, 0.36  , 0.68  , 0.8084, 0.5481, 0.74  , 0.2856,\n",
       "       0.2054, 0.62  , 0.9025, 0.5244, 0.5664, 0.3552, 0.4824, 0.5824,\n",
       "       0.8811, 0.84  , 0.7227, 0.62  , 0.44  , 0.5395, 0.8342, 0.7084,\n",
       "       0.5044, 0.9021, 0.4266, 0.2058, 0.8075, 0.5782, 0.3772, 0.8184,\n",
       "       0.9009, 0.9   , 0.3456, 0.57  , 0.2639, 0.3003, 0.79  , 0.71  ,\n",
       "       0.874 , 0.7553, 0.5712, 0.6708, 0.8096, 0.688 , 0.2967, 0.84  ,\n",
       "       0.78  , 0.95  , 0.7663, 0.6853, 0.624 , 0.624 , 0.7912, 0.168 ,\n",
       "       0.7128, 0.792 , 0.8544, 0.8232, 0.57  , 0.8099, 0.6664, 0.4059,\n",
       "       0.8091, 0.7128, 0.5896, 0.3476, 0.506 , 0.8428, 0.6336, 0.442 ,\n",
       "       0.7505, 0.6674, 0.89  , 0.6174, 0.9603, 0.1914, 0.6175, 0.774 ,\n",
       "       0.595 , 0.456 , 0.8075, 0.62  , 0.61  , 0.28  , 0.8232, 0.513 ,\n",
       "       0.8811, 0.8316, 0.6806, 0.4929, 0.9215, 0.7524, 0.8134, 0.7802,\n",
       "       0.2726, 0.2842, 0.8428, 0.57  , 0.7275, 0.5236, 0.3567, 0.91  ,\n",
       "       0.82  , 0.65  , 0.2646, 0.5922, 0.7743, 0.7098, 0.6384, 0.5796,\n",
       "       0.4268, 0.86  , 0.7482, 0.4752, 0.49  , 0.8232, 0.7626, 0.6745,\n",
       "       0.42  , 0.5148, 0.7296, 0.84  , 0.836 , 0.2592, 0.57  , 0.8544,\n",
       "       0.517 , 0.4554, 0.77  , 0.7821, 0.8736, 0.71  , 0.53  , 0.75  ,\n",
       "       0.39  , 0.4582, 0.73  , 0.66  , 0.8096, 0.7524, 0.97  , 0.9506,\n",
       "       0.561 , 0.6014, 0.784 , 0.74  , 0.8613, 0.4428, 0.675 , 0.7623,\n",
       "       0.6175, 0.2772, 0.71  , 0.4004, 0.544 , 0.8   , 0.2436, 0.7524,\n",
       "       0.7315, 0.72  , 0.6545, 0.553 , 0.798 , 0.4015, 0.8316, 0.93  ,\n",
       "       0.1872, 0.9207, 0.225 , 0.4784, 0.414 , 0.4028, 0.91  , 0.817 ,\n",
       "       0.88  , 0.8439, 0.517 , 0.6622, 0.86  , 0.69  , 0.7802, 0.8514,\n",
       "       0.4257, 0.388 , 0.6882, 0.7469, 0.9   , 0.588 , 0.5292, 0.6336,\n",
       "       0.3564, 0.7644, 0.4059, 0.5049, 0.68  , 0.9009, 0.5684, 0.459 ,\n",
       "       0.4455, 0.7154, 0.61  , 0.665 , 0.304 , 0.8832, 0.92  , 0.41  ,\n",
       "       0.189 , 0.5925, 0.7654, 0.8514, 0.6208, 0.9108, 0.93  , 0.5346,\n",
       "       0.5688, 0.6364, 0.53  , 0.78  , 0.5673, 0.513 , 0.53  , 0.8342,\n",
       "       0.9405, 0.5952, 0.4455, 0.5984, 0.5766, 0.8036, 0.75  , 0.83  ,\n",
       "       0.26  , 0.4508, 0.5208, 0.64  , 0.308 , 0.624 , 0.26  , 0.8811,\n",
       "       0.66  , 0.209 , 0.65  , 0.637 , 0.79  , 0.5915, 0.6873, 0.322 ,\n",
       "       0.6534, 0.8217, 0.3286, 0.33  , 0.5394, 0.71  , 0.665 , 0.153 ,\n",
       "       0.2842, 0.6035, 0.6942, 0.7896, 0.4753, 0.6138, 0.703 , 0.4512,\n",
       "       0.43  , 0.9405, 0.8918, 0.396 , 0.8554, 0.2964, 0.368 , 0.4653,\n",
       "       0.5915, 0.7938, 0.53  , 0.799 , 0.76  , 0.76  , 0.6144, 0.462 ,\n",
       "       0.5643, 0.8448, 0.472 , 0.6435, 0.2964, 0.89  , 0.5016, 0.72  ])"
      ]
     },
     "execution_count": 35,
     "metadata": {},
     "output_type": "execute_result"
    }
   ],
   "source": [
    "y_predictfinal"
   ]
  },
  {
   "cell_type": "code",
   "execution_count": 36,
   "metadata": {},
   "outputs": [
    {
     "data": {
      "text/plain": [
       "(320,)"
      ]
     },
     "execution_count": 36,
     "metadata": {},
     "output_type": "execute_result"
    }
   ],
   "source": [
    "y_predictfinal.shape"
   ]
  },
  {
   "cell_type": "code",
   "execution_count": 37,
   "metadata": {},
   "outputs": [
    {
     "name": "stdout",
     "output_type": "stream",
     "text": [
      "[0 1 1 0 0 1 1 1 0 1 1 1 0 0 0 1 1 1 1 1 1 1 0 1 0 0 0 0 0 0 1 1 0 0 1 0 1\n",
      " 1 1 0 0 0 0 0 1 0 0 0 0 0 1 0 1 0 0 1 1 1 0 1 0 0 1 0 0 0 1 1 1 0 0 0 1 0\n",
      " 0 1 0 1 1 0 1 1 0 1 1 1 1 0 0 1 1 1 1 1 1 1 1 1 1 1 0 0 1 1 1 0 1 1 0 0 0\n",
      " 1 0 0 1 1 0 1 0 1 1 0 0 0 0 0 0 0 1 0 1 1 0 1 0 1 0 0 0 1 1 0 0 0 1 1 0 0\n",
      " 0 1 0 1 0 1 0 0 1 0 0 0 0 1 0 1 0 1 0 1 0 0 1 0 1 0 0 0 0 0 1 1 0 0 1 0 0\n",
      " 1 1 1 1 0 1 1 1 0 1 0 0 1 0 1 0 1 0 0 0 1 0 0 1 1 0 0 1 1 1 1 0 1 1 1 0 0\n",
      " 1 0 1 1 0 0 0 0 0 1 1 0 1 1 1 1 0 1 0 1 1 0 1 1 1 0 1 1 0 0 0 0 0 0 0 1 1\n",
      " 1 1 1 1 1 0 0 1 0 1 0 1 0 0 0 0 1 0 0 1 0 1 1 1 1 0 1 1 1 1 1 1 1 1 0 1 1\n",
      " 1 1 1 0 0 0 0 0 0 0 1 0 0 1 0 0 1 1 0 0 0 1 0 0]\n"
     ]
    }
   ],
   "source": [
    "import numpy as np\n",
    "\n",
    "def maxelement_column(arr):\n",
    "  max_element_column = np.argmax(arr, axis=1)\n",
    "  return max_element_column\n",
    "\n",
    "y_predictlabel = maxelement_column(final)\n",
    "print(y_predictlabel)"
   ]
  },
  {
   "cell_type": "code",
   "execution_count": 38,
   "metadata": {},
   "outputs": [],
   "source": [
    "y_predictlabel=np.array(y_predictlabel)"
   ]
  },
  {
   "cell_type": "code",
   "execution_count": 39,
   "metadata": {},
   "outputs": [
    {
     "data": {
      "text/plain": [
       "(320,)"
      ]
     },
     "execution_count": 39,
     "metadata": {},
     "output_type": "execute_result"
    }
   ],
   "source": [
    "y_predictlabel.shape"
   ]
  },
  {
   "cell_type": "code",
   "execution_count": 40,
   "metadata": {},
   "outputs": [
    {
     "data": {
      "text/plain": [
       "array([0, 1, 1, 0, 0, 1, 1, 1, 0, 1, 1, 1, 0, 0, 0, 1, 1, 1, 1, 1, 1, 1,\n",
       "       0, 1, 0, 0, 0, 0, 0, 0, 1, 1, 0, 0, 1, 0, 1, 1, 1, 0, 0, 0, 0, 0,\n",
       "       1, 0, 0, 0, 0, 0, 1, 0, 1, 0, 0, 1, 1, 1, 0, 1, 0, 0, 1, 0, 0, 0,\n",
       "       1, 1, 1, 0, 0, 0, 1, 0, 0, 1, 0, 1, 1, 0, 1, 1, 0, 1, 1, 1, 1, 0,\n",
       "       0, 1, 1, 1, 1, 1, 1, 1, 1, 1, 1, 1, 0, 0, 1, 1, 1, 0, 1, 1, 0, 0,\n",
       "       0, 1, 0, 0, 1, 1, 0, 1, 0, 1, 1, 0, 0, 0, 0, 0, 0, 0, 1, 0, 1, 1,\n",
       "       0, 1, 0, 1, 0, 0, 0, 1, 1, 0, 0, 0, 1, 1, 0, 0, 0, 1, 0, 1, 0, 1,\n",
       "       0, 0, 1, 0, 0, 0, 0, 1, 0, 1, 0, 1, 0, 1, 0, 0, 1, 0, 1, 0, 0, 0,\n",
       "       0, 0, 1, 1, 0, 0, 1, 0, 0, 1, 1, 1, 1, 0, 1, 1, 1, 0, 1, 0, 0, 1,\n",
       "       0, 1, 0, 1, 0, 0, 0, 1, 0, 0, 1, 1, 0, 0, 1, 1, 1, 1, 0, 1, 1, 1,\n",
       "       0, 0, 1, 0, 1, 1, 0, 0, 0, 0, 0, 1, 1, 0, 1, 1, 1, 1, 0, 1, 0, 1,\n",
       "       1, 0, 1, 1, 1, 0, 1, 1, 0, 0, 0, 0, 0, 0, 0, 1, 1, 1, 1, 1, 1, 1,\n",
       "       0, 0, 1, 0, 1, 0, 1, 0, 0, 0, 0, 1, 0, 0, 1, 0, 1, 1, 1, 1, 0, 1,\n",
       "       1, 1, 1, 1, 1, 1, 1, 0, 1, 1, 1, 1, 1, 0, 0, 0, 0, 0, 0, 0, 1, 0,\n",
       "       0, 1, 0, 0, 1, 1, 0, 0, 0, 1, 0, 0], dtype=int64)"
      ]
     },
     "execution_count": 40,
     "metadata": {},
     "output_type": "execute_result"
    }
   ],
   "source": [
    "y_predictlabel"
   ]
  },
  {
   "cell_type": "code",
   "execution_count": 41,
   "metadata": {},
   "outputs": [],
   "source": [
    "from sklearn.metrics import confusion_matrix\n",
    "cm_final = confusion_matrix(testLabelsHistogram, y_predictlabel)"
   ]
  },
  {
   "cell_type": "code",
   "execution_count": 42,
   "metadata": {},
   "outputs": [
    {
     "name": "stdout",
     "output_type": "stream",
     "text": [
      "[[156   2]\n",
      " [  5 157]]\n"
     ]
    }
   ],
   "source": [
    "print(cm_final)"
   ]
  },
  {
   "cell_type": "code",
   "execution_count": 54,
   "metadata": {},
   "outputs": [
    {
     "data": {
      "text/plain": [
       "<sklearn.metrics._plot.confusion_matrix.ConfusionMatrixDisplay at 0x16a5ec35e10>"
      ]
     },
     "execution_count": 54,
     "metadata": {},
     "output_type": "execute_result"
    },
    {
     "data": {
      "image/png": "[encoded data removed]",
      "text/plain": [
       "<Figure size 640x480 with 2 Axes>"
      ]
     },
     "metadata": {},
     "output_type": "display_data"
    }
   ],
   "source": [
    "import matplotlib.pyplot as plt\n",
    "from sklearn.metrics import ConfusionMatrixDisplay\n",
    "Cm_plot = ConfusionMatrixDisplay(confusion_matrix=cm_final,display_labels=clf.classes_)\n",
    "Cm_plot.plot()"
   ]
  },
  {
   "cell_type": "code",
   "execution_count": 49,
   "metadata": {},
   "outputs": [],
   "source": [
    "from sklearn.metrics import accuracy_score\n",
    "result= accuracy_score(testLabelsHistogram,y_predictlabel)"
   ]
  },
  {
   "cell_type": "code",
   "execution_count": 44,
   "metadata": {},
   "outputs": [
    {
     "data": {
      "text/plain": [
       "0.978125"
      ]
     },
     "execution_count": 44,
     "metadata": {},
     "output_type": "execute_result"
    }
   ],
   "source": [
    "result"
   ]
  }
 ],
 "metadata": {
  "kernelspec": {
   "display_name": "deepenv",
   "language": "python",
   "name": "python3"
  },
  "language_info": {
   "codemirror_mode": {
    "name": "ipython",
    "version": 3
   },
   "file_extension": ".py",
   "mimetype": "text/x-python",
   "name": "python",
   "nbconvert_exporter": "python",
   "pygments_lexer": "ipython3",
   "version": "3.11.4"
  }
 },
 "nbformat": 4,
 "nbformat_minor": 2
}
